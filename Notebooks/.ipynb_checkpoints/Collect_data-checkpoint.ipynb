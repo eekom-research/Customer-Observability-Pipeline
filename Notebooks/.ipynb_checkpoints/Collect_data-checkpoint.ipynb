{
 "cells": [
  {
   "cell_type": "code",
   "execution_count": 120,
   "id": "a1038961-d746-4672-a02e-a70d40072ad7",
   "metadata": {
    "tags": []
   },
   "outputs": [],
   "source": [
    "from ntscraper import Nitter\n",
    "from helper_functions import compute_unique_primary_key\n",
    "from datetime import datetime, timedelta\n",
    "from db import Model, Session, engine\n",
    "import models\n",
    "from sqlalchemy.orm import clear_mappers\n",
    "from sqlalchemy.exc import IntegrityError\n",
    "from psycopg2.errors import UniqueViolation\n",
    "import pytz"
   ]
  },
  {
   "cell_type": "code",
   "execution_count": 121,
   "id": "72b81ea0-5c58-44b1-b94d-dec31c9f455c",
   "metadata": {
    "tags": []
   },
   "outputs": [
    {
     "data": {
      "text/plain": [
       "<module 'models' from 'C:\\\\Users\\\\Etinosa Ekomwenrenr\\\\lighthouse-datascience-notes\\\\Week_12\\\\final_project_prep\\\\models.py'>"
      ]
     },
     "execution_count": 121,
     "metadata": {},
     "output_type": "execute_result"
    }
   ],
   "source": [
    "Model.metadata.clear()\n",
    "clear_mappers()\n",
    "import importlib\n",
    "# import models\n",
    "importlib.reload(models)\n",
    "\n"
   ]
  },
  {
   "cell_type": "code",
   "execution_count": 94,
   "id": "a337112e-83bf-4360-b9ed-1dec37ebe105",
   "metadata": {},
   "outputs": [
    {
     "name": "stderr",
     "output_type": "stream",
     "text": [
      "Testing instances: 100%|████████████████████████████████████████████████████████████████████████████████████████████████████| 28/28 [00:45<00:00,  1.62s/it]\n"
     ]
    }
   ],
   "source": [
    "scraper = Nitter(log_level=1)"
   ]
  },
  {
   "cell_type": "code",
   "execution_count": 147,
   "id": "123616e0-61d3-421b-8da2-ba289d5e52b5",
   "metadata": {
    "tags": []
   },
   "outputs": [
    {
     "name": "stdout",
     "output_type": "stream",
     "text": [
      "20-Nov-23 09:52:52 - Current stats for gtbank: 14 tweets, 0 threads...\n"
     ]
    }
   ],
   "source": [
    "instance =\"https://nitter.woodland.cafe\"\n",
    "#since = \"2023-01-01\"\n",
    "since = \"2021-11-05\"\n",
    "until = \"2021-11-06\"\n",
    "GTB_tweets = scraper.get_tweets(\"@gtbank\",number=5, \n",
    "                                mode='term',instance=instance,\n",
    "                                since=since,\n",
    "                               until=until)"
   ]
  },
  {
   "cell_type": "code",
   "execution_count": 136,
   "id": "6d08539d-b833-49c5-9d54-26d40ca0118a",
   "metadata": {
    "tags": []
   },
   "outputs": [
    {
     "data": {
      "text/plain": [
       "15"
      ]
     },
     "execution_count": 136,
     "metadata": {},
     "output_type": "execute_result"
    }
   ],
   "source": [
    "len(GTB_tweets['tweets'])"
   ]
  },
  {
   "cell_type": "code",
   "execution_count": 137,
   "id": "790d51c4-bf52-4049-b6a9-b8950f435234",
   "metadata": {
    "tags": []
   },
   "outputs": [
    {
     "data": {
      "text/plain": [
       "dict_keys(['link', 'text', 'user', 'date', 'is-retweet', 'external-link', 'quoted-post', 'stats', 'pictures', 'videos', 'gifs'])"
      ]
     },
     "execution_count": 137,
     "metadata": {},
     "output_type": "execute_result"
    }
   ],
   "source": [
    "GTB_tweets['tweets'][0].keys()"
   ]
  },
  {
   "cell_type": "code",
   "execution_count": 139,
   "id": "8f77cfed-ed36-499f-93d5-dc7e16a9b079",
   "metadata": {
    "tags": []
   },
   "outputs": [],
   "source": [
    "tweet = GTB_tweets['tweets'][0]"
   ]
  },
  {
   "cell_type": "code",
   "execution_count": 140,
   "id": "e6f19fb4-09c9-4972-8351-c0c3caee6c73",
   "metadata": {
    "tags": []
   },
   "outputs": [
    {
     "data": {
      "text/plain": [
       "{'link': 'https://twitter.com/Danieladewunmi3/status/1609700880311279616#m',\n",
       " 'text': '0169252956 Gtbank',\n",
       " 'user': {'name': 'Good_boy🥺',\n",
       "  'username': '@Danieladewunmi3',\n",
       "  'profile_id': '1483018724923871234',\n",
       "  'avatar': 'https://pbs.twimg.com/profile_images/1483018724923871234/5-BBHm30_bigger.jpg'},\n",
       " 'date': 'Jan 1, 2023 · 11:59 PM UTC',\n",
       " 'is-retweet': False,\n",
       " 'external-link': '',\n",
       " 'quoted-post': {},\n",
       " 'stats': {'comments': 0, 'retweets': 0, 'quotes': 0, 'likes': 0},\n",
       " 'pictures': [],\n",
       " 'videos': [],\n",
       " 'gifs': []}"
      ]
     },
     "execution_count": 140,
     "metadata": {},
     "output_type": "execute_result"
    }
   ],
   "source": [
    "tweet"
   ]
  },
  {
   "cell_type": "code",
   "execution_count": 25,
   "id": "d873141d-5134-4897-847c-435773a3b1cd",
   "metadata": {
    "tags": []
   },
   "outputs": [],
   "source": [
    "store_hash = []\n",
    "for tweet in GTB_tweets['tweets']:\n",
    "    input_str = tweet.get('date',None)+tweet.get('user',{}).get('profile_id',None)+str(len(tweet.get('text',None)))\n",
    "    store_hash.append(compute_unique_primary_key(input_str))"
   ]
  },
  {
   "cell_type": "code",
   "execution_count": 30,
   "id": "85aa835c-e183-4308-be4d-97d8393037ed",
   "metadata": {
    "tags": []
   },
   "outputs": [
    {
     "data": {
      "text/plain": [
       "64"
      ]
     },
     "execution_count": 30,
     "metadata": {},
     "output_type": "execute_result"
    }
   ],
   "source": [
    "len(store_hash[0])"
   ]
  },
  {
   "cell_type": "code",
   "execution_count": 18,
   "id": "74c73c9f-3f6a-44f9-ae6a-911b0c7e2463",
   "metadata": {},
   "outputs": [
    {
     "data": {
      "text/plain": [
       "'638cebf01515cd73cf6f90df81ffe71477d7d0f24c41af8f756a09a2386b4cf6'"
      ]
     },
     "execution_count": 18,
     "metadata": {},
     "output_type": "execute_result"
    }
   ],
   "source": [
    "compute_unique_primary_key(input_str)"
   ]
  },
  {
   "cell_type": "code",
   "execution_count": 65,
   "id": "c071d135-ebd9-4a18-b0dc-e4c611144207",
   "metadata": {
    "tags": []
   },
   "outputs": [
    {
     "data": {
      "text/plain": [
       "39"
      ]
     },
     "execution_count": 65,
     "metadata": {},
     "output_type": "execute_result"
    }
   ],
   "source": [
    "len(dir(models.Tweet))"
   ]
  },
  {
   "cell_type": "code",
   "execution_count": 122,
   "id": "5869e02d-ed57-4a68-84a9-349e0ac5749c",
   "metadata": {
    "tags": []
   },
   "outputs": [],
   "source": [
    "Model.metadata.drop_all(engine)\n",
    "Model.metadata.create_all(engine)"
   ]
  },
  {
   "cell_type": "code",
   "execution_count": 123,
   "id": "2ea5c077-b010-4711-9a05-a6f2345ed86f",
   "metadata": {
    "tags": []
   },
   "outputs": [],
   "source": [
    "company_data = {'id':1,\n",
    "                'name':'Guaranty Trust Bank',\n",
    "                'nickname': 'gtbank',\n",
    "                'country': 'Nigeria',\n",
    "                'industry': 'Banking',\n",
    "                'username': '@gtbank'\n",
    "}\n"
   ]
  },
  {
   "cell_type": "code",
   "execution_count": 124,
   "id": "4f726f33-bae5-4570-a8c1-27998565a7e8",
   "metadata": {
    "tags": []
   },
   "outputs": [],
   "source": [
    "company = models.Company(**company_data)"
   ]
  },
  {
   "cell_type": "code",
   "execution_count": 125,
   "id": "70f4b81f-bc09-4c5e-b172-5d2b05b68e4c",
   "metadata": {
    "tags": []
   },
   "outputs": [
    {
     "data": {
      "text/plain": [
       "Company(1, \"Guaranty Trust Bank\")"
      ]
     },
     "execution_count": 125,
     "metadata": {},
     "output_type": "execute_result"
    }
   ],
   "source": [
    "company"
   ]
  },
  {
   "cell_type": "code",
   "execution_count": 126,
   "id": "1f0abba0-256a-49cb-bba9-fe1a67757836",
   "metadata": {
    "tags": []
   },
   "outputs": [],
   "source": [
    "with Session() as session:\n",
    "    with session.begin():\n",
    "        session.add(company)"
   ]
  },
  {
   "cell_type": "code",
   "execution_count": null,
   "id": "f7451969-9038-4bcd-a2c2-4cf28609de58",
   "metadata": {},
   "outputs": [],
   "source": []
  },
  {
   "cell_type": "code",
   "execution_count": 127,
   "id": "d0d68fae-56f4-4152-83b5-f7ce3f087b37",
   "metadata": {
    "tags": []
   },
   "outputs": [],
   "source": [
    "def get_tweets(since,until,username):\n",
    "    tweets = scraper.get_tweets(username,number=1000, \n",
    "                                mode='term',instance=instance,\n",
    "                                since=since,\n",
    "                               until=until)\n",
    "    return tweets"
   ]
  },
  {
   "cell_type": "code",
   "execution_count": 134,
   "id": "21013b49-d1fd-485e-8d59-4612b1aa0b62",
   "metadata": {
    "tags": []
   },
   "outputs": [],
   "source": [
    "def process_tweets(tweets,company_id):\n",
    "    store_tweets = []\n",
    "    for tweet in tweets['tweets']:\n",
    "        input_str = tweet.get('date',None)+tweet.get('user',{}).get('profile_id',None)+str(len(tweet.get('text',None)))\n",
    "        store_hash = compute_unique_primary_key(input_str)\n",
    "        date_str = tweet.get('date',None)\n",
    "        if date_str:\n",
    "            # Parse the datetime string, omitting the 'UTC' part\n",
    "            parsed_date = datetime.strptime(date_str, '%b %d, %Y · %I:%M %p UTC')\n",
    "            # Define the UTC timezone\n",
    "            utc = pytz.timezone('UTC')\n",
    "            date_str = utc.localize(parsed_date)\n",
    "            \n",
    "        data = { 'id':str(store_hash),\n",
    "                'text':tweet.get('text',None),\n",
    "                'profile_id':tweet.get('user',{}).get('profile_id',None),\n",
    "                'stats_likes':int(tweet.get('stats',{}).get('likes',0)),\n",
    "                'stats_retweets':int(tweet.get('stats',{}).get('retweets',0)),\n",
    "                'company_id': int(company_id),\n",
    "                'date': date_str\n",
    "        }\n",
    "        store_tweets.append(data)\n",
    "    return store_tweets"
   ]
  },
  {
   "cell_type": "code",
   "execution_count": 129,
   "id": "ebc02954-5ad4-42bd-ba5d-a8d7f0b3e825",
   "metadata": {
    "tags": []
   },
   "outputs": [],
   "source": [
    "def store_in_db(tweets):\n",
    "    with Session() as session:\n",
    "        for tweet in tweets:\n",
    "            tweet_item = models.Tweet(**tweet)\n",
    "            try:\n",
    "                session.add(tweet_item)\n",
    "                session.commit()  # Commit each tweet individually\n",
    "            except IntegrityError:\n",
    "                session.rollback()  # Rollback if there's an error\n",
    "                print(f\"Tweet record already exists\")  # More informative error message\n"
   ]
  },
  {
   "cell_type": "code",
   "execution_count": 143,
   "id": "b7b35be1-5750-4e8f-bd43-3a3a7d0b23ee",
   "metadata": {},
   "outputs": [],
   "source": [
    "def weekly_intervals_caller(since, until,username,company_id):\n",
    "    start_date = datetime.strptime(since, \"%Y-%m-%d\")\n",
    "    end_date = datetime.strptime(until, \"%Y-%m-%d\")\n",
    "    temp_until = start_date\n",
    "\n",
    "    while temp_until < end_date:\n",
    "        print(start_date)\n",
    "        temp_until = start_date + timedelta(days=7)\n",
    "        # Adjust temp_until to not exceed the end_date\n",
    "        if temp_until > end_date:\n",
    "            temp_until = end_date\n",
    "\n",
    "        tweets = get_tweets(since=start_date.strftime(\"%Y-%m-%d\"), \n",
    "                            until=temp_until.strftime(\"%Y-%m-%d\"),\n",
    "                           username=username)\n",
    "        processed_tweets = process_tweets(tweets,company_id)\n",
    "        store_in_db(processed_tweets)\n",
    "        \n",
    "        # Set the new start_date for the next iteration\n",
    "        start_date = temp_until"
   ]
  },
  {
   "cell_type": "code",
   "execution_count": 91,
   "id": "d8440afd-1350-4fd3-bae8-a6f62fbb3c72",
   "metadata": {},
   "outputs": [],
   "source": [
    "instance =\"https://nitter.woodland.cafe\"\n",
    "since = \"2023-01-01\"\n",
    "until = \"2023-01-30\""
   ]
  },
  {
   "cell_type": "code",
   "execution_count": null,
   "id": "9f90d3e0-7987-41ec-abb9-e0c2054e68c2",
   "metadata": {
    "tags": []
   },
   "outputs": [
    {
     "name": "stdout",
     "output_type": "stream",
     "text": [
      "2021-11-04 00:00:00\n",
      "20-Nov-23 09:53:50 - Current stats for gtbank: 15 tweets, 0 threads...\n",
      "2021-11-11 00:00:00\n",
      "20-Nov-23 09:53:57 - Current stats for gtbank: 18 tweets, 0 threads...\n",
      "2021-11-18 00:00:00\n",
      "20-Nov-23 09:54:04 - Current stats for gtbank: 16 tweets, 0 threads...\n",
      "2021-11-25 00:00:00\n",
      "20-Nov-23 09:54:11 - Current stats for gtbank: 17 tweets, 0 threads...\n",
      "2021-12-02 00:00:00\n",
      "20-Nov-23 09:54:18 - Current stats for gtbank: 10 tweets, 0 threads...\n",
      "2021-12-09 00:00:00\n",
      "20-Nov-23 09:54:31 - Current stats for gtbank: 13 tweets, 0 threads...\n",
      "2021-12-16 00:00:00\n",
      "20-Nov-23 09:54:37 - Current stats for gtbank: 10 tweets, 0 threads...\n",
      "2021-12-23 00:00:00\n",
      "20-Nov-23 09:54:44 - Current stats for gtbank: 4 tweets, 0 threads...\n",
      "20-Nov-23 09:54:48 - Current stats for gtbank: 8 tweets, 0 threads...\n",
      "20-Nov-23 09:54:52 - Current stats for gtbank: 14 tweets, 0 threads...\n",
      "2021-12-30 00:00:00\n",
      "20-Nov-23 09:54:59 - Current stats for gtbank: 7 tweets, 0 threads...\n",
      "20-Nov-23 09:55:04 - Current stats for gtbank: 16 tweets, 0 threads...\n",
      "2022-01-06 00:00:00\n",
      "20-Nov-23 09:55:10 - Current stats for gtbank: 10 tweets, 0 threads...\n",
      "2022-01-13 00:00:00\n",
      "20-Nov-23 09:55:17 - Current stats for gtbank: 9 tweets, 0 threads...\n",
      "20-Nov-23 09:55:21 - Current stats for gtbank: 22 tweets, 0 threads...\n",
      "2022-01-20 00:00:00\n",
      "20-Nov-23 09:55:28 - Current stats for gtbank: 12 tweets, 0 threads...\n",
      "2022-01-27 00:00:00\n",
      "20-Nov-23 09:55:34 - Current stats for gtbank: 8 tweets, 0 threads...\n",
      "20-Nov-23 09:55:38 - Current stats for gtbank: 17 tweets, 0 threads...\n",
      "2022-02-03 00:00:00\n",
      "20-Nov-23 09:55:45 - Current stats for gtbank: 4 tweets, 0 threads...\n",
      "20-Nov-23 09:55:49 - Current stats for gtbank: 9 tweets, 0 threads...\n",
      "20-Nov-23 09:55:53 - Current stats for gtbank: 20 tweets, 0 threads...\n",
      "2022-02-10 00:00:00\n",
      "20-Nov-23 09:55:59 - Current stats for gtbank: 9 tweets, 0 threads...\n",
      "20-Nov-23 09:56:04 - Current stats for gtbank: 26 tweets, 0 threads...\n",
      "2022-02-17 00:00:00\n",
      "20-Nov-23 09:56:10 - Current stats for gtbank: 13 tweets, 0 threads...\n",
      "2022-02-24 00:00:00\n",
      "20-Nov-23 09:56:17 - Current stats for gtbank: 11 tweets, 0 threads...\n",
      "2022-03-03 00:00:00\n",
      "20-Nov-23 09:56:30 - https://nitter.woodland.cafe unreachable. Trying https://nitter.uni-sonia.com\n",
      "20-Nov-23 09:56:37 - Current stats for gtbank: 13 tweets, 0 threads...\n",
      "2022-03-10 00:00:00\n",
      "20-Nov-23 09:56:43 - Current stats for gtbank: 6 tweets, 0 threads...\n",
      "20-Nov-23 09:56:48 - Current stats for gtbank: 16 tweets, 0 threads...\n",
      "2022-03-17 00:00:00\n",
      "20-Nov-23 09:56:54 - Current stats for gtbank: 10 tweets, 0 threads...\n",
      "2022-03-24 00:00:00\n",
      "20-Nov-23 09:57:01 - Current stats for gtbank: 16 tweets, 0 threads...\n",
      "2022-03-31 00:00:00\n",
      "20-Nov-23 09:57:08 - Current stats for gtbank: 15 tweets, 0 threads...\n",
      "Tweet record already exists\n",
      "Tweet record already exists\n",
      "2022-04-07 00:00:00\n",
      "20-Nov-23 09:57:15 - Current stats for gtbank: 11 tweets, 0 threads...\n",
      "2022-04-14 00:00:00\n",
      "20-Nov-23 09:57:21 - Current stats for gtbank: 15 tweets, 0 threads...\n",
      "2022-04-21 00:00:00\n",
      "20-Nov-23 09:57:28 - Current stats for gtbank: 15 tweets, 0 threads...\n",
      "2022-04-28 00:00:00\n",
      "20-Nov-23 09:57:35 - Current stats for gtbank: 14 tweets, 0 threads...\n",
      "2022-05-05 00:00:00\n",
      "20-Nov-23 09:57:41 - Current stats for gtbank: 14 tweets, 0 threads...\n",
      "Tweet record already exists\n",
      "2022-05-12 00:00:00\n",
      "20-Nov-23 09:57:48 - Current stats for gtbank: 13 tweets, 0 threads...\n",
      "2022-05-19 00:00:00\n",
      "20-Nov-23 09:57:54 - Current stats for gtbank: 2 tweets, 0 threads...\n",
      "2022-05-26 00:00:00\n",
      "20-Nov-23 09:58:05 - Current stats for gtbank: 13 tweets, 0 threads...\n",
      "Tweet record already exists\n",
      "2022-06-02 00:00:00\n",
      "20-Nov-23 09:58:12 - Current stats for gtbank: 15 tweets, 0 threads...\n",
      "2022-06-09 00:00:00\n",
      "20-Nov-23 09:58:18 - Current stats for gtbank: 11 tweets, 0 threads...\n",
      "2022-06-16 00:00:00\n",
      "20-Nov-23 09:58:25 - Current stats for gtbank: 14 tweets, 0 threads...\n",
      "2022-06-23 00:00:00\n",
      "20-Nov-23 09:58:32 - Current stats for gtbank: 15 tweets, 0 threads...\n",
      "2022-06-30 00:00:00\n",
      "20-Nov-23 09:58:39 - Current stats for gtbank: 13 tweets, 0 threads...\n",
      "2022-07-07 00:00:00\n",
      "20-Nov-23 09:58:45 - Current stats for gtbank: 7 tweets, 0 threads...\n",
      "20-Nov-23 09:58:49 - Current stats for gtbank: 10 tweets, 0 threads...\n",
      "2022-07-14 00:00:00\n",
      "20-Nov-23 09:58:56 - Current stats for gtbank: 13 tweets, 0 threads...\n",
      "2022-07-21 00:00:00\n",
      "20-Nov-23 09:59:03 - Current stats for gtbank: 18 tweets, 0 threads...\n",
      "2022-07-28 00:00:00\n",
      "20-Nov-23 09:59:10 - Current stats for gtbank: 15 tweets, 0 threads...\n",
      "2022-08-04 00:00:00\n",
      "20-Nov-23 09:59:17 - Current stats for gtbank: 16 tweets, 0 threads...\n",
      "2022-08-11 00:00:00\n",
      "20-Nov-23 09:59:23 - Current stats for gtbank: 16 tweets, 0 threads...\n",
      "2022-08-18 00:00:00\n",
      "20-Nov-23 09:59:30 - Current stats for gtbank: 15 tweets, 0 threads...\n",
      "2022-08-25 00:00:00\n",
      "20-Nov-23 09:59:37 - Current stats for gtbank: 14 tweets, 0 threads...\n",
      "2022-09-01 00:00:00\n",
      "20-Nov-23 09:59:43 - Current stats for gtbank: 13 tweets, 0 threads...\n",
      "2022-09-08 00:00:00\n",
      "20-Nov-23 09:59:51 - Current stats for gtbank: 18 tweets, 0 threads...\n",
      "2022-09-15 00:00:00\n",
      "20-Nov-23 09:59:57 - Current stats for gtbank: 15 tweets, 0 threads...\n",
      "2022-09-22 00:00:00\n",
      "20-Nov-23 10:00:04 - Current stats for gtbank: 17 tweets, 0 threads...\n",
      "2022-09-29 00:00:00\n",
      "20-Nov-23 10:00:11 - Current stats for gtbank: 17 tweets, 0 threads...\n",
      "2022-10-06 00:00:00\n",
      "20-Nov-23 10:00:15 - https://nitter.woodland.cafe unreachable. Trying https://nitter.uni-sonia.com\n",
      "20-Nov-23 10:00:21 - Current stats for gtbank: 12 tweets, 0 threads...\n",
      "2022-10-13 00:00:00\n",
      "20-Nov-23 10:00:22 - Error fetching https://nitter.woodland.cafe. Trying https://nitter.uni-sonia.com\n",
      "20-Nov-23 10:00:31 - Current stats for gtbank: 10 tweets, 0 threads...\n",
      "2022-10-20 00:00:00\n",
      "20-Nov-23 10:00:32 - Error fetching https://nitter.woodland.cafe. Trying https://nitter.catsarch.com\n",
      "20-Nov-23 10:00:40 - Current stats for gtbank: 12 tweets, 0 threads...\n",
      "2022-10-27 00:00:00\n",
      "20-Nov-23 10:00:41 - Error fetching https://nitter.woodland.cafe. Trying https://nitter.dafriser.be\n",
      "20-Nov-23 10:00:50 - Current stats for gtbank: 13 tweets, 0 threads...\n",
      "Tweet record already exists\n",
      "2022-11-03 00:00:00\n",
      "20-Nov-23 10:00:50 - Error fetching https://nitter.woodland.cafe. Trying https://n.opnxng.com\n",
      "20-Nov-23 10:01:04 - Current stats for gtbank: 7 tweets, 0 threads...\n",
      "20-Nov-23 10:01:09 - Current stats for gtbank: 16 tweets, 0 threads...\n",
      "2022-11-10 00:00:00\n",
      "20-Nov-23 10:01:10 - Error fetching https://nitter.woodland.cafe. Trying https://nitter.uni-sonia.com\n",
      "20-Nov-23 10:01:19 - Current stats for gtbank: 11 tweets, 0 threads...\n",
      "2022-11-17 00:00:00\n",
      "20-Nov-23 10:01:20 - Error fetching https://nitter.woodland.cafe. Trying https://nitter.dafriser.be\n",
      "20-Nov-23 10:01:29 - Current stats for gtbank: 13 tweets, 0 threads...\n",
      "2022-11-24 00:00:00\n",
      "20-Nov-23 10:01:29 - Error fetching https://nitter.woodland.cafe. Trying https://nitter.uni-sonia.com\n",
      "20-Nov-23 10:01:39 - Current stats for gtbank: 8 tweets, 0 threads...\n",
      "20-Nov-23 10:01:44 - Current stats for gtbank: 11 tweets, 0 threads...\n",
      "2022-12-01 00:00:00\n",
      "20-Nov-23 10:01:45 - Error fetching https://nitter.woodland.cafe. Trying https://nitter.moomoo.me\n",
      "20-Nov-23 10:01:54 - Current stats for gtbank: 16 tweets, 0 threads...\n",
      "2022-12-08 00:00:00\n",
      "20-Nov-23 10:01:55 - Error fetching https://nitter.woodland.cafe. Trying https://nitter.moomoo.me\n",
      "20-Nov-23 10:02:04 - Current stats for gtbank: 7 tweets, 0 threads...\n",
      "20-Nov-23 10:02:08 - Current stats for gtbank: 20 tweets, 0 threads...\n",
      "2022-12-15 00:00:00\n",
      "20-Nov-23 10:02:09 - Error fetching https://nitter.woodland.cafe. Trying https://nitter.dafriser.be\n",
      "20-Nov-23 10:02:18 - Current stats for gtbank: 16 tweets, 0 threads...\n",
      "2022-12-22 00:00:00\n",
      "20-Nov-23 10:02:19 - Error fetching https://nitter.woodland.cafe. Trying https://nitter.catsarch.com\n",
      "20-Nov-23 10:02:27 - Current stats for gtbank: 11 tweets, 0 threads...\n",
      "2022-12-29 00:00:00\n",
      "20-Nov-23 10:02:27 - Error fetching https://nitter.woodland.cafe. Trying https://nitter.tinfoil-hat.net\n",
      "20-Nov-23 10:02:36 - Current stats for gtbank: 16 tweets, 0 threads...\n",
      "2023-01-05 00:00:00\n",
      "20-Nov-23 10:02:37 - Error fetching https://nitter.woodland.cafe. Trying https://nitter.woodland.cafe\n",
      "20-Nov-23 10:02:40 - Error fetching https://nitter.woodland.cafe. Trying https://nitter.woodland.cafe\n",
      "High number of retries detected. Testing all instances...\n"
     ]
    },
    {
     "name": "stderr",
     "output_type": "stream",
     "text": [
      "Testing instances: 100%|████████████████████████████████████████████████████████████████████████████████████████████████████| 28/28 [00:46<00:00,  1.66s/it]\n"
     ]
    },
    {
     "name": "stdout",
     "output_type": "stream",
     "text": [
      "New working instances: https://nitter.moomoo.me, https://nitter.privacydev.net, https://nitter.soopy.moe, https://nitter.rawbit.ninja, https://nitter.dafriser.be, https://nitter.catsarch.com, https://nitter.perennialte.ch, https://n.populas.no, https://nitter.uni-sonia.com, https://n.opnxng.com, https://nitter.ktachibana.party, https://nitter.tinfoil-hat.net\n",
      "High number of retries detected. Testing all instances...\n"
     ]
    },
    {
     "name": "stderr",
     "output_type": "stream",
     "text": [
      "Testing instances: 100%|████████████████████████████████████████████████████████████████████████████████████████████████████| 28/28 [00:48<00:00,  1.75s/it]\n"
     ]
    },
    {
     "name": "stdout",
     "output_type": "stream",
     "text": [
      "New working instances: https://nitter.moomoo.me, https://nitter.privacydev.net, https://nitter.in.projectsegfau.lt, https://nitter.soopy.moe, https://nitter.rawbit.ninja, https://nitter.dafriser.be, https://nitter.catsarch.com, https://nitter.perennialte.ch, https://n.populas.no, https://nitter.uni-sonia.com, https://n.opnxng.com, https://nitter.ktachibana.party, https://nitter.tinfoil-hat.net\n",
      "High number of retries detected. Testing all instances...\n"
     ]
    },
    {
     "name": "stderr",
     "output_type": "stream",
     "text": [
      "Testing instances: 100%|████████████████████████████████████████████████████████████████████████████████████████████████████| 28/28 [00:36<00:00,  1.31s/it]\n"
     ]
    },
    {
     "name": "stdout",
     "output_type": "stream",
     "text": [
      "New working instances: https://nitter.moomoo.me, https://nitter.privacydev.net, https://nitter.rawbit.ninja, https://nitter.dafriser.be, https://nitter.catsarch.com, https://n.populas.no, https://nitter.uni-sonia.com, https://n.opnxng.com, https://nitter.ktachibana.party, https://nitter.tinfoil-hat.net\n",
      "High number of retries detected. Testing all instances...\n"
     ]
    },
    {
     "name": "stderr",
     "output_type": "stream",
     "text": [
      "Testing instances: 100%|████████████████████████████████████████████████████████████████████████████████████████████████████| 28/28 [00:46<00:00,  1.64s/it]\n"
     ]
    },
    {
     "name": "stdout",
     "output_type": "stream",
     "text": [
      "New working instances: https://nitter.privacydev.net, https://nitter.soopy.moe, https://nitter.rawbit.ninja, https://nitter.dafriser.be, https://nitter.catsarch.com, https://nitter.perennialte.ch, https://n.populas.no, https://nitter.uni-sonia.com, https://n.opnxng.com, https://nitter.ktachibana.party, https://nitter.tinfoil-hat.net\n",
      "High number of retries detected. Testing all instances...\n"
     ]
    },
    {
     "name": "stderr",
     "output_type": "stream",
     "text": [
      "Testing instances: 100%|████████████████████████████████████████████████████████████████████████████████████████████████████| 28/28 [00:41<00:00,  1.48s/it]\n"
     ]
    },
    {
     "name": "stdout",
     "output_type": "stream",
     "text": [
      "New working instances: https://nitter.moomoo.me, https://nitter.privacydev.net, https://nitter.in.projectsegfau.lt, https://nitter.soopy.moe, https://nitter.rawbit.ninja, https://nitter.perennialte.ch, https://n.populas.no, https://nitter.uni-sonia.com, https://n.opnxng.com, https://nitter.ktachibana.party, https://nitter.tinfoil-hat.net\n",
      "High number of retries detected. Testing all instances...\n"
     ]
    },
    {
     "name": "stderr",
     "output_type": "stream",
     "text": [
      "Testing instances:  75%|███████████████████████████████████████████████████████████████████████████                         | 21/28 [00:41<00:29,  4.24s/it]"
     ]
    }
   ],
   "source": [
    "weekly_intervals_caller(since='2021-11-04',until='2023-11-20',username='@gtbank',company_id=1)"
   ]
  },
  {
   "cell_type": "code",
   "execution_count": null,
   "id": "9ff77b91-4f0e-407c-950d-46063909cb19",
   "metadata": {},
   "outputs": [],
   "source": []
  }
 ],
 "metadata": {
  "kernelspec": {
   "display_name": "Python [conda env:datascience] *",
   "language": "python",
   "name": "conda-env-datascience-py"
  },
  "language_info": {
   "codemirror_mode": {
    "name": "ipython",
    "version": 3
   },
   "file_extension": ".py",
   "mimetype": "text/x-python",
   "name": "python",
   "nbconvert_exporter": "python",
   "pygments_lexer": "ipython3",
   "version": "3.8.18"
  }
 },
 "nbformat": 4,
 "nbformat_minor": 5
}
