{
 "cells": [
  {
   "cell_type": "code",
   "execution_count": 22,
   "id": "a8d8e173-5880-4be7-bc60-2686cddfca42",
   "metadata": {
    "tags": []
   },
   "outputs": [],
   "source": [
    "import pandas as pd\n",
    "import numpy as np\n",
    "\n",
    "from sklearn.base import BaseEstimator, TransformerMixin\n",
    "from sklearn.preprocessing import FunctionTransformer\n",
    "from sklearn.pipeline import Pipeline\n",
    "from sklearn import set_config\n",
    "\n",
    "import nltk\n",
    "from nltk.stem import WordNetLemmatizer\n",
    "from nltk.tokenize import word_tokenize\n",
    "import re #regular expression\n",
    "import spacy\n",
    "from matplotlib import pyplot as plt\n",
    "\n",
    "\n",
    "from transformers import AutoModelForSequenceClassification, AutoTokenizer\n",
    "from transformers import pipeline as tf_pipeline\n",
    "\n",
    "import joblib\n",
    "\n",
    "from custom_package.text_processing import normalize_text, tokenizer_func, remove_emojis\n",
    "from custom_package.modeling import GensimLdaTransformer, get_topic_assignment\n",
    "from custom_package.modeling import topic_mapping_sk_lda, topic_mapping_gensim_lda\n",
    "from custom_package.database import get_raw_tweets, store_processed_tweets,get_training_raw_tweets\n",
    "\n",
    "\n",
    "\n",
    "\n"
   ]
  },
  {
   "cell_type": "code",
   "execution_count": 23,
   "id": "09fb6ecf-5eef-4b10-a11b-d93ad5a0661d",
   "metadata": {
    "tags": []
   },
   "outputs": [],
   "source": [
    "set_config(display='diagram')"
   ]
  },
  {
   "cell_type": "markdown",
   "id": "a4899b1f-1e85-4a23-8b15-656b6bd68a3a",
   "metadata": {},
   "source": [
    "Prepare dataset"
   ]
  },
  {
   "cell_type": "code",
   "execution_count": 24,
   "id": "b158aca4-3790-4116-b286-475d5c01f124",
   "metadata": {
    "tags": []
   },
   "outputs": [],
   "source": [
    "query_limit = 484000\n"
   ]
  },
  {
   "cell_type": "code",
   "execution_count": 25,
   "id": "49807667-dc59-49a1-a51d-6dc3073aaf94",
   "metadata": {},
   "outputs": [],
   "source": [
    "def get_filtered_tweets(query_limit = 100):\n",
    "    raw_tweets = get_training_raw_tweets(query_limit)\n",
    "    data = {'id' : [tweet.id for tweet in raw_tweets],\n",
    "        'text' : [remove_emojis(tweet.text) for tweet in raw_tweets],\n",
    "        'company_id' : [tweet.company_id for tweet in raw_tweets],\n",
    "        'date' : [tweet.date for tweet in raw_tweets]\n",
    "        }\n",
    "    filtered_df = pd.DataFrame(data)\n",
    "    return filtered_df"
   ]
  },
  {
   "cell_type": "code",
   "execution_count": 26,
   "id": "ee743e2b-caba-4fc9-bbad-74a7d2742f10",
   "metadata": {},
   "outputs": [],
   "source": [
    "# get raw tweets for training\n",
    "filtered_df = get_filtered_tweets(query_limit)"
   ]
  },
  {
   "cell_type": "code",
   "execution_count": 27,
   "id": "9c8f2277-e5d9-4410-9a9c-68c0d8b0bce8",
   "metadata": {
    "tags": []
   },
   "outputs": [
    {
     "data": {
      "text/html": [
       "<div>\n",
       "<style scoped>\n",
       "    .dataframe tbody tr th:only-of-type {\n",
       "        vertical-align: middle;\n",
       "    }\n",
       "\n",
       "    .dataframe tbody tr th {\n",
       "        vertical-align: top;\n",
       "    }\n",
       "\n",
       "    .dataframe thead th {\n",
       "        text-align: right;\n",
       "    }\n",
       "</style>\n",
       "<table border=\"1\" class=\"dataframe\">\n",
       "  <thead>\n",
       "    <tr style=\"text-align: right;\">\n",
       "      <th></th>\n",
       "      <th>id</th>\n",
       "      <th>text</th>\n",
       "      <th>company_id</th>\n",
       "      <th>date</th>\n",
       "    </tr>\n",
       "  </thead>\n",
       "  <tbody>\n",
       "    <tr>\n",
       "      <th>0</th>\n",
       "      <td>72d17ff2448ce66419a48b1fe774ef4dc72bbe2fd07477...</td>\n",
       "      <td>@gtbank please why would you people deduct 5,0...</td>\n",
       "      <td>1</td>\n",
       "      <td>2021-09-16 19:48:00-04:00</td>\n",
       "    </tr>\n",
       "    <tr>\n",
       "      <th>1</th>\n",
       "      <td>ff90053f9d09c402d9439b9017c507fb71484797fc45d9...</td>\n",
       "      <td>@gtbank Hello.  I need to speak with any of yo...</td>\n",
       "      <td>1</td>\n",
       "      <td>2021-09-23 18:40:00-04:00</td>\n",
       "    </tr>\n",
       "    <tr>\n",
       "      <th>2</th>\n",
       "      <td>3e68ebe123146b56485db4f986ea05ffe9e98477e1ee67...</td>\n",
       "      <td>I still don't understand why @gtbank and @Firs...</td>\n",
       "      <td>1</td>\n",
       "      <td>2021-09-23 18:00:00-04:00</td>\n",
       "    </tr>\n",
       "    <tr>\n",
       "      <th>3</th>\n",
       "      <td>f71466dcab3eee360d8fb8d3453dd5193bd618a6cc1ef6...</td>\n",
       "      <td>Who else has done a redesign of the @gtbank ap...</td>\n",
       "      <td>1</td>\n",
       "      <td>2021-09-30 19:56:00-04:00</td>\n",
       "    </tr>\n",
       "    <tr>\n",
       "      <th>4</th>\n",
       "      <td>65bcacf442a828d8151ca52a18115f9f57fdf038bbc93a...</td>\n",
       "      <td>@gtbank @gtbank_help hello, please what is the...</td>\n",
       "      <td>1</td>\n",
       "      <td>2021-09-30 19:33:00-04:00</td>\n",
       "    </tr>\n",
       "  </tbody>\n",
       "</table>\n",
       "</div>"
      ],
      "text/plain": [
       "                                                  id  \\\n",
       "0  72d17ff2448ce66419a48b1fe774ef4dc72bbe2fd07477...   \n",
       "1  ff90053f9d09c402d9439b9017c507fb71484797fc45d9...   \n",
       "2  3e68ebe123146b56485db4f986ea05ffe9e98477e1ee67...   \n",
       "3  f71466dcab3eee360d8fb8d3453dd5193bd618a6cc1ef6...   \n",
       "4  65bcacf442a828d8151ca52a18115f9f57fdf038bbc93a...   \n",
       "\n",
       "                                                text  company_id  \\\n",
       "0  @gtbank please why would you people deduct 5,0...           1   \n",
       "1  @gtbank Hello.  I need to speak with any of yo...           1   \n",
       "2  I still don't understand why @gtbank and @Firs...           1   \n",
       "3  Who else has done a redesign of the @gtbank ap...           1   \n",
       "4  @gtbank @gtbank_help hello, please what is the...           1   \n",
       "\n",
       "                        date  \n",
       "0  2021-09-16 19:48:00-04:00  \n",
       "1  2021-09-23 18:40:00-04:00  \n",
       "2  2021-09-23 18:00:00-04:00  \n",
       "3  2021-09-30 19:56:00-04:00  \n",
       "4  2021-09-30 19:33:00-04:00  "
      ]
     },
     "execution_count": 27,
     "metadata": {},
     "output_type": "execute_result"
    }
   ],
   "source": [
    "filtered_df.head()"
   ]
  },
  {
   "cell_type": "code",
   "execution_count": 28,
   "id": "b573e418-8f38-4fa3-accb-4be3ec273d98",
   "metadata": {
    "tags": []
   },
   "outputs": [
    {
     "name": "stdout",
     "output_type": "stream",
     "text": [
      "<class 'pandas.core.frame.DataFrame'>\n",
      "RangeIndex: 181634 entries, 0 to 181633\n",
      "Data columns (total 4 columns):\n",
      " #   Column      Non-Null Count   Dtype \n",
      "---  ------      --------------   ----- \n",
      " 0   id          181634 non-null  object\n",
      " 1   text        181634 non-null  object\n",
      " 2   company_id  181634 non-null  int64 \n",
      " 3   date        181634 non-null  object\n",
      "dtypes: int64(1), object(3)\n",
      "memory usage: 5.5+ MB\n"
     ]
    }
   ],
   "source": [
    "filtered_df.info()"
   ]
  },
  {
   "cell_type": "code",
   "execution_count": 31,
   "id": "104a4dfa-adb7-42e3-8fb7-38fd939e527f",
   "metadata": {
    "tags": []
   },
   "outputs": [
    {
     "data": {
      "text/plain": [
       "company_id\n",
       "3    57535\n",
       "5    48055\n",
       "4    43006\n",
       "2    21723\n",
       "1    11315\n",
       "Name: count, dtype: int64"
      ]
     },
     "execution_count": 31,
     "metadata": {},
     "output_type": "execute_result"
    }
   ],
   "source": [
    "filtered_df['company_id'].value_counts()"
   ]
  },
  {
   "cell_type": "code",
   "execution_count": 29,
   "id": "944a6d48-7bf4-4939-b5d0-125a689b9b35",
   "metadata": {
    "tags": []
   },
   "outputs": [],
   "source": [
    "# pre-trained tweet sentiment analysis model\n",
    "\n",
    "# Load the model and tokenizer\n",
    "model_name = \"cardiffnlp/twitter-roberta-base-sentiment\"\n",
    "sentiment_model = AutoModelForSequenceClassification.from_pretrained(model_name)\n",
    "tokenizer = AutoTokenizer.from_pretrained(model_name)"
   ]
  },
  {
   "cell_type": "code",
   "execution_count": 30,
   "id": "8c908d5c-e95f-460d-8d0f-0293492bed4e",
   "metadata": {
    "tags": []
   },
   "outputs": [
    {
     "name": "stdout",
     "output_type": "stream",
     "text": [
      "[{'label': 'LABEL_2', 'score': 0.9838293194770813}]\n"
     ]
    }
   ],
   "source": [
    "# Create a sentiment analysis pipeline\n",
    "sentiment_pipeline = tf_pipeline(\"sentiment-analysis\", model=sentiment_model, tokenizer=tokenizer)\n",
    "\n",
    "# Example tweet\n",
    "tweet = \"I love using BERT models for NLP tasks!\"\n",
    "\n",
    "# Run sentiment analysis\n",
    "result = sentiment_pipeline(tweet)\n",
    "print(result)"
   ]
  },
  {
   "cell_type": "code",
   "execution_count": 31,
   "id": "550697eb-9687-4830-84cf-1d71e2b58a54",
   "metadata": {
    "tags": []
   },
   "outputs": [
    {
     "name": "stdout",
     "output_type": "stream",
     "text": [
      "[{'label': 'LABEL_2', 'score': 0.9838293194770813}, {'label': 'LABEL_0', 'score': 0.9232668876647949}, {'label': 'LABEL_1', 'score': 0.5792319774627686}]\n"
     ]
    }
   ],
   "source": [
    "# Example tweet\n",
    "tweet = [\"I love using BERT models for NLP tasks!\",\n",
    "         \"I'm not a fan of rainy days.\",\n",
    "         \"Neutral statements are hard to classify.\"]\n",
    "\n",
    "# Run sentiment analysis\n",
    "result = sentiment_pipeline(tweet)\n",
    "print(result)"
   ]
  },
  {
   "cell_type": "code",
   "execution_count": 32,
   "id": "693030fa-3190-4362-a24a-91b4afbe49b3",
   "metadata": {
    "tags": []
   },
   "outputs": [
    {
     "name": "stderr",
     "output_type": "stream",
     "text": [
      "C:\\Users\\Etinosa Ekomwenrenr\\miniconda3\\envs\\datascience\\lib\\site-packages\\transformers\\pipelines\\text_classification.py:104: UserWarning: `return_all_scores` is now deprecated,  if want a similar functionality use `top_k=None` instead of `return_all_scores=True` or `top_k=1` instead of `return_all_scores=False`.\n",
      "  warnings.warn(\n"
     ]
    }
   ],
   "source": [
    "# Create a sentiment analysis pipeline\n",
    "pos_sentiment_pipeline = tf_pipeline(\"text-classification\", model=sentiment_model,\n",
    "                                     tokenizer=tokenizer,return_all_scores=True)"
   ]
  },
  {
   "cell_type": "code",
   "execution_count": 65,
   "id": "ff72553c-e785-4cc1-a38b-39a91927a87e",
   "metadata": {
    "tags": []
   },
   "outputs": [
    {
     "data": {
      "text/plain": [
       "['sentiment_analyis_pipeline.joblib']"
      ]
     },
     "execution_count": 65,
     "metadata": {},
     "output_type": "execute_result"
    }
   ],
   "source": [
    "joblib.dump(pos_sentiment_pipeline,'sentiment_analyis_pipeline.joblib')"
   ]
  },
  {
   "cell_type": "code",
   "execution_count": 33,
   "id": "65776778-8dee-4e81-ab1f-b16dee8eba40",
   "metadata": {
    "tags": []
   },
   "outputs": [],
   "source": [
    "# Sentiment label mapping based on model output\n",
    "label_mapping = {\n",
    "    'LABEL_0': 'Negative',\n",
    "    'LABEL_1': 'Neutral',\n",
    "    'LABEL_2': 'Positive'\n",
    "}\n",
    "\n",
    "# Function to get and map sentiment\n",
    "def get_mapped_sentiment(text):\n",
    "    result = text\n",
    "    #result = sentiment_pipeline(text)[0]\n",
    "    # Map the model's label to a more descriptive term\n",
    "    sentiment_label = label_mapping.get(result['label'], \"Unknown\")\n",
    "    return sentiment_label"
   ]
  },
  {
   "cell_type": "code",
   "execution_count": 61,
   "id": "0ecfc82c-74cb-43f8-8a8f-0e6f4253e1ab",
   "metadata": {
    "tags": []
   },
   "outputs": [],
   "source": [
    "# Function to get and map sentiment\n",
    "def get_pos_sentiment_proba(text):\n",
    "    result = text\n",
    "    # Map the model's label to a more descriptive term\n",
    "    pos_sentiment_proba = ((result[-1].get('score', np.nan) - result[-3].get('score',np.nan))+1)/2\n",
    "    return pos_sentiment_proba"
   ]
  },
  {
   "cell_type": "code",
   "execution_count": 35,
   "id": "82714de0-63b8-42b4-8902-451dd23de14b",
   "metadata": {
    "tags": []
   },
   "outputs": [
    {
     "name": "stdout",
     "output_type": "stream",
     "text": [
      "Positive\n",
      "Negative\n",
      "Neutral\n"
     ]
    }
   ],
   "source": [
    "for item in result:\n",
    "    print(get_mapped_sentiment(item))"
   ]
  },
  {
   "cell_type": "code",
   "execution_count": 36,
   "id": "388eb58f-de44-47cf-a4f5-65882014c3f1",
   "metadata": {
    "tags": []
   },
   "outputs": [],
   "source": [
    "res = pos_sentiment_pipeline(tweet)"
   ]
  },
  {
   "cell_type": "code",
   "execution_count": 67,
   "id": "0b7e111f-d47b-44a8-9318-9c82bd72187c",
   "metadata": {
    "tags": []
   },
   "outputs": [
    {
     "name": "stdout",
     "output_type": "stream",
     "text": [
      "0.01617719163186848\n",
      "0.6022988148033619\n",
      "0.05246179737150669\n",
      "0.9222867011558264\n",
      "0.8429781056474894\n",
      "0.8084669960662723\n",
      "0.7804167699068785\n",
      "0.1778898611664772\n",
      "0.19008528254926205\n",
      "0.5373626351356506\n",
      "0.11399239301681519\n",
      "0.17357515264302492\n",
      "0.42282371688634157\n",
      "0.7521887747570872\n",
      "0.43846861459314823\n",
      "0.06602956890128553\n",
      "0.0783891745377332\n",
      "0.25492206402122974\n",
      "0.4713168516755104\n",
      "0.03141938429325819\n",
      "0.17915874533355236\n",
      "0.019122233148664236\n",
      "0.5373626351356506\n",
      "0.1743094464763999\n",
      "0.15861306339502335\n",
      "0.20599585957825184\n",
      "0.05943847098387778\n",
      "0.9741747493389994\n",
      "0.13299764413386583\n",
      "0.46483973413705826\n",
      "0.8189110129605979\n",
      "0.9932075976976193\n",
      "0.07920616096816957\n",
      "0.2729745311662555\n",
      "0.015406539780087769\n",
      "0.7536345180124044\n",
      "0.14886813890188932\n",
      "0.40066814608871937\n",
      "0.620157313067466\n",
      "0.9318287820206024\n",
      "0.27664264664053917\n",
      "0.4250229671597481\n",
      "0.04134296695701778\n",
      "0.5377062503248453\n",
      "0.03612997196614742\n",
      "0.5002337917685509\n",
      "0.631596639752388\n",
      "0.16191955702379346\n",
      "0.7105188621208072\n",
      "0.11330586578696966\n",
      "0.09513372927904129\n",
      "0.12349484022706747\n",
      "0.025717998738400638\n",
      "0.08154213009402156\n",
      "0.04720243392512202\n",
      "0.1732999375090003\n",
      "0.9410205278545618\n",
      "0.07826120499521494\n",
      "0.20916815008968115\n",
      "0.06043898081406951\n",
      "0.02412674971856177\n",
      "0.35668814182281494\n",
      "0.5373626351356506\n",
      "0.009876335214357823\n",
      "0.17319976538419724\n",
      "0.02084585977718234\n",
      "0.8495375011116266\n",
      "0.06298078689724207\n",
      "0.9694630381418392\n",
      "0.05456207087263465\n",
      "0.04368509049527347\n",
      "0.04254841012880206\n",
      "0.41857004165649414\n",
      "0.05943963932804763\n",
      "0.1941198566928506\n",
      "0.17262226436287165\n",
      "0.14708843361586332\n",
      "0.014538999530486763\n",
      "0.1744994344189763\n",
      "0.49073290079832077\n",
      "0.04357003141194582\n",
      "0.052506658248603344\n",
      "0.5365043990314007\n",
      "0.10471501294523478\n",
      "0.10412382334470749\n",
      "0.05050091492012143\n",
      "0.07550479099154472\n",
      "0.4578598290681839\n",
      "0.31918485276401043\n",
      "0.4296405166387558\n",
      "0.32955261319875717\n",
      "0.34079257398843765\n",
      "0.20899684727191925\n",
      "0.4623454287648201\n",
      "0.4882969707250595\n",
      "0.8355404064059258\n",
      "0.03659923700615764\n",
      "0.40689709037542343\n",
      "0.02421245933510363\n",
      "0.4252391532063484\n"
     ]
    }
   ],
   "source": [
    "for item in res:\n",
    "    #print(item)\n",
    "    print(get_pos_sentiment_proba(item))"
   ]
  },
  {
   "cell_type": "code",
   "execution_count": 51,
   "id": "993a80c6-9671-4644-b826-bb83e2f7e0e8",
   "metadata": {
    "tags": []
   },
   "outputs": [],
   "source": [
    "res = pos_sentiment_pipeline(filtered_df['text'].iloc[0:100].to_list())"
   ]
  },
  {
   "cell_type": "code",
   "execution_count": 46,
   "id": "84a3dab4-7351-444f-8658-6d2a839521c9",
   "metadata": {
    "tags": []
   },
   "outputs": [],
   "source": [
    "res_a = sentiment_pipeline(filtered_df['text'].iloc[0:100].to_list())"
   ]
  },
  {
   "cell_type": "code",
   "execution_count": 47,
   "id": "bc475704-458c-4e6a-a3b5-635e7b0868cb",
   "metadata": {
    "tags": []
   },
   "outputs": [],
   "source": [
    "sentiment_a = [get_mapped_sentiment(text) for text in res_a]"
   ]
  },
  {
   "cell_type": "code",
   "execution_count": 62,
   "id": "555f0d3e-7d3f-4745-bb88-5ddbab265642",
   "metadata": {
    "tags": []
   },
   "outputs": [],
   "source": [
    "sentiment_data = [get_pos_sentiment_proba(text) for text in res]"
   ]
  },
  {
   "cell_type": "code",
   "execution_count": 40,
   "id": "281b9706-ede4-49af-8204-e62bb930ca5c",
   "metadata": {
    "tags": []
   },
   "outputs": [],
   "source": [
    "selected_df = filtered_df.iloc[0:100].copy()"
   ]
  },
  {
   "cell_type": "code",
   "execution_count": 63,
   "id": "7376fe9d-e1a6-4ac7-8241-91279a4568c0",
   "metadata": {
    "tags": []
   },
   "outputs": [],
   "source": [
    "selected_df['sentiment']=sentiment_data"
   ]
  },
  {
   "cell_type": "code",
   "execution_count": 48,
   "id": "b37fcc15-744c-4fd6-8218-3816ff864a71",
   "metadata": {
    "tags": []
   },
   "outputs": [],
   "source": [
    "selected_df['sentiment_map']= sentiment_a"
   ]
  },
  {
   "cell_type": "code",
   "execution_count": 56,
   "id": "ee845174-80dc-4133-83ce-fe536505e9f4",
   "metadata": {
    "tags": []
   },
   "outputs": [
    {
     "data": {
      "text/plain": [
       "[{'label': 'LABEL_0', 'score': 0.15328900516033173},\n",
       " {'label': 'LABEL_1', 'score': 0.6186966896057129},\n",
       " {'label': 'LABEL_2', 'score': 0.228014275431633}]"
      ]
     },
     "execution_count": 56,
     "metadata": {},
     "output_type": "execute_result"
    }
   ],
   "source": [
    "res[10-1]"
   ]
  },
  {
   "cell_type": "code",
   "execution_count": 64,
   "id": "908c358e-39b6-433b-b904-f245259b4f7d",
   "metadata": {
    "tags": []
   },
   "outputs": [
    {
     "data": {
      "text/plain": [
       "[{'text': '@gtbank please why would you people deduct 5,000 from my account some minutes ago with after collect sms charges alert for just/august and still took my money. You people are just crooks. Refund me my money please  @Twitter this bank is just worse than I can imagine',\n",
       "  'sentiment': 0.01617719163186848,\n",
       "  'sentiment_map': 'Negative'},\n",
       " {'text': '@gtbank Hello.  I need to speak with any of your staffs, in regards of my account not been able to be used here in united kindom. Please this important to me.  I will appreciate to get feed back from you.  Regards Adeyemo',\n",
       "  'sentiment': 0.6022988148033619,\n",
       "  'sentiment_map': 'Neutral'},\n",
       " {'text': \"I still don't understand why @gtbank and @FirstBankngr won't allow your card for small international transactions in the name of DCC...\",\n",
       "  'sentiment': 0.05246179737150669,\n",
       "  'sentiment_map': 'Negative'},\n",
       " {'text': 'Who else has done a redesign of the @gtbank app, please share your work in the comments. Would love to see',\n",
       "  'sentiment': 0.9222867011558264,\n",
       "  'sentiment_map': 'Positive'},\n",
       " {'text': '@gtbank @gtbank_help hello, please what is the monthly online international transaction (AliExpress to be precise). Thank you',\n",
       "  'sentiment': 0.8429781056474894,\n",
       "  'sentiment_map': 'Positive'},\n",
       " {'text': '@gtbank_help hello, please what is the monthly online international transaction (AliExpress to be precise). Thank you',\n",
       "  'sentiment': 0.8084669960662723,\n",
       "  'sentiment_map': 'Positive'},\n",
       " {'text': 'If you send me happy independent day message tomorrow I will swear for your company @MTNNG @GloWorld @AirtelNigeria @FirstBankngr @gtbank @wemabank say no to #happyindependentday',\n",
       "  'sentiment': 0.7804167699068785,\n",
       "  'sentiment_map': 'Positive'},\n",
       " {'text': '@gtbank I recharged twice using 737; you people deducted money twice and credited my line once. You people are fond of doing this, refund my money.',\n",
       "  'sentiment': 0.1778898611664772,\n",
       "  'sentiment_map': 'Negative'},\n",
       " {'text': '@gtbank_help I recharged twice using 737; you people deducted money twice and credited my line once. You people are fond of doing this, refund my money.',\n",
       "  'sentiment': 0.19008528254926205,\n",
       "  'sentiment_map': 'Negative'},\n",
       " {'text': '@gtbank',\n",
       "  'sentiment': 0.5373626351356506,\n",
       "  'sentiment_map': 'Neutral'},\n",
       " {'text': '@gtbank_help Am trying to used my Naira Debit card to get an item on Apple stores but my card was rejected also the same thing on eBay. What could be the problem?',\n",
       "  'sentiment': 0.11399239301681519,\n",
       "  'sentiment_map': 'Negative'},\n",
       " {'text': '@PiggyBankNG it’s been over 24hrs I made a deposit from my @gtbank @gtbank_help into my flex account @wemabank and it hasn’t reflect in my account. Is anything wrong please ?',\n",
       "  'sentiment': 0.17357515264302492,\n",
       "  'sentiment_map': 'Negative'},\n",
       " {'text': '@gtbank_help please what is the meaning of Airtel USSD charges?',\n",
       "  'sentiment': 0.42282371688634157,\n",
       "  'sentiment_map': 'Neutral'},\n",
       " {'text': '@gtbank looks ready for the e-Naira wallet. ',\n",
       "  'sentiment': 0.7521887747570872,\n",
       "  'sentiment_map': 'Positive'},\n",
       " {'text': 'GTBank. Why? @gtbank @gtbank_help',\n",
       "  'sentiment': 0.43846861459314823,\n",
       "  'sentiment_map': 'Neutral'},\n",
       " {'text': \"@gtbank why are the funds in my account restricted? I'm stranded!\",\n",
       "  'sentiment': 0.06602956890128553,\n",
       "  'sentiment_map': 'Negative'},\n",
       " {'text': \"@gtbank_help Why are the funds in my account restricted? I'm stranded\",\n",
       "  'sentiment': 0.0783891745377332,\n",
       "  'sentiment_map': 'Negative'},\n",
       " {'text': \"@gtbank_help don rob me, imagine they didn't send me SMS alert, you better reply\",\n",
       "  'sentiment': 0.25492206402122974,\n",
       "  'sentiment_map': 'Negative'},\n",
       " {'text': 'Guy @zenith bank are really trying unlike @gtbank',\n",
       "  'sentiment': 0.4713168516755104,\n",
       "  'sentiment_map': 'Neutral'},\n",
       " {'text': 'Despite being your customer for the past 11yrs ..my day was ruined by you people @gtbank_help @gtbank',\n",
       "  'sentiment': 0.03141938429325819,\n",
       "  'sentiment_map': 'Negative'},\n",
       " {'text': '@gtbank @gtbank_help What’s with the book balance nonsense?',\n",
       "  'sentiment': 0.17915874533355236,\n",
       "  'sentiment_map': 'Negative'},\n",
       " {'text': 'I have been complaining about a refund that should have happened since December 2021. @gtbank_help Fix it!!! Your service is rubbish!!!',\n",
       "  'sentiment': 0.019122233148664236,\n",
       "  'sentiment_map': 'Negative'},\n",
       " {'text': '@gtbank',\n",
       "  'sentiment': 0.5373626351356506,\n",
       "  'sentiment_map': 'Neutral'},\n",
       " {'text': \"@gtbank @gtbank_help why is your credit transaction not dropping into the 3rd party account. I made a transfer of 15,000 from my account since yesterday and it still hasn't dropped Treat as urgent\",\n",
       "  'sentiment': 0.1743094464763999,\n",
       "  'sentiment_map': 'Negative'},\n",
       " {'text': '@gtbank @gtbank_help  E be like una don smoke Igbo abi... I made a 9000 naira payment on my @DStvNg ICU number 8213140601 for Compact Package through your USSD code since 14th o, yet , the DStv never dey credited. Wetin dey happen gan . ',\n",
       "  'sentiment': 0.15861306339502335,\n",
       "  'sentiment_map': 'Negative'},\n",
       " {'text': '@gtbank  please you have less than 24hrs to respond to this, I made a transaction to someone since 17th of January 2023 till now she has not gotten it and I’ve been debited. Kindly look into this asap!!!!',\n",
       "  'sentiment': 0.20599585957825184,\n",
       "  'sentiment_map': 'Negative'},\n",
       " {'text': '@gtbank please how can you withhold almost a million naira of my funds without explanation and I’ve been trying to reach you guys with no response. I need my money back',\n",
       "  'sentiment': 0.05943847098387778,\n",
       "  'sentiment_map': 'Negative'},\n",
       " {'text': 'We look forward to your partnership.  Thank you.  Best regards.  @LekeAdeboye @feladurotoye @WoliagbaI @FirstBankngr @fidelitybankplc @ecobank_nigeria @Real_talknaija @lagosfoodbank @soundcityphc @mufastundeednut @USAID @gtbank @ImpulseNGO  Man U Remi Tinubu De Gea Nedu Biggie',\n",
       "  'sentiment': 0.9741747493389994,\n",
       "  'sentiment_map': 'Positive'},\n",
       " {'text': \"There's high need for @accessbank_help and @gtbank_help to address their dispute or what so ever is between them, because how on earth will someone send u huge amount of money frm GT but u can't receive d value as at that time untill next one or two days, as an access customer.\",\n",
       "  'sentiment': 0.13299764413386583,\n",
       "  'sentiment_map': 'Negative'},\n",
       " {'text': \"And that's not the first nor second time it's happening but if I buy from @MyFCMB they always respond to successful transcation with TOKEN but na condition make crayfish bend.   BUT @gtbank WHY UNA DEY DO LIKE THAT NAW. AH AH\",\n",
       "  'sentiment': 0.46483973413705826,\n",
       "  'sentiment_map': 'Neutral'},\n",
       " {'text': \"So my mom spoke to me at about 17:50 saying light went off and there's light (Power) at the neighbor's and I parked almost immediately, opened my @gtbank app to buy power then send to her to recharge. Would u believe that transaction went on successfully and\",\n",
       "  'sentiment': 0.8189110129605979,\n",
       "  'sentiment_map': 'Positive'},\n",
       " {'text': 'Happy Birthday To Me Show some love @gtbank 0169546530',\n",
       "  'sentiment': 0.9932075976976193,\n",
       "  'sentiment_map': 'Positive'},\n",
       " {'text': 'Olodo you still wan scam people on this thread. @gtbank @gtbank_help come see this hungry scammer impersonating @Guaranty_Trusti',\n",
       "  'sentiment': 0.07920616096816957,\n",
       "  'sentiment_map': 'Negative'},\n",
       " {'text': '@gtbank_help i was debit from Pos but the Pos was showing decline and here’s the Pos name capricorn digital  and this my own Acct 0170615247 Shonibare olayemi Toheeb',\n",
       "  'sentiment': 0.2729745311662555,\n",
       "  'sentiment_map': 'Neutral'},\n",
       " {'text': 'Fear this bank they call @gtbank! The customer service is totally a scam. You cannot speak to any of their agents except if you have a fraud related issue.',\n",
       "  'sentiment': 0.015406539780087769,\n",
       "  'sentiment_map': 'Negative'},\n",
       " {'text': 'Let me get this: @LapoLtd, a #MicroFinanceBank, has more staff than nearly every commercial bank in #Nigeria, including @myaccessbank, @UBAGroup, & @gtbank....?!!',\n",
       "  'sentiment': 0.7536345180124044,\n",
       "  'sentiment_map': 'Positive'},\n",
       " {'text': '@FBN_help @FirstBankngr @FirstBankngr kindly refund my 1000naira which was deducted from my account dated 30th Nov 2021...I wanted to withdraw but was denied due to network failure on the atm however I was still debited pls refund my money asap',\n",
       "  'sentiment': 0.14886813890188932,\n",
       "  'sentiment_map': 'Negative'},\n",
       " {'text': 'o gara, o guarantee, @gtbank, e no double your investment as you captain am? ',\n",
       "  'sentiment': 0.40066814608871937,\n",
       "  'sentiment_map': 'Neutral'},\n",
       " {'text': 'Fitch Assigns GTCO ‘B’ Rating, Says Outlook Stable  https://dmarketforces.com/fitch-assigns-gtco-b-rating-says-outlook-stable/?amp @gtbank #fitchratings #banking',\n",
       "  'sentiment': 0.620157313067466,\n",
       "  'sentiment_map': 'Neutral'},\n",
       " {'text': 'It’s two days to the biggest outdoor concert to hit Ghana this December.   @gtbank @GTBankGhana is coming through with the GT Concert that has the biggest lineup of Ghanaian and Nigerian artistes',\n",
       "  'sentiment': 0.9318287820206024,\n",
       "  'sentiment_map': 'Positive'},\n",
       " {'text': '@gtbank why’d you people deduct 5k from my Acct not even with a debit alert just like thatthis thing is actually paining memy body is hot sef',\n",
       "  'sentiment': 0.27664264664053917,\n",
       "  'sentiment_map': 'Negative'},\n",
       " {'text': 'True true e be like sae this Christmas go be silent night o, cuz @gtbank silent! Not even sms Charges.',\n",
       "  'sentiment': 0.4250229671597481,\n",
       "  'sentiment_map': 'Neutral'},\n",
       " {'text': '@gtbank_help why are you guys trying make me broke, every time people send me money.',\n",
       "  'sentiment': 0.04134296695701778,\n",
       "  'sentiment_map': 'Negative'},\n",
       " {'text': '@gtbank @TXT_bighit @WhiteHouse',\n",
       "  'sentiment': 0.5377062503248453,\n",
       "  'sentiment_map': 'Neutral'},\n",
       " {'text': '@gtbank_help  Everytime 1k debit for sms alert...una don broke like ds..fucken extortionist!!! Criminals!!!! Which bank dey collect 1k for sms!!!!',\n",
       "  'sentiment': 0.03612997196614742,\n",
       "  'sentiment_map': 'Negative'},\n",
       " {'text': '@gtbank @gtbank_help Your attention is needed.',\n",
       "  'sentiment': 0.5002337917685509,\n",
       "  'sentiment_map': 'Neutral'},\n",
       " {'text': \"@gtbank_help it'd be nice if you actually monitor and attend to messages to provide the needed help on this channel.\",\n",
       "  'sentiment': 0.631596639752388,\n",
       "  'sentiment_map': 'Neutral'},\n",
       " {'text': '@gtbank_help I have an issue',\n",
       "  'sentiment': 0.16191955702379346,\n",
       "  'sentiment_map': 'Negative'},\n",
       " {'text': 'Testing, testing testing. @gtbank_help @accessbank_help @JaizBankNG @MTN180 @DStvNg @SigmaPensions can you all hear me? @Twitter is back ',\n",
       "  'sentiment': 0.7105188621208072,\n",
       "  'sentiment_map': 'Neutral'},\n",
       " {'text': 'First people I’m dragging. @gtbank @ZenithBank  you people should reverse my money..2 months sending emails.. #TwitterBan #TwitterBanLifted USELESS',\n",
       "  'sentiment': 0.11330586578696966,\n",
       "  'sentiment_map': 'Negative'},\n",
       " {'text': 'First people I’m dragging. @gtbank @ZenithBank  you people should reverse my money..2 months sending emails.. #TwitterBan',\n",
       "  'sentiment': 0.09513372927904129,\n",
       "  'sentiment_map': 'Negative'},\n",
       " {'text': '@gtbank_help I based in Ibadan. When my ATM card expired, another one was generated without my consent. I was sent a message that my ATM card is ready for collection in one of the Abeokuta branch of GTB when I did not request for one. Why? I need explanation',\n",
       "  'sentiment': 0.12349484022706747,\n",
       "  'sentiment_map': 'Negative'},\n",
       " {'text': 'Refunds policies are bad They take your money without letting know for what reasons is it...  Moving to @gtbank',\n",
       "  'sentiment': 0.025717998738400638,\n",
       "  'sentiment_map': 'Negative'},\n",
       " {'text': \"Imagine, @gtbank, says my account is not traceable. An account I have been using for transactions since 2006. I made transaction via the acct yesterday. Does this mean my account is not safe? So, if anyone hacks my account, it can't even be traced. @gtbank, you dropped the ball.\",\n",
       "  'sentiment': 0.08154213009402156,\n",
       "  'sentiment_map': 'Negative'},\n",
       " {'text': '@gtbank_help @gtbank @cenbank  You guys refuse to return my wife money since October 18th she make a withdraw from  POS',\n",
       "  'sentiment': 0.04720243392512202,\n",
       "  'sentiment_map': 'Negative'},\n",
       " {'text': \"As u are faceless that's how u will be faceless in the eyes of your investors. #branchbanking @branch_ng @gtbank 1, Sylvia Crescent won't stand the test of time\",\n",
       "  'sentiment': 0.1732999375090003,\n",
       "  'sentiment_map': 'Negative'},\n",
       " {'text': 'Just wanna appreciate @fidelitybankplc for their prompt response and follow up. Imo they offers the best customer service to people in diaspora unlike the shitty @gtbank and @FirstBankngr .',\n",
       "  'sentiment': 0.9410205278545618,\n",
       "  'sentiment_map': 'Positive'},\n",
       " {'text': '@gtbank @gtbank_help Why am I being charged twice for the same Mastercard I replaced this January? Charged on 14th when I made the request and 26th again after collection and activation for the same card. I need an explanation and a refund.',\n",
       "  'sentiment': 0.07826120499521494,\n",
       "  'sentiment_map': 'Negative'},\n",
       " {'text': '@gtbank what is the issue with *737# ussd code? Biko fix it.',\n",
       "  'sentiment': 0.20916815008968115,\n",
       "  'sentiment_map': 'Negative'},\n",
       " {'text': '@gtbank_help @gtbank please... Ussd ishhh is getting really ugly here... please.. rectify it please ',\n",
       "  'sentiment': 0.06043898081406951,\n",
       "  'sentiment_map': 'Negative'},\n",
       " {'text': \"@gtbank this is so bad of your server cos i can't even do anything on the ussd.    Regret banking with you at the moment\",\n",
       "  'sentiment': 0.02412674971856177,\n",
       "  'sentiment_map': 'Negative'},\n",
       " {'text': 'the funny thing about this @gtbank_help @gtbank #ussd matter is that if u try the ussd via a non gtb linked phone number  its going through...biko make una resolve I know say una dey run kiti kiti dey run kata kata.. no fit drink water drop cup. we need d service hence d outburst',\n",
       "  'sentiment': 0.35668814182281494,\n",
       "  'sentiment_map': 'Neutral'},\n",
       " {'text': '@gtbank',\n",
       "  'sentiment': 0.5373626351356506,\n",
       "  'sentiment_map': 'Neutral'},\n",
       " {'text': '@gtbank_help why are you aiding fraudsters??!!! This is so frustrating!!! Why is service unavailable and your helplines unreachable??!!!',\n",
       "  'sentiment': 0.009876335214357823,\n",
       "  'sentiment_map': 'Negative'},\n",
       " {'text': 'This thing baffles me. My highest loan amount in @gtbank is a little over a 100k and this is despite having used same banks for over a decade. @kudabank that was just last year gives up to 150k despite my not using it steadily. Needed credit and had to go to @Renmoney, Gtb’s loss',\n",
       "  'sentiment': 0.17319976538419724,\n",
       "  'sentiment_map': 'Negative'},\n",
       " {'text': 'Fucking fraud! Will you get out!!!!  @Twitter This account I’m replying to is a FAKE and is impersonating @gtbank',\n",
       "  'sentiment': 0.02084585977718234,\n",
       "  'sentiment_map': 'Negative'},\n",
       " {'text': '@gtbank set up messenger account only to receive messages and not reply even during working hours during the week... well done!',\n",
       "  'sentiment': 0.8495375011116266,\n",
       "  'sentiment_map': 'Positive'},\n",
       " {'text': \"@gtbank U introduce utility card now I ve transferred so much money there, and my card has expired,U refused to bring them again.i have been to ur bank several times in the past weeks it's same response,there is no utility card,tell @gtbank what's your issue\",\n",
       "  'sentiment': 0.06298078689724207,\n",
       "  'sentiment_map': 'Negative'},\n",
       " {'text': '@gtbank is ahead of their peers in Nigeria, they stand out on innovation and creativity and are Very technologically advanced.',\n",
       "  'sentiment': 0.9694630381418392,\n",
       "  'sentiment_map': 'Positive'},\n",
       " {'text': \"@gtbank_help Tweeting at you to let you know I'm way so pissed\",\n",
       "  'sentiment': 0.05456207087263465,\n",
       "  'sentiment_map': 'Negative'},\n",
       " {'text': '@gtbank I have logged a complaint since 21st January and there seems to be no solution from GTBank. Of late, no one is even replying my messages. What is happening...?',\n",
       "  'sentiment': 0.04368509049527347,\n",
       "  'sentiment_map': 'Negative'},\n",
       " {'text': '@gtbank what the hell is wrong with the ussd thingy ?',\n",
       "  'sentiment': 0.04254841012880206,\n",
       "  'sentiment_map': 'Negative'},\n",
       " {'text': 'Wettin dey worry @gtbank ????',\n",
       "  'sentiment': 0.41857004165649414,\n",
       "  'sentiment_map': 'Neutral'},\n",
       " {'text': \"@gtbank I don't understand why ur bank kips debiting me 6 naira everyday\",\n",
       "  'sentiment': 0.05943963932804763,\n",
       "  'sentiment_map': 'Negative'},\n",
       " {'text': \"Dear @gtbank  why did you remove money from my account since yesterday and you didn't return it to available balance since then? Pls, return the money in book balance to available balance abeg.  Make no enter one nicker o\",\n",
       "  'sentiment': 0.1941198566928506,\n",
       "  'sentiment_map': 'Negative'},\n",
       " {'text': '@cenbank Please how long does it take for a dispense error to be reversed? @gtbank @gtbank_help has held my fund for over 8 days now and counting on a dispense error.',\n",
       "  'sentiment': 0.17262226436287165,\n",
       "  'sentiment_map': 'Negative'},\n",
       " {'text': \"She's made complaints at @gtbank. It is clear the transaction went through to the @UBAGroup account of @bismid_abuja yet, she has not yet been refunded.  This girl is just a student managing her life abeg. N19,200 is NOT a joke in Nigeria today.  @fccpcnigeria @gtbank_help\",\n",
       "  'sentiment': 0.14708843361586332,\n",
       "  'sentiment_map': 'Negative'},\n",
       " {'text': 'Stupid bank not refunded my 5800 since December, fraudulent fucks. Fix up @gtbank',\n",
       "  'sentiment': 0.014538999530486763,\n",
       "  'sentiment_map': 'Negative'},\n",
       " {'text': 'You guys did it once on March 3rd I reported and nothing has been done till now, same thing yesterday another money fiam. @gtbank_help',\n",
       "  'sentiment': 0.1744994344189763,\n",
       "  'sentiment_map': 'Negative'},\n",
       " {'text': '@gtbank look into this asap',\n",
       "  'sentiment': 0.49073290079832077,\n",
       "  'sentiment_map': 'Neutral'},\n",
       " {'text': '@gtbank it’s more than a month since i was debited for a a failed tx and same happened yesterday and no reversal yet. is it until i copy CBN and mail them before you return my money ? What kind of organized fraud is going on in your bank ????',\n",
       "  'sentiment': 0.04357003141194582,\n",
       "  'sentiment_map': 'Negative'},\n",
       " {'text': '@gtbank u people really wanna run mad, 4-5 different charges ontop one small transfer and the way u idiots are deducting my money from 100-200-300 Now 400.. Let be guided Pls.. Since u peoplw wanna remain unfortunatel like other banks, Thunder from hell with visit u all.',\n",
       "  'sentiment': 0.052506658248603344,\n",
       "  'sentiment_map': 'Negative'},\n",
       " {'text': 'This must be @gtbank',\n",
       "  'sentiment': 0.5365043990314007,\n",
       "  'sentiment_map': 'Neutral'},\n",
       " {'text': '@gtbank like seriously, he who the gods wanna kill they first make mad... How far money just dey disappear from my account, a whole #200 just leave my account now... Gtbank, pls return my 200 Now before Thunder from pit of hell embrace all of u from up to down',\n",
       "  'sentiment': 0.10471501294523478,\n",
       "  'sentiment_map': 'Negative'},\n",
       " {'text': \"@gtbank kindly explain this, because I don't understand.\",\n",
       "  'sentiment': 0.10412382334470749,\n",
       "  'sentiment_map': 'Negative'},\n",
       " {'text': '@gtbank please fix your errors you are beginning to mess things up',\n",
       "  'sentiment': 0.05050091492012143,\n",
       "  'sentiment_map': 'Negative'},\n",
       " {'text': 'I was at @gtbank barnawa Kaduna. This bank I am already losing interest in them, I got deducted over two weeks not, no refund of my funds, yesterday was my second time in the bank..next time I am going there ehnnn na craze I go carry go oh',\n",
       "  'sentiment': 0.07550479099154472,\n",
       "  'sentiment_map': 'Negative'},\n",
       " {'text': 'Guaranty Trust Holdings Plc, @gtbank Declares N43.21bn PAT in Q1 2022 Results,(SP:N24.25k)  https://proshare.co/articles/26224aad-49a4-4bab-b6af-2ffbe7042a5c?menu=Market&classification=Read&category=Corporate',\n",
       "  'sentiment': 0.4578598290681839,\n",
       "  'sentiment_map': 'Neutral'},\n",
       " {'text': '@gtbank try and be sending debit alert immediately after the transaction na. Abi does the life expectancy of a Nigerian man not bother you??',\n",
       "  'sentiment': 0.31918485276401043,\n",
       "  'sentiment_map': 'Neutral'},\n",
       " {'text': '@FirstBankngr @gtbank_help @gtbank @wemabank @PolarisBankLtd @ZenithBank @myaccessbank @UNIONBANK_NG   for Some of you that have now reduce your operation hour by an Hour. due to cost of diesel.  if you can enforce your staff against international laws to get vaccinated',\n",
       "  'sentiment': 0.4296405166387558,\n",
       "  'sentiment_map': 'Neutral'},\n",
       " {'text': '@gtbank  Please who is opening a GTB bank account unknown to me on my behalf this night o?  I keep on seeing messages of me having an account with them this late hour of the day fa',\n",
       "  'sentiment': 0.32955261319875717,\n",
       "  'sentiment_map': 'Neutral'},\n",
       " {'text': '@gtbank_help na 24 hours banking service una promise before I start banking with you people   I go follow una drag this money for court ooooo   Na my money and I wan send am give person',\n",
       "  'sentiment': 0.34079257398843765,\n",
       "  'sentiment_map': 'Neutral'},\n",
       " {'text': 'I recharged from my bank, debited & gat a glo recharge message but my balance is not credited.  Se @gtbank & @GlobacomNigeria wan rip me off ni',\n",
       "  'sentiment': 0.20899684727191925,\n",
       "  'sentiment_map': 'Negative'},\n",
       " {'text': '@gtbank_help what do I need to get a dom account',\n",
       "  'sentiment': 0.4623454287648201,\n",
       "  'sentiment_map': 'Neutral'},\n",
       " {'text': 'You suppose put @gtbank so dem go dey see as thing goes ',\n",
       "  'sentiment': 0.4882969707250595,\n",
       "  'sentiment_map': 'Neutral'},\n",
       " {'text': '@gtbank don tire me , charges wey dem dey deduct  over each transaction ehn...... TBH no be their fault anyways , they have one of the best service',\n",
       "  'sentiment': 0.8355404064059258,\n",
       "  'sentiment_map': 'Positive'},\n",
       " {'text': \"@gtbank It's embarrassing for someone to send you money and still call you to ask if you've received the money sent. It makes one look ungrateful. I hope I won't be charged for alerts I didn't receive though.\",\n",
       "  'sentiment': 0.03659923700615764,\n",
       "  'sentiment_map': 'Negative'},\n",
       " {'text': '@gtbank I run leave them',\n",
       "  'sentiment': 0.40689709037542343,\n",
       "  'sentiment_map': 'Neutral'},\n",
       " {'text': '@gtbank is one of the worstest bank in Nigeria.they will neva refund your if you have dispense error on pos,and customer service is very poor,they didn’t use to keep to thier promise regarding the working days they promise ,one of the most worstest  branch is Magodo Cmd Lagos.',\n",
       "  'sentiment': 0.02421245933510363,\n",
       "  'sentiment_map': 'Negative'},\n",
       " {'text': 'The road that comes from Psychiatric Hospital Barnawa and the one that comes from Highcost meets at a junction in front of @gtbank Barnawa.   There must be a traffic light at that junction to reduce road accidents.',\n",
       "  'sentiment': 0.4252391532063484,\n",
       "  'sentiment_map': 'Neutral'}]"
      ]
     },
     "execution_count": 64,
     "metadata": {},
     "output_type": "execute_result"
    }
   ],
   "source": [
    "selected_df[['text','sentiment','sentiment_map']].to_dict(orient='records')"
   ]
  },
  {
   "cell_type": "code",
   "execution_count": 244,
   "id": "658fe6b7-b0e4-4294-8d8d-b4ce7e686874",
   "metadata": {
    "tags": []
   },
   "outputs": [],
   "source": [
    "# Create a sentiment analysis pipeline\n",
    "pos_sentiment_pipeline = hf_pipeline(\"text-classification\", model=model,\n",
    "                                     tokenizer=tokenizer,return_all_scores=True)"
   ]
  },
  {
   "cell_type": "code",
   "execution_count": 245,
   "id": "88a7115f-5976-4333-adae-1b2798845414",
   "metadata": {
    "tags": []
   },
   "outputs": [
    {
     "name": "stdout",
     "output_type": "stream",
     "text": [
      "[[{'label': 'LABEL_0', 'score': 0.001454407349228859}, {'label': 'LABEL_1', 'score': 0.01471620425581932}, {'label': 'LABEL_2', 'score': 0.9838293194770813}], [{'label': 'LABEL_0', 'score': 0.9232668876647949}, {'label': 'LABEL_1', 'score': 0.07008453458547592}, {'label': 'LABEL_2', 'score': 0.006648621056228876}], [{'label': 'LABEL_0', 'score': 0.3803738057613373}, {'label': 'LABEL_1', 'score': 0.5792319774627686}, {'label': 'LABEL_2', 'score': 0.04039423540234566}]]\n"
     ]
    }
   ],
   "source": [
    "result = pos_sentiment_pipeline(tweet)\n",
    "print(result)"
   ]
  },
  {
   "cell_type": "code",
   "execution_count": 251,
   "id": "a39f32d6-5ba8-40b4-a2a5-8ed2357a5db3",
   "metadata": {
    "tags": []
   },
   "outputs": [
    {
     "data": {
      "text/plain": [
       "{'label': 'LABEL_2', 'score': 0.9838293194770813}"
      ]
     },
     "execution_count": 251,
     "metadata": {},
     "output_type": "execute_result"
    }
   ],
   "source": [
    "result[0][-1]"
   ]
  },
  {
   "cell_type": "code",
   "execution_count": 262,
   "id": "b1cda09e-e48a-46c6-a2d8-57b81ebfe684",
   "metadata": {
    "tags": []
   },
   "outputs": [],
   "source": [
    "# Function to get and map sentiment\n",
    "def get_pos_sentiment_proba(text):\n",
    "    result = pos_sentiment_pipeline(text)\n",
    "    #result = result[0][-1] + result[0][-2]\n",
    "    # Map the model's label to a more descriptive term\n",
    "    pos_sentiment_proba = result[0][-1].get('score', np.nan) + result[0][-2].get('score',np.nan)\n",
    "    return pos_sentiment_proba"
   ]
  },
  {
   "cell_type": "code",
   "execution_count": 263,
   "id": "df4de860-67de-4c26-91c3-54ff339b3e11",
   "metadata": {
    "tags": []
   },
   "outputs": [
    {
     "name": "stdout",
     "output_type": "stream",
     "text": [
      "0.9985455237329006\n",
      "0.0767331556417048\n",
      "0.6196262128651142\n"
     ]
    }
   ],
   "source": [
    "for item in tweet:\n",
    "    print(get_pos_sentiment_proba(item))"
   ]
  },
  {
   "cell_type": "code",
   "execution_count": null,
   "id": "ce1b9e66-f0b2-42a3-abc0-b1a003e66b09",
   "metadata": {},
   "outputs": [],
   "source": []
  },
  {
   "cell_type": "code",
   "execution_count": null,
   "id": "6f11fce9-d0c5-47b2-9197-1cc8e84d2d43",
   "metadata": {},
   "outputs": [],
   "source": []
  },
  {
   "cell_type": "code",
   "execution_count": 243,
   "id": "903ae329-2fbb-457a-8569-4ecd65449bd0",
   "metadata": {
    "tags": []
   },
   "outputs": [
    {
     "name": "stdout",
     "output_type": "stream",
     "text": [
      "Positive\n",
      "Negative\n",
      "Neutral\n"
     ]
    }
   ],
   "source": [
    "for item in tweet:\n",
    "    result = get_mapped_sentiment(item)\n",
    "    print(result)"
   ]
  },
  {
   "cell_type": "code",
   "execution_count": 229,
   "id": "15420e9a-508f-4d22-8ceb-8f90b4358a63",
   "metadata": {
    "tags": []
   },
   "outputs": [
    {
     "data": {
      "text/plain": [
       "numpy.ndarray"
      ]
     },
     "execution_count": 229,
     "metadata": {},
     "output_type": "execute_result"
    }
   ],
   "source": [
    "type(data_normalized)"
   ]
  },
  {
   "cell_type": "code",
   "execution_count": 232,
   "id": "c6dd1160-0a35-4d78-bab3-7f71037f509a",
   "metadata": {
    "tags": []
   },
   "outputs": [
    {
     "data": {
      "text/plain": [
       "<bound method NDFrame.head of                                                    Tweet Sentiment\n",
       "0       dear bring information account open phone number   Neutral\n",
       "1      ah Nov Dec receive account charge sm fraud na ...  Negative\n",
       "2      milli trans year send recharge card talk win s...   Neutral\n",
       "3      steal think account complain time send dm ask ...  Negative\n",
       "4      explain meaning debit account SMS charge alert...   Neutral\n",
       "...                                                  ...       ...\n",
       "11251              ration money atm stop pay week branch   Neutral\n",
       "11252  month unable access account upgrade online ban...  Negative\n",
       "11253  pls refund money card withdrawal decline debit...   Neutral\n",
       "11254  electronic transfer levy charge time send mone...   Neutral\n",
       "11255                     new daily charge naira evening   Neutral\n",
       "\n",
       "[11256 rows x 2 columns]>"
      ]
     },
     "execution_count": 232,
     "metadata": {},
     "output_type": "execute_result"
    }
   ],
   "source": [
    "# Sample DataFrame with an index and tweet texts\n",
    "data = {\n",
    "    'Tweet': data_normalized\n",
    "}\n",
    "df = pd.DataFrame(data)\n",
    "\n",
    "\n",
    "\n",
    "# Apply sentiment analysis to each tweet and map the labels\n",
    "df['Sentiment'] = df['Tweet'].apply(get_mapped_sentiment)\n",
    "\n",
    "# Display the DataFrame\n",
    "df.head"
   ]
  },
  {
   "cell_type": "code",
   "execution_count": 233,
   "id": "96966eb0-4450-47a4-abc5-fef91058eae3",
   "metadata": {
    "tags": []
   },
   "outputs": [
    {
     "data": {
      "text/html": [
       "<div>\n",
       "<style scoped>\n",
       "    .dataframe tbody tr th:only-of-type {\n",
       "        vertical-align: middle;\n",
       "    }\n",
       "\n",
       "    .dataframe tbody tr th {\n",
       "        vertical-align: top;\n",
       "    }\n",
       "\n",
       "    .dataframe thead th {\n",
       "        text-align: right;\n",
       "    }\n",
       "</style>\n",
       "<table border=\"1\" class=\"dataframe\">\n",
       "  <thead>\n",
       "    <tr style=\"text-align: right;\">\n",
       "      <th></th>\n",
       "      <th>Tweet</th>\n",
       "      <th>Sentiment</th>\n",
       "    </tr>\n",
       "  </thead>\n",
       "  <tbody>\n",
       "    <tr>\n",
       "      <th>0</th>\n",
       "      <td>dear bring information account open phone number</td>\n",
       "      <td>Neutral</td>\n",
       "    </tr>\n",
       "    <tr>\n",
       "      <th>1</th>\n",
       "      <td>ah Nov Dec receive account charge sm fraud na ...</td>\n",
       "      <td>Negative</td>\n",
       "    </tr>\n",
       "    <tr>\n",
       "      <th>2</th>\n",
       "      <td>milli trans year send recharge card talk win s...</td>\n",
       "      <td>Neutral</td>\n",
       "    </tr>\n",
       "    <tr>\n",
       "      <th>3</th>\n",
       "      <td>steal think account complain time send dm ask ...</td>\n",
       "      <td>Negative</td>\n",
       "    </tr>\n",
       "    <tr>\n",
       "      <th>4</th>\n",
       "      <td>explain meaning debit account SMS charge alert...</td>\n",
       "      <td>Neutral</td>\n",
       "    </tr>\n",
       "  </tbody>\n",
       "</table>\n",
       "</div>"
      ],
      "text/plain": [
       "                                               Tweet Sentiment\n",
       "0   dear bring information account open phone number   Neutral\n",
       "1  ah Nov Dec receive account charge sm fraud na ...  Negative\n",
       "2  milli trans year send recharge card talk win s...   Neutral\n",
       "3  steal think account complain time send dm ask ...  Negative\n",
       "4  explain meaning debit account SMS charge alert...   Neutral"
      ]
     },
     "execution_count": 233,
     "metadata": {},
     "output_type": "execute_result"
    }
   ],
   "source": [
    "df.head()"
   ]
  },
  {
   "cell_type": "code",
   "execution_count": 234,
   "id": "323b5c1a-6eb9-48bf-a019-59c4b391726e",
   "metadata": {
    "tags": []
   },
   "outputs": [],
   "source": [
    "# Apply sentiment analysis to each tweet and map the labels\n",
    "filtered_df['Sentiment'] = filtered_df['text'].apply(get_mapped_sentiment)"
   ]
  },
  {
   "cell_type": "code",
   "execution_count": 237,
   "id": "3f15a438-aabc-442f-8576-c8adc29ad193",
   "metadata": {
    "tags": []
   },
   "outputs": [
    {
     "data": {
      "text/html": [
       "<div>\n",
       "<style scoped>\n",
       "    .dataframe tbody tr th:only-of-type {\n",
       "        vertical-align: middle;\n",
       "    }\n",
       "\n",
       "    .dataframe tbody tr th {\n",
       "        vertical-align: top;\n",
       "    }\n",
       "\n",
       "    .dataframe thead th {\n",
       "        text-align: right;\n",
       "    }\n",
       "</style>\n",
       "<table border=\"1\" class=\"dataframe\">\n",
       "  <thead>\n",
       "    <tr style=\"text-align: right;\">\n",
       "      <th></th>\n",
       "      <th>text</th>\n",
       "      <th>Sentiment</th>\n",
       "    </tr>\n",
       "  </thead>\n",
       "  <tbody>\n",
       "    <tr>\n",
       "      <th>21</th>\n",
       "      <td>Dear @gtbank  please bring me my information o...</td>\n",
       "      <td>Neutral</td>\n",
       "    </tr>\n",
       "    <tr>\n",
       "      <th>22</th>\n",
       "      <td>Ah.  From Nov 25th to Dec 20. I did it receive...</td>\n",
       "      <td>Negative</td>\n",
       "    </tr>\n",
       "    <tr>\n",
       "      <th>23</th>\n",
       "      <td>With all my milli trans last year @gtbank @gtb...</td>\n",
       "      <td>Neutral</td>\n",
       "    </tr>\n",
       "    <tr>\n",
       "      <th>25</th>\n",
       "      <td>This is stealing!!!! How much do you think I h...</td>\n",
       "      <td>Negative</td>\n",
       "    </tr>\n",
       "    <tr>\n",
       "      <th>26</th>\n",
       "      <td>@gtbank @gtbank_help @gtcrea8 @gtbank_careers ...</td>\n",
       "      <td>Neutral</td>\n",
       "    </tr>\n",
       "  </tbody>\n",
       "</table>\n",
       "</div>"
      ],
      "text/plain": [
       "                                                 text Sentiment\n",
       "21  Dear @gtbank  please bring me my information o...   Neutral\n",
       "22  Ah.  From Nov 25th to Dec 20. I did it receive...  Negative\n",
       "23  With all my milli trans last year @gtbank @gtb...   Neutral\n",
       "25  This is stealing!!!! How much do you think I h...  Negative\n",
       "26  @gtbank @gtbank_help @gtcrea8 @gtbank_careers ...   Neutral"
      ]
     },
     "execution_count": 237,
     "metadata": {},
     "output_type": "execute_result"
    }
   ],
   "source": [
    "filtered_df[['text','Sentiment']].head()"
   ]
  },
  {
   "cell_type": "code",
   "execution_count": 238,
   "id": "41f1aed1-b76c-41ca-80a0-ea35cc167ce9",
   "metadata": {
    "tags": []
   },
   "outputs": [],
   "source": [
    "df.to_csv('sentiment_gtb_1.csv')"
   ]
  },
  {
   "cell_type": "code",
   "execution_count": 239,
   "id": "356c7b20-f1dc-480a-90da-db102ae7e499",
   "metadata": {
    "tags": []
   },
   "outputs": [],
   "source": [
    "filtered_df[['text','Sentiment']].to_csv('sentiment_gtb_2.csv')"
   ]
  },
  {
   "cell_type": "code",
   "execution_count": 267,
   "id": "4a0f12f3-c9e8-40db-a8e3-1e626880a42e",
   "metadata": {
    "tags": []
   },
   "outputs": [],
   "source": [
    "df_with_index = pd.DataFrame(data_normalized,columns=['text'],index=filtered_df.index)"
   ]
  },
  {
   "cell_type": "code",
   "execution_count": 270,
   "id": "70259ace-ed8a-4074-8488-8ae97fc762df",
   "metadata": {
    "tags": []
   },
   "outputs": [
    {
     "name": "stdout",
     "output_type": "stream",
     "text": [
      "<class 'pandas.core.frame.DataFrame'>\n",
      "Index: 11256 entries, 21 to 39052\n",
      "Data columns (total 6 columns):\n",
      " #   Column       Non-Null Count  Dtype              \n",
      "---  ------       --------------  -----              \n",
      " 0   id           11256 non-null  object             \n",
      " 1   text         11256 non-null  object             \n",
      " 2   date         11256 non-null  datetime64[ns, UTC]\n",
      " 3   datetime     11256 non-null  datetime64[ns, UTC]\n",
      " 4   weekly_bins  11256 non-null  period[W-SUN]      \n",
      " 5   Sentiment    11256 non-null  object             \n",
      "dtypes: datetime64[ns, UTC](2), object(3), period[W-SUN](1)\n",
      "memory usage: 615.6+ KB\n"
     ]
    }
   ],
   "source": [
    "filtered_df.info()"
   ]
  },
  {
   "cell_type": "code",
   "execution_count": null,
   "id": "8814bcc0-8912-48d2-9dcd-492ab68d43d0",
   "metadata": {},
   "outputs": [],
   "source": []
  },
  {
   "cell_type": "code",
   "execution_count": 364,
   "id": "a84b62c0-15f8-4934-ad59-871d464b7f25",
   "metadata": {
    "tags": []
   },
   "outputs": [],
   "source": [
    "topic_mapping = {\n",
    "    '0': 'Fraud',\n",
    "    '1': 'Mobile App',\n",
    "    '2': 'General Enquiry',\n",
    "    '3': 'Customer Service Feedback',\n",
    "    '4': 'Physical Branch',\n",
    "    '5': 'General Enquiry',\n",
    "    '6': 'Money Transfer Issues',\n",
    "    '7': 'Dispense Error Issues',\n",
    "    '8': 'Credit Products',\n",
    "    '9': 'General Enquiry'\n",
    "}\n",
    "\n",
    "topic_mapping2 = {\n",
    "    '0': 'Fraud',\n",
    "    '1': 'Miscellaneous',\n",
    "    '2': 'Transaction issues',\n",
    "    '3': 'Card Issues',\n",
    "    '4': 'Mobile App',\n",
    "    '5': 'Miscellaneous',\n",
    "    '6': 'Physical Branch',\n",
    "    '7': 'General Enquiry',\n",
    "    '8': 'Miscellaneous',\n",
    "    '9': 'Dispense Error Issues'\n",
    "}\n"
   ]
  },
  {
   "cell_type": "code",
   "execution_count": 272,
   "id": "b3878212-85ea-462c-ad11-066a6696705a",
   "metadata": {
    "tags": []
   },
   "outputs": [
    {
     "ename": "AttributeError",
     "evalue": "'LdaModel' object has no attribute 'transform'",
     "output_type": "error",
     "traceback": [
      "\u001b[1;31m---------------------------------------------------------------------------\u001b[0m",
      "\u001b[1;31mAttributeError\u001b[0m                            Traceback (most recent call last)",
      "Cell \u001b[1;32mIn[272], line 1\u001b[0m\n\u001b[1;32m----> 1\u001b[0m \u001b[43mlda_model\u001b[49m\u001b[38;5;241;43m.\u001b[39;49m\u001b[43mtransform\u001b[49m(filtered_df[\u001b[38;5;124m'\u001b[39m\u001b[38;5;124mtext\u001b[39m\u001b[38;5;124m'\u001b[39m]\u001b[38;5;241m.\u001b[39miloc[\u001b[38;5;241m0\u001b[39m:\u001b[38;5;241m10\u001b[39m])\n",
      "\u001b[1;31mAttributeError\u001b[0m: 'LdaModel' object has no attribute 'transform'"
     ]
    }
   ],
   "source": [
    "lda_model.transform(filtered_df['text'].iloc[0:10])"
   ]
  },
  {
   "cell_type": "code",
   "execution_count": 603,
   "id": "69165663-cc3c-496e-a0cd-314da6676929",
   "metadata": {
    "tags": []
   },
   "outputs": [],
   "source": [
    "def tokenizer_func(X):\n",
    "    return [word_tokenize(doc.lower()) for doc in X]\n",
    "\n",
    "# Create a Transformer from a tokenizer function so that we can use it in a Pipeline\n",
    "tokenizer = FunctionTransformer(tokenizer_func)"
   ]
  },
  {
   "cell_type": "code",
   "execution_count": 312,
   "id": "43bfb881-fed1-4cd5-acd6-e5b0065635d9",
   "metadata": {
    "tags": []
   },
   "outputs": [],
   "source": [
    "class GensimLdaTransformer(BaseEstimator, TransformerMixin):\n",
    "    def __init__(self, gensim_model, gensim_dictionary):\n",
    "        self.gensim_model = gensim_model\n",
    "        self.gensim_dictionary = gensim_dictionary\n",
    "\n",
    "    def fit(self, X, y=None):\n",
    "        # Since the model is already trained, we don't need to do anything here\n",
    "        return self\n",
    "\n",
    "    def transform(self, X):\n",
    "        # Transform the data into the bag-of-words format\n",
    "        corpus = [self.gensim_dictionary.doc2bow(doc) for doc in X]\n",
    "        # Use the Gensim model to transform the data\n",
    "        transformed_corpus = [self.gensim_model.get_document_topics(bow,minimum_probability=0) for bow in corpus]\n",
    "        # Return the transformed data in a format suitable for scikit-learn\n",
    "        # Here, we're returning the topic distribution for each document\n",
    "        return [[prob for _, prob in doc_topics] for doc_topics in transformed_corpus]\n"
   ]
  },
  {
   "cell_type": "code",
   "execution_count": 313,
   "id": "6ac8447f-1bfb-441c-91f2-a5f55ef8ee12",
   "metadata": {
    "tags": []
   },
   "outputs": [],
   "source": [
    "model_transformer = GensimLdaTransformer(lda_model, gensim_dictionary)"
   ]
  },
  {
   "cell_type": "code",
   "execution_count": 604,
   "id": "65062a85-bfd1-4f31-9c79-f3915b72d94c",
   "metadata": {
    "tags": []
   },
   "outputs": [],
   "source": [
    "gensim_pipeline = Pipeline([('normalizer', normalizer),\n",
    "                            ('tokenizer', tokenizer),\n",
    "                            ('model', model_transformer)])\n"
   ]
  },
  {
   "cell_type": "code",
   "execution_count": 365,
   "id": "861a2af7-3da7-4013-800c-b8d47297db19",
   "metadata": {
    "tags": []
   },
   "outputs": [],
   "source": [
    "def get_topic_assignment(array):\n",
    "  temp_result = (max(range(len(array)), key=array.__getitem__), max(array))\n",
    "  if temp_result[1] < 0.4:\n",
    "        topic = 'Unclassified'\n",
    "  else:\n",
    "       topic = topic_mapping2.get(str(temp_result[0]),'Unclassified')\n",
    "  return topic\n",
    "   "
   ]
  },
  {
   "cell_type": "code",
   "execution_count": 315,
   "id": "e51e61b5-2f68-452a-96de-a3ff1a05cf0d",
   "metadata": {
    "tags": []
   },
   "outputs": [],
   "source": [
    "result_topics = gensim_pipeline.fit_transform(filtered_df['text'].iloc[0:10])"
   ]
  },
  {
   "cell_type": "code",
   "execution_count": 318,
   "id": "b46a2045-6b7f-48bb-b846-f434f7dc2269",
   "metadata": {
    "tags": []
   },
   "outputs": [
    {
     "data": {
      "text/plain": [
       "[[0.026340678,\n",
       "  0.4705905,\n",
       "  0.015595368,\n",
       "  0.013057382,\n",
       "  0.011232986,\n",
       "  0.00985642,\n",
       "  0.43158793,\n",
       "  0.007916601,\n",
       "  0.0072073718,\n",
       "  0.006614771],\n",
       " [0.48484868,\n",
       "  0.009718684,\n",
       "  0.1318476,\n",
       "  0.0065344023,\n",
       "  0.21795009,\n",
       "  0.0049309866,\n",
       "  0.13329412,\n",
       "  0.0039605103,\n",
       "  0.0036056943,\n",
       "  0.003309228]]"
      ]
     },
     "execution_count": 318,
     "metadata": {},
     "output_type": "execute_result"
    }
   ],
   "source": [
    "result_topics[0:2]"
   ]
  },
  {
   "cell_type": "code",
   "execution_count": 317,
   "id": "49e5ac02-6095-4675-b316-c2442c22ffaa",
   "metadata": {
    "tags": []
   },
   "outputs": [
    {
     "name": "stdout",
     "output_type": "stream",
     "text": [
      "Money Transfer Issues\n",
      "Fraud\n",
      "General Enquiry\n",
      "Fraud\n",
      "Fraud\n",
      "Unclassified\n",
      "Fraud\n",
      "General Inquiry\n",
      "Physical Branch\n",
      "Fraud\n"
     ]
    }
   ],
   "source": [
    "for res in result_topics:\n",
    "    print(get_topic_assignment(res))"
   ]
  },
  {
   "cell_type": "code",
   "execution_count": 319,
   "id": "00a5db9d-2ac6-4a66-80c3-54d67f7e035a",
   "metadata": {
    "tags": []
   },
   "outputs": [],
   "source": [
    "predicted_topics = gensim_pipeline.fit_transform(filtered_df['text'])"
   ]
  },
  {
   "cell_type": "code",
   "execution_count": 336,
   "id": "29cd60f3-eb4c-4491-9731-819dcf286675",
   "metadata": {
    "tags": []
   },
   "outputs": [],
   "source": [
    "data_topics = {'topic_distribution':predicted_topics}"
   ]
  },
  {
   "cell_type": "code",
   "execution_count": 337,
   "id": "bb279c8c-0cd5-4206-b144-8dd5bec57347",
   "metadata": {
    "tags": []
   },
   "outputs": [],
   "source": [
    "df_predicted_topics = pd.DataFrame(data_topics,index = filtered_df.index)"
   ]
  },
  {
   "cell_type": "code",
   "execution_count": 338,
   "id": "c7571b4e-9a7e-4152-95b6-30a6c557832b",
   "metadata": {
    "tags": []
   },
   "outputs": [
    {
     "data": {
      "text/html": [
       "<div>\n",
       "<style scoped>\n",
       "    .dataframe tbody tr th:only-of-type {\n",
       "        vertical-align: middle;\n",
       "    }\n",
       "\n",
       "    .dataframe tbody tr th {\n",
       "        vertical-align: top;\n",
       "    }\n",
       "\n",
       "    .dataframe thead th {\n",
       "        text-align: right;\n",
       "    }\n",
       "</style>\n",
       "<table border=\"1\" class=\"dataframe\">\n",
       "  <thead>\n",
       "    <tr style=\"text-align: right;\">\n",
       "      <th></th>\n",
       "      <th>topic_distribution</th>\n",
       "    </tr>\n",
       "  </thead>\n",
       "  <tbody>\n",
       "    <tr>\n",
       "      <th>21</th>\n",
       "      <td>[0.02633998, 0.47062853, 0.015595368, 0.013057...</td>\n",
       "    </tr>\n",
       "    <tr>\n",
       "      <th>22</th>\n",
       "      <td>[0.48465025, 0.009718691, 0.13182493, 0.006534...</td>\n",
       "    </tr>\n",
       "    <tr>\n",
       "      <th>23</th>\n",
       "      <td>[0.01933564, 0.014230931, 0.0113611715, 0.0095...</td>\n",
       "    </tr>\n",
       "    <tr>\n",
       "      <th>25</th>\n",
       "      <td>[0.68735355, 0.008202909, 0.0065843435, 0.2761...</td>\n",
       "    </tr>\n",
       "    <tr>\n",
       "      <th>26</th>\n",
       "      <td>[0.93861073, 0.012005062, 0.0095918495, 0.0080...</td>\n",
       "    </tr>\n",
       "  </tbody>\n",
       "</table>\n",
       "</div>"
      ],
      "text/plain": [
       "                                   topic_distribution\n",
       "21  [0.02633998, 0.47062853, 0.015595368, 0.013057...\n",
       "22  [0.48465025, 0.009718691, 0.13182493, 0.006534...\n",
       "23  [0.01933564, 0.014230931, 0.0113611715, 0.0095...\n",
       "25  [0.68735355, 0.008202909, 0.0065843435, 0.2761...\n",
       "26  [0.93861073, 0.012005062, 0.0095918495, 0.0080..."
      ]
     },
     "execution_count": 338,
     "metadata": {},
     "output_type": "execute_result"
    }
   ],
   "source": [
    "df_predicted_topics.head()"
   ]
  },
  {
   "cell_type": "code",
   "execution_count": 339,
   "id": "9dde1cfc-0257-4d86-af6c-8fc7ab6b09b5",
   "metadata": {
    "tags": []
   },
   "outputs": [],
   "source": [
    "# Merge df1 and df2 on their indices\n",
    "df_merged = pd.merge(filtered_df, df_predicted_topics, left_index=True, right_index=True)"
   ]
  },
  {
   "cell_type": "code",
   "execution_count": 340,
   "id": "1d82da86-0612-4e8c-a734-53cd267d1b57",
   "metadata": {
    "tags": []
   },
   "outputs": [
    {
     "name": "stdout",
     "output_type": "stream",
     "text": [
      "<class 'pandas.core.frame.DataFrame'>\n",
      "Index: 11256 entries, 21 to 39052\n",
      "Data columns (total 4 columns):\n",
      " #   Column              Non-Null Count  Dtype              \n",
      "---  ------              --------------  -----              \n",
      " 0   text                11256 non-null  object             \n",
      " 1   date                11256 non-null  datetime64[ns, UTC]\n",
      " 2   Sentiment           11256 non-null  object             \n",
      " 3   topic_distribution  11256 non-null  object             \n",
      "dtypes: datetime64[ns, UTC](1), object(3)\n",
      "memory usage: 697.7+ KB\n"
     ]
    }
   ],
   "source": [
    "df_merged.drop(['datetime','weekly_bins','id'], axis=1,inplace=True)\n",
    "df_merged.info()"
   ]
  },
  {
   "cell_type": "code",
   "execution_count": 341,
   "id": "20d16600-dd07-4241-85bd-69a158d13631",
   "metadata": {
    "tags": []
   },
   "outputs": [
    {
     "data": {
      "text/html": [
       "<div>\n",
       "<style scoped>\n",
       "    .dataframe tbody tr th:only-of-type {\n",
       "        vertical-align: middle;\n",
       "    }\n",
       "\n",
       "    .dataframe tbody tr th {\n",
       "        vertical-align: top;\n",
       "    }\n",
       "\n",
       "    .dataframe thead th {\n",
       "        text-align: right;\n",
       "    }\n",
       "</style>\n",
       "<table border=\"1\" class=\"dataframe\">\n",
       "  <thead>\n",
       "    <tr style=\"text-align: right;\">\n",
       "      <th></th>\n",
       "      <th>text</th>\n",
       "      <th>date</th>\n",
       "      <th>Sentiment</th>\n",
       "      <th>topic_distribution</th>\n",
       "    </tr>\n",
       "  </thead>\n",
       "  <tbody>\n",
       "    <tr>\n",
       "      <th>21</th>\n",
       "      <td>Dear @gtbank  please bring me my information o...</td>\n",
       "      <td>2021-01-07 23:31:00+00:00</td>\n",
       "      <td>Neutral</td>\n",
       "      <td>[0.02633998, 0.47062853, 0.015595368, 0.013057...</td>\n",
       "    </tr>\n",
       "    <tr>\n",
       "      <th>22</th>\n",
       "      <td>Ah.  From Nov 25th to Dec 20. I did it receive...</td>\n",
       "      <td>2021-01-07 23:30:00+00:00</td>\n",
       "      <td>Negative</td>\n",
       "      <td>[0.48465025, 0.009718691, 0.13182493, 0.006534...</td>\n",
       "    </tr>\n",
       "    <tr>\n",
       "      <th>23</th>\n",
       "      <td>With all my milli trans last year @gtbank @gtb...</td>\n",
       "      <td>2021-01-07 23:29:00+00:00</td>\n",
       "      <td>Neutral</td>\n",
       "      <td>[0.01933564, 0.014230931, 0.0113611715, 0.0095...</td>\n",
       "    </tr>\n",
       "    <tr>\n",
       "      <th>25</th>\n",
       "      <td>This is stealing!!!! How much do you think I h...</td>\n",
       "      <td>2021-01-07 23:12:00+00:00</td>\n",
       "      <td>Negative</td>\n",
       "      <td>[0.68735355, 0.008202909, 0.0065843435, 0.2761...</td>\n",
       "    </tr>\n",
       "    <tr>\n",
       "      <th>26</th>\n",
       "      <td>@gtbank @gtbank_help @gtcrea8 @gtbank_careers ...</td>\n",
       "      <td>2021-01-07 23:10:00+00:00</td>\n",
       "      <td>Neutral</td>\n",
       "      <td>[0.93861073, 0.012005062, 0.0095918495, 0.0080...</td>\n",
       "    </tr>\n",
       "  </tbody>\n",
       "</table>\n",
       "</div>"
      ],
      "text/plain": [
       "                                                 text  \\\n",
       "21  Dear @gtbank  please bring me my information o...   \n",
       "22  Ah.  From Nov 25th to Dec 20. I did it receive...   \n",
       "23  With all my milli trans last year @gtbank @gtb...   \n",
       "25  This is stealing!!!! How much do you think I h...   \n",
       "26  @gtbank @gtbank_help @gtcrea8 @gtbank_careers ...   \n",
       "\n",
       "                        date Sentiment  \\\n",
       "21 2021-01-07 23:31:00+00:00   Neutral   \n",
       "22 2021-01-07 23:30:00+00:00  Negative   \n",
       "23 2021-01-07 23:29:00+00:00   Neutral   \n",
       "25 2021-01-07 23:12:00+00:00  Negative   \n",
       "26 2021-01-07 23:10:00+00:00   Neutral   \n",
       "\n",
       "                                   topic_distribution  \n",
       "21  [0.02633998, 0.47062853, 0.015595368, 0.013057...  \n",
       "22  [0.48465025, 0.009718691, 0.13182493, 0.006534...  \n",
       "23  [0.01933564, 0.014230931, 0.0113611715, 0.0095...  \n",
       "25  [0.68735355, 0.008202909, 0.0065843435, 0.2761...  \n",
       "26  [0.93861073, 0.012005062, 0.0095918495, 0.0080...  "
      ]
     },
     "execution_count": 341,
     "metadata": {},
     "output_type": "execute_result"
    }
   ],
   "source": [
    "df_merged.head()"
   ]
  },
  {
   "cell_type": "code",
   "execution_count": 342,
   "id": "82170379-b720-4a27-8314-bf22bf0d92a2",
   "metadata": {
    "tags": []
   },
   "outputs": [],
   "source": [
    "df_merged['topic'] = df_merged['topic_distribution'].apply(get_topic_assignment)"
   ]
  },
  {
   "cell_type": "code",
   "execution_count": 343,
   "id": "4bfbe53e-22b3-4c63-adde-7a40c348a1f7",
   "metadata": {
    "tags": []
   },
   "outputs": [
    {
     "data": {
      "text/html": [
       "<div>\n",
       "<style scoped>\n",
       "    .dataframe tbody tr th:only-of-type {\n",
       "        vertical-align: middle;\n",
       "    }\n",
       "\n",
       "    .dataframe tbody tr th {\n",
       "        vertical-align: top;\n",
       "    }\n",
       "\n",
       "    .dataframe thead th {\n",
       "        text-align: right;\n",
       "    }\n",
       "</style>\n",
       "<table border=\"1\" class=\"dataframe\">\n",
       "  <thead>\n",
       "    <tr style=\"text-align: right;\">\n",
       "      <th></th>\n",
       "      <th>text</th>\n",
       "      <th>date</th>\n",
       "      <th>Sentiment</th>\n",
       "      <th>topic_distribution</th>\n",
       "      <th>topic</th>\n",
       "    </tr>\n",
       "  </thead>\n",
       "  <tbody>\n",
       "    <tr>\n",
       "      <th>21</th>\n",
       "      <td>Dear @gtbank  please bring me my information o...</td>\n",
       "      <td>2021-01-07 23:31:00+00:00</td>\n",
       "      <td>Neutral</td>\n",
       "      <td>[0.02633998, 0.47062853, 0.015595368, 0.013057...</td>\n",
       "      <td>Money Transfer Issues</td>\n",
       "    </tr>\n",
       "    <tr>\n",
       "      <th>22</th>\n",
       "      <td>Ah.  From Nov 25th to Dec 20. I did it receive...</td>\n",
       "      <td>2021-01-07 23:30:00+00:00</td>\n",
       "      <td>Negative</td>\n",
       "      <td>[0.48465025, 0.009718691, 0.13182493, 0.006534...</td>\n",
       "      <td>Fraud</td>\n",
       "    </tr>\n",
       "    <tr>\n",
       "      <th>23</th>\n",
       "      <td>With all my milli trans last year @gtbank @gtb...</td>\n",
       "      <td>2021-01-07 23:29:00+00:00</td>\n",
       "      <td>Neutral</td>\n",
       "      <td>[0.01933564, 0.014230931, 0.0113611715, 0.0095...</td>\n",
       "      <td>General Enquiry</td>\n",
       "    </tr>\n",
       "    <tr>\n",
       "      <th>25</th>\n",
       "      <td>This is stealing!!!! How much do you think I h...</td>\n",
       "      <td>2021-01-07 23:12:00+00:00</td>\n",
       "      <td>Negative</td>\n",
       "      <td>[0.68735355, 0.008202909, 0.0065843435, 0.2761...</td>\n",
       "      <td>Fraud</td>\n",
       "    </tr>\n",
       "    <tr>\n",
       "      <th>26</th>\n",
       "      <td>@gtbank @gtbank_help @gtcrea8 @gtbank_careers ...</td>\n",
       "      <td>2021-01-07 23:10:00+00:00</td>\n",
       "      <td>Neutral</td>\n",
       "      <td>[0.93861073, 0.012005062, 0.0095918495, 0.0080...</td>\n",
       "      <td>Fraud</td>\n",
       "    </tr>\n",
       "  </tbody>\n",
       "</table>\n",
       "</div>"
      ],
      "text/plain": [
       "                                                 text  \\\n",
       "21  Dear @gtbank  please bring me my information o...   \n",
       "22  Ah.  From Nov 25th to Dec 20. I did it receive...   \n",
       "23  With all my milli trans last year @gtbank @gtb...   \n",
       "25  This is stealing!!!! How much do you think I h...   \n",
       "26  @gtbank @gtbank_help @gtcrea8 @gtbank_careers ...   \n",
       "\n",
       "                        date Sentiment  \\\n",
       "21 2021-01-07 23:31:00+00:00   Neutral   \n",
       "22 2021-01-07 23:30:00+00:00  Negative   \n",
       "23 2021-01-07 23:29:00+00:00   Neutral   \n",
       "25 2021-01-07 23:12:00+00:00  Negative   \n",
       "26 2021-01-07 23:10:00+00:00   Neutral   \n",
       "\n",
       "                                   topic_distribution                  topic  \n",
       "21  [0.02633998, 0.47062853, 0.015595368, 0.013057...  Money Transfer Issues  \n",
       "22  [0.48465025, 0.009718691, 0.13182493, 0.006534...                  Fraud  \n",
       "23  [0.01933564, 0.014230931, 0.0113611715, 0.0095...        General Enquiry  \n",
       "25  [0.68735355, 0.008202909, 0.0065843435, 0.2761...                  Fraud  \n",
       "26  [0.93861073, 0.012005062, 0.0095918495, 0.0080...                  Fraud  "
      ]
     },
     "execution_count": 343,
     "metadata": {},
     "output_type": "execute_result"
    }
   ],
   "source": [
    "df_merged.head()"
   ]
  },
  {
   "cell_type": "code",
   "execution_count": 344,
   "id": "f5b162e5-89e4-48f5-98a9-c14e3d4507c7",
   "metadata": {
    "tags": []
   },
   "outputs": [],
   "source": [
    "df_merged.reset_index().to_csv('gensim_topic.csv',index=False)"
   ]
  },
  {
   "cell_type": "code",
   "execution_count": 359,
   "id": "dc16d7fa-8863-41c8-ac23-30e0de4c20f1",
   "metadata": {
    "tags": []
   },
   "outputs": [
    {
     "name": "stdout",
     "output_type": "stream",
     "text": [
      "Dear @gtbank  please bring me my information of my account which I was opened with you 0486662*** with this phone number 08153921236\n",
      "[0.026340263, 0.47059926, 0.015595368, 0.013057382, 0.011232986, 0.00985642, 0.43157956, 0.007916601, 0.0072073718, 0.006614771]\n",
      "Mobile App \n",
      "\n",
      "Ah.  From Nov 25th to Dec 20. I did it receive up to 20k in that account and you are charging me 400+ for sms. This is fraud na. @gtbank do you have to steal and kill your customers?  Y’all have 24hours to revoke and give me back my money. Else I’ll dedicate a tweet daily to y’al\n",
      "[0.48471376, 0.009718689, 0.13183302, 0.0065344027, 0.21795303, 0.004930987, 0.1334407, 0.0039605103, 0.0036056945, 0.0033092282]\n",
      "Fraud \n",
      "\n",
      "With all my milli trans last year @gtbank @gtbank_help never sent me a recharge card talk more this. They should win the stingy bank of the year. \n",
      "[0.019335067, 0.014230783, 0.011361163, 0.009501686, 0.5282072, 0.0071715307, 0.3943758, 0.00575999, 0.005243965, 0.004812798]\n",
      "Physical Branch \n",
      "\n",
      "This is stealing!!!! How much do you think I had in that account. I complained the last time and y’all send a dm @gtbank_help and asked me for statement and details. Well please explain this else I’ll take it up as a new job to preach fraud and bad about your bank. This is evil\n",
      "[0.68736964, 0.008202909, 0.006584344, 0.2761084, 0.0047308463, 0.004150978, 0.0036978775, 0.0033339825, 0.003035298, 0.0027857313]\n",
      "Fraud \n",
      "\n",
      "@gtbank @gtbank_help @gtcrea8 @gtbank_careers please can y’all explain the meaning of this to me. How can you just debit N464 plus N34 from my account as SMS charge?  For every alert than enters my phone y’all remove 15 to 20. For every debit. Y’all remove N17.50. Now what does\n",
      "[0.9386115, 0.012004324, 0.00959185, 0.008034391, 0.0069121616, 0.006065265, 0.0054033073, 0.004871581, 0.0044351444, 0.00407048]\n",
      "Fraud \n",
      "\n",
      "@gtbank @gtbank https://ao.gtbank.com/SelfServiceApp_final/start.aspx\n",
      "[0.20349775, 0.1546068, 0.12465746, 0.10442833, 0.08984802, 0.0788403, 0.07023542, 0.063324034, 0.057650995, 0.052910846]\n",
      "Unclassified \n",
      "\n",
      "@gtbank una dey ment?!\n",
      "[0.57370555, 0.03878407, 0.031181496, 0.026117504, 0.24944814, 0.019715706, 0.017563818, 0.01583548, 0.014416818, 0.013231445]\n",
      "Fraud \n",
      "\n",
      "Honestly this also happened to me. I have been charged #200 countless times with out me buying airtime. I recharged 3500 and one 200 from nowhere was debited from my account. @gtbank_help @gtbank\n",
      "[0.14013001, 0.01556892, 0.012470336, 0.010445775, 0.008985829, 0.007884605, 0.7871247, 0.0063328533, 0.0057655075, 0.005291457]\n",
      "Money Transfer Issues \n",
      "\n",
      "@gtbank, @gtbank_help,   I am convinced beyond reasonable doubt that GTBANK debited my account with the SMS ALERT CHARGE FOR FEB 2019 in March 2019.  Debiting me again for SMS ALERT CHARGE FOR FEB 2019 in January 2021 will amount to me being debited TWICE for the same service.\n",
      "[0.4210749, 0.0077555594, 0.00623695, 0.0052257245, 0.00449406, 0.0039432324, 0.003512862, 0.54222697, 0.0028834296, 0.0026463491]\n",
      "Dispense Error Issues \n",
      "\n",
      "@gtbank, @gtbank_help  Why on earth am I just being charged the SMS ALERT CHARGE FOR FEB 2019 - MAR 2019 on Thursday, January 28, 2021???   March 2019, was 21 months ago!!!   This is CRAZY!!!  @cenbank, @fccpcnigeria @TundeIrukera, kindly look into this.   Thank you.\n",
      "[0.40284213, 0.010347834, 0.07895236, 0.24075548, 0.0059927804, 0.005258487, 0.0046844375, 0.24379247, 0.0038450938, 0.0035289438]\n",
      "Fraud \n",
      "\n"
     ]
    }
   ],
   "source": [
    "check_text = filtered_df['text'].iloc[0:10].to_list()\n",
    "for text in check_text:\n",
    "    print(text)\n",
    "    temp_result = gensim_pipeline.fit_transform([text,])[0]\n",
    "    print(temp_result)\n",
    "    print(get_topic_assignment(temp_result),\"\\n\")"
   ]
  },
  {
   "cell_type": "code",
   "execution_count": 362,
   "id": "a60d1ac7-d89b-4469-be6d-b12efac22747",
   "metadata": {
    "tags": []
   },
   "outputs": [
    {
     "name": "stdout",
     "output_type": "stream",
     "text": [
      "Pipeline(steps=[('preprocessor',\n",
      "                 Pipeline(steps=[('normalizer',\n",
      "                                  FunctionTransformer(func=<function normalize_text at 0x000001DEBFC67AF0>)),\n",
      "                                 ('vectorizer',\n",
      "                                  CountVectorizer(max_df=0.75,\n",
      "                                                  max_features=5000,\n",
      "                                                  min_df=2))])),\n",
      "                ('model',\n",
      "                 LatentDirichletAllocation(doc_topic_prior=0.01,\n",
      "                                           learning_method='online', max_iter=5,\n",
      "                                           random_state=27,\n",
      "                                           topic_word_prior=0.91))])\n"
     ]
    }
   ],
   "source": [
    "#check_text\n",
    "print(pipeline)"
   ]
  },
  {
   "cell_type": "code",
   "execution_count": 366,
   "id": "e08c502a-c38a-4940-aca1-6b5d4e86d861",
   "metadata": {
    "tags": []
   },
   "outputs": [
    {
     "name": "stdout",
     "output_type": "stream",
     "text": [
      "Dear @gtbank  please bring me my information of my account which I was opened with you 0486662*** with this phone number 08153921236\n",
      "[0.00140845 0.00140845 0.00140845 0.98732394 0.00140845 0.00140845\n",
      " 0.00140845 0.00140845 0.00140845 0.00140845]\n",
      "Card Issues \n",
      "\n",
      "Ah.  From Nov 25th to Dec 20. I did it receive up to 20k in that account and you are charging me 400+ for sms. This is fraud na. @gtbank do you have to steal and kill your customers?  Y’all have 24hours to revoke and give me back my money. Else I’ll dedicate a tweet daily to y’al\n",
      "[0.00066225 0.00066225 0.46946207 0.3100903  0.00066225 0.00066225\n",
      " 0.00066225 0.00066225 0.21581187 0.00066225]\n",
      "Transaction issues \n",
      "\n",
      "With all my milli trans last year @gtbank @gtbank_help never sent me a recharge card talk more this. They should win the stingy bank of the year. \n",
      "[0.0009901  0.0009901  0.27751436 0.16204566 0.0009901  0.0009901\n",
      " 0.0009901  0.0009901  0.55350929 0.0009901 ]\n",
      "Miscellaneous \n",
      "\n",
      "This is stealing!!!! How much do you think I had in that account. I complained the last time and y’all send a dm @gtbank_help and asked me for statement and details. Well please explain this else I’ll take it up as a new job to preach fraud and bad about your bank. This is evil\n",
      "[5.52486188e-04 5.52486188e-04 3.08751771e-01 6.86828340e-01\n",
      " 5.52486188e-04 5.52486188e-04 5.52486188e-04 5.52486188e-04\n",
      " 5.52486188e-04 5.52486188e-04]\n",
      "Card Issues \n",
      "\n",
      "@gtbank @gtbank_help @gtcrea8 @gtbank_careers please can y’all explain the meaning of this to me. How can you just debit N464 plus N34 from my account as SMS charge?  For every alert than enters my phone y’all remove 15 to 20. For every debit. Y’all remove N17.50. Now what does\n",
      "[0.00082645 0.00082645 0.31387225 0.67951618 0.00082645 0.00082645\n",
      " 0.00082645 0.00082645 0.00082645 0.00082645]\n",
      "Card Issues \n",
      "\n",
      "@gtbank @gtbank https://ao.gtbank.com/SelfServiceApp_final/start.aspx\n",
      "[0.1 0.1 0.1 0.1 0.1 0.1 0.1 0.1 0.1 0.1]\n",
      "Unclassified \n",
      "\n",
      "@gtbank una dey ment?!\n",
      "[0.00322581 0.00322581 0.00322581 0.00322581 0.00322581 0.00322581\n",
      " 0.00322581 0.00322581 0.97096774 0.00322581]\n",
      "Miscellaneous \n",
      "\n",
      "Honestly this also happened to me. I have been charged #200 countless times with out me buying airtime. I recharged 3500 and one 200 from nowhere was debited from my account. @gtbank_help @gtbank\n",
      "[0.0010989  0.0010989  0.80826768 0.18294111 0.0010989  0.0010989\n",
      " 0.0010989  0.0010989  0.0010989  0.0010989 ]\n",
      "Transaction issues \n",
      "\n",
      "@gtbank, @gtbank_help,   I am convinced beyond reasonable doubt that GTBANK debited my account with the SMS ALERT CHARGE FOR FEB 2019 in March 2019.  Debiting me again for SMS ALERT CHARGE FOR FEB 2019 in January 2021 will amount to me being debited TWICE for the same service.\n",
      "[0.00052356 0.00052356 0.31721103 0.46063913 0.00052356 0.00052356\n",
      " 0.00052356 0.00052356 0.00052356 0.21848493]\n",
      "Card Issues \n",
      "\n",
      "@gtbank, @gtbank_help  Why on earth am I just being charged the SMS ALERT CHARGE FOR FEB 2019 - MAR 2019 on Thursday, January 28, 2021???   March 2019, was 21 months ago!!!   This is CRAZY!!!  @cenbank, @fccpcnigeria @TundeIrukera, kindly look into this.   Thank you.\n",
      "[0.00070922 0.00070922 0.45865999 0.29647026 0.00070922 0.00070922\n",
      " 0.00070922 0.07555991 0.00070922 0.16505452]\n",
      "Transaction issues \n",
      "\n"
     ]
    }
   ],
   "source": [
    "check_text = filtered_df['text'].iloc[0:10].to_list()\n",
    "for text in check_text:\n",
    "    print(text)\n",
    "    temp_result = pipeline.transform([text,])[0]\n",
    "    print(temp_result)\n",
    "    print(get_topic_assignment(temp_result),\"\\n\")"
   ]
  },
  {
   "cell_type": "code",
   "execution_count": 599,
   "id": "937dee92-b84c-4dc6-81d4-97b3ab6b9469",
   "metadata": {
    "tags": []
   },
   "outputs": [
    {
     "name": "stdout",
     "output_type": "stream",
     "text": [
      "Pipeline(steps=[('preprocessor',\n",
      "                 Pipeline(steps=[('normalizer',\n",
      "                                  FunctionTransformer(func=<function normalize_text at 0x000001DEBFC67AF0>)),\n",
      "                                 ('vectorizer',\n",
      "                                  CountVectorizer(max_df=0.95,\n",
      "                                                  max_features=5000, min_df=50,\n",
      "                                                  ngram_range=(1, 3),\n",
      "                                                  stop_words=['nothing',\n",
      "                                                              'forty', 'beyond',\n",
      "                                                              'yours',\n",
      "                                                              'however',\n",
      "                                                              'fifty', 'seems',\n",
      "                                                              'meanwhile', 'be',\n",
      "                                                              'well', 'put',\n",
      "                                                              'thence', 'his',\n",
      "                                                              'some', 'hundred',\n",
      "                                                              'am', 'but',\n",
      "                                                              'such', 'besides',\n",
      "                                                              'down', 'due',\n",
      "                                                              'although', 'yet',\n",
      "                                                              'onto', 'if',\n",
      "                                                              'wherever',\n",
      "                                                              'latter', 'made',\n",
      "                                                              'together', 'her', ...]))])),\n",
      "                ('model',\n",
      "                 LatentDirichletAllocation(doc_topic_prior=0.01,\n",
      "                                           random_state=27,\n",
      "                                           topic_word_prior=0.91))])\n"
     ]
    }
   ],
   "source": [
    "print(pipeline)"
   ]
  },
  {
   "cell_type": "code",
   "execution_count": 600,
   "id": "e0df514b-1393-46ad-819f-5a2f3e2f3199",
   "metadata": {
    "tags": []
   },
   "outputs": [
    {
     "name": "stdout",
     "output_type": "stream",
     "text": [
      "Pipeline(steps=[('normalizer',\n",
      "                 FunctionTransformer(func=<function normalize_text at 0x000001DEBFC67AF0>)),\n",
      "                ('tokenizer',\n",
      "                 FunctionTransformer(func=<function <lambda> at 0x000001DEC8DF0EE0>)),\n",
      "                ('model',\n",
      "                 GensimLdaTransformer(gensim_dictionary=<gensim.corpora.dictionary.Dictionary object at 0x000001DEC0423DC0>,\n",
      "                                      gensim_model=<gensim.models.ldamodel.LdaModel object at 0x000001DEE44FA7C0>))])\n"
     ]
    }
   ],
   "source": [
    "print(gensim_pipeline)"
   ]
  },
  {
   "cell_type": "code",
   "execution_count": 601,
   "id": "ac0ef236-f264-42de-8c80-836c856412d6",
   "metadata": {
    "tags": []
   },
   "outputs": [
    {
     "data": {
      "text/plain": [
       "['sklearn_LDA_pipeline.joblib']"
      ]
     },
     "execution_count": 601,
     "metadata": {},
     "output_type": "execute_result"
    }
   ],
   "source": [
    "#joblib.dump(pipeline,'sklearn_LDA_pipeline.joblib')"
   ]
  },
  {
   "cell_type": "code",
   "execution_count": 605,
   "id": "7d14d0a2-dc9c-4089-83c1-e5aa130f9037",
   "metadata": {
    "tags": []
   },
   "outputs": [
    {
     "data": {
      "text/plain": [
       "['gensim_LDA_pipeline.joblib']"
      ]
     },
     "execution_count": 605,
     "metadata": {},
     "output_type": "execute_result"
    }
   ],
   "source": [
    "#joblib.dump(gensim_pipeline,'gensim_LDA_pipeline.joblib')"
   ]
  },
  {
   "cell_type": "code",
   "execution_count": 1,
   "id": "1aab96c7-e780-4292-9c25-1604f97629e6",
   "metadata": {
    "tags": []
   },
   "outputs": [
    {
     "ename": "NameError",
     "evalue": "name 'filtered_df' is not defined",
     "output_type": "error",
     "traceback": [
      "\u001b[1;31m---------------------------------------------------------------------------\u001b[0m",
      "\u001b[1;31mNameError\u001b[0m                                 Traceback (most recent call last)",
      "Cell \u001b[1;32mIn[1], line 1\u001b[0m\n\u001b[1;32m----> 1\u001b[0m \u001b[43mfiltered_df\u001b[49m\u001b[38;5;241m.\u001b[39minfo()\n",
      "\u001b[1;31mNameError\u001b[0m: name 'filtered_df' is not defined"
     ]
    }
   ],
   "source": [
    "filtered_df.info()"
   ]
  },
  {
   "cell_type": "code",
   "execution_count": 2,
   "id": "77745d94-9842-4b5e-bd02-21a9163cb007",
   "metadata": {
    "tags": []
   },
   "outputs": [
    {
     "ename": "NameError",
     "evalue": "name 'check_text' is not defined",
     "output_type": "error",
     "traceback": [
      "\u001b[1;31m---------------------------------------------------------------------------\u001b[0m",
      "\u001b[1;31mNameError\u001b[0m                                 Traceback (most recent call last)",
      "Cell \u001b[1;32mIn[2], line 1\u001b[0m\n\u001b[1;32m----> 1\u001b[0m \u001b[43mcheck_text\u001b[49m\n",
      "\u001b[1;31mNameError\u001b[0m: name 'check_text' is not defined"
     ]
    }
   ],
   "source": [
    "check_text"
   ]
  },
  {
   "cell_type": "code",
   "execution_count": null,
   "id": "45c9b404-5719-4696-a051-8cc080433bb5",
   "metadata": {},
   "outputs": [],
   "source": []
  },
  {
   "cell_type": "code",
   "execution_count": null,
   "id": "11213591-9bc7-4fa0-b8c4-7bfc34e5f009",
   "metadata": {},
   "outputs": [],
   "source": []
  },
  {
   "cell_type": "code",
   "execution_count": null,
   "id": "d02ca969-d1fd-45df-87f2-565b072ca606",
   "metadata": {},
   "outputs": [],
   "source": []
  }
 ],
 "metadata": {
  "kernelspec": {
   "display_name": "Python [conda env:datascience] *",
   "language": "python",
   "name": "conda-env-datascience-py"
  },
  "language_info": {
   "codemirror_mode": {
    "name": "ipython",
    "version": 3
   },
   "file_extension": ".py",
   "mimetype": "text/x-python",
   "name": "python",
   "nbconvert_exporter": "python",
   "pygments_lexer": "ipython3",
   "version": "3.8.18"
  }
 },
 "nbformat": 4,
 "nbformat_minor": 5
}
