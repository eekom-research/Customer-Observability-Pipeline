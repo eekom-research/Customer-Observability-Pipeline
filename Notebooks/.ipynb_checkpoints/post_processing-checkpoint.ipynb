{
 "cells": [
  {
   "cell_type": "code",
   "execution_count": 1,
   "id": "8fd39979-c400-4a5d-bc77-ed1fc739274c",
   "metadata": {},
   "outputs": [],
   "source": [
    "from datetime import datetime, timedelta,timezone\n",
    "import pandas as pd\n",
    "import numpy  as np\n",
    "from sklearn import set_config\n",
    "import joblib\n",
    "\n",
    "# from db import Model, Session, engine\n",
    "# from models import Tweet, ProcessedTweet, Company\n",
    "\n",
    "\n",
    "\n",
    "from custom_package.text_processing import normalize_text, tokenizer_func, remove_emojis\n",
    "from custom_package.modeling import GensimLdaTransformer, get_topic_assignment, get_pos_sentiment_proba\n",
    "from custom_package.modeling import topic_mapping_sk_lda, topic_mapping_gensim_lda, topic_mapping_sk_full_lda\n",
    "from custom_package.database import get_raw_tweets, store_processed_tweets"
   ]
  },
  {
   "cell_type": "code",
   "execution_count": 2,
   "id": "0a1d6d02",
   "metadata": {},
   "outputs": [],
   "source": [
    "set_config(display='diagram')"
   ]
  },
  {
   "cell_type": "code",
   "execution_count": null,
   "id": "cddce05f",
   "metadata": {},
   "outputs": [],
   "source": []
  },
  {
   "cell_type": "code",
   "execution_count": null,
   "id": "54118959",
   "metadata": {},
   "outputs": [],
   "source": []
  },
  {
   "cell_type": "code",
   "execution_count": 3,
   "id": "77773856",
   "metadata": {},
   "outputs": [],
   "source": [
    "def get_filtered_tweets(query_limit = 100):\n",
    "    raw_tweets = get_raw_tweets(query_limit)\n",
    "    data = {'id' : [tweet.id for tweet in raw_tweets],\n",
    "        'text' : [remove_emojis(tweet.text) for tweet in raw_tweets],\n",
    "        'company_id' : [tweet.company_id for tweet in raw_tweets],\n",
    "        'date' : [tweet.date for tweet in raw_tweets]\n",
    "        }\n",
    "    filtered_df = pd.DataFrame(data)\n",
    "    return filtered_df"
   ]
  },
  {
   "cell_type": "code",
   "execution_count": 4,
   "id": "4fc19193",
   "metadata": {},
   "outputs": [],
   "source": [
    "filtered_df = get_filtered_tweets()"
   ]
  },
  {
   "cell_type": "code",
   "execution_count": 5,
   "id": "07d6cf33",
   "metadata": {},
   "outputs": [
    {
     "data": {
      "text/html": [
       "<div>\n",
       "<style scoped>\n",
       "    .dataframe tbody tr th:only-of-type {\n",
       "        vertical-align: middle;\n",
       "    }\n",
       "\n",
       "    .dataframe tbody tr th {\n",
       "        vertical-align: top;\n",
       "    }\n",
       "\n",
       "    .dataframe thead th {\n",
       "        text-align: right;\n",
       "    }\n",
       "</style>\n",
       "<table border=\"1\" class=\"dataframe\">\n",
       "  <thead>\n",
       "    <tr style=\"text-align: right;\">\n",
       "      <th></th>\n",
       "      <th>id</th>\n",
       "      <th>text</th>\n",
       "      <th>company_id</th>\n",
       "      <th>date</th>\n",
       "    </tr>\n",
       "  </thead>\n",
       "  <tbody>\n",
       "    <tr>\n",
       "      <th>0</th>\n",
       "      <td>e2025ffbfaab1fb2cb0d2b989b0da5b80b896c1c400f21...</td>\n",
       "      <td>@gtbank @gtbank_help Return my money Abeg!!! 5...</td>\n",
       "      <td>1</td>\n",
       "      <td>2023-01-11 08:23:00-05:00</td>\n",
       "    </tr>\n",
       "    <tr>\n",
       "      <th>1</th>\n",
       "      <td>5f93f87f8dc1a512bde089428190d7b0829052ffe868a3...</td>\n",
       "      <td>@gtbank_help This your customer care line be p...</td>\n",
       "      <td>1</td>\n",
       "      <td>2023-01-11 08:20:00-05:00</td>\n",
       "    </tr>\n",
       "    <tr>\n",
       "      <th>2</th>\n",
       "      <td>165dd482dd792047ee16fef14c278306aee4f903c354c0...</td>\n",
       "      <td>@gtbank_help I need help with the authorizatio...</td>\n",
       "      <td>1</td>\n",
       "      <td>2023-01-11 08:18:00-05:00</td>\n",
       "    </tr>\n",
       "    <tr>\n",
       "      <th>3</th>\n",
       "      <td>edcf21a701b43a125811690025d44be54b36c39b6bd371...</td>\n",
       "      <td>So,u no see @ZenithBank ??</td>\n",
       "      <td>1</td>\n",
       "      <td>2023-01-11 08:17:00-05:00</td>\n",
       "    </tr>\n",
       "    <tr>\n",
       "      <th>4</th>\n",
       "      <td>d918053a7429c998f823dead2d8632a8ac40169d30bee1...</td>\n",
       "      <td>Recently, some banks in Nigeria suspended inte...</td>\n",
       "      <td>1</td>\n",
       "      <td>2023-01-11 08:16:00-05:00</td>\n",
       "    </tr>\n",
       "  </tbody>\n",
       "</table>\n",
       "</div>"
      ],
      "text/plain": [
       "                                                  id  \\\n",
       "0  e2025ffbfaab1fb2cb0d2b989b0da5b80b896c1c400f21...   \n",
       "1  5f93f87f8dc1a512bde089428190d7b0829052ffe868a3...   \n",
       "2  165dd482dd792047ee16fef14c278306aee4f903c354c0...   \n",
       "3  edcf21a701b43a125811690025d44be54b36c39b6bd371...   \n",
       "4  d918053a7429c998f823dead2d8632a8ac40169d30bee1...   \n",
       "\n",
       "                                                text  company_id  \\\n",
       "0  @gtbank @gtbank_help Return my money Abeg!!! 5...           1   \n",
       "1  @gtbank_help This your customer care line be p...           1   \n",
       "2  @gtbank_help I need help with the authorizatio...           1   \n",
       "3                         So,u no see @ZenithBank ??           1   \n",
       "4  Recently, some banks in Nigeria suspended inte...           1   \n",
       "\n",
       "                       date  \n",
       "0 2023-01-11 08:23:00-05:00  \n",
       "1 2023-01-11 08:20:00-05:00  \n",
       "2 2023-01-11 08:18:00-05:00  \n",
       "3 2023-01-11 08:17:00-05:00  \n",
       "4 2023-01-11 08:16:00-05:00  "
      ]
     },
     "execution_count": 5,
     "metadata": {},
     "output_type": "execute_result"
    }
   ],
   "source": [
    "filtered_df.head()"
   ]
  },
  {
   "cell_type": "code",
   "execution_count": 6,
   "id": "a1c6f605",
   "metadata": {},
   "outputs": [],
   "source": [
    "sk_lda_pipeline = joblib.load('sklearn_LDA_pipeline.joblib')"
   ]
  },
  {
   "cell_type": "code",
   "execution_count": 7,
   "id": "d2da7098",
   "metadata": {},
   "outputs": [
    {
     "name": "stdout",
     "output_type": "stream",
     "text": [
      "Pipeline(steps=[('preprocessor',\n",
      "                 Pipeline(steps=[('normalizer',\n",
      "                                  FunctionTransformer(func=<function normalize_text at 0x00000124B7D14AF0>)),\n",
      "                                 ('vectorizer',\n",
      "                                  CountVectorizer(max_df=0.95,\n",
      "                                                  max_features=5000, min_df=50,\n",
      "                                                  ngram_range=(1, 3),\n",
      "                                                  stop_words=['nothing',\n",
      "                                                              'forty', 'beyond',\n",
      "                                                              'yours',\n",
      "                                                              'however',\n",
      "                                                              'fifty', 'seems',\n",
      "                                                              'meanwhile', 'be',\n",
      "                                                              'well', 'put',\n",
      "                                                              'thence', 'his',\n",
      "                                                              'some', 'hundred',\n",
      "                                                              'am', 'but',\n",
      "                                                              'such', 'besides',\n",
      "                                                              'down', 'due',\n",
      "                                                              'although', 'yet',\n",
      "                                                              'onto', 'if',\n",
      "                                                              'wherever',\n",
      "                                                              'latter', 'made',\n",
      "                                                              'together', 'her', ...]))])),\n",
      "                ('model',\n",
      "                 LatentDirichletAllocation(doc_topic_prior=0.01,\n",
      "                                           random_state=27,\n",
      "                                           topic_word_prior=0.91))])\n"
     ]
    }
   ],
   "source": [
    "print(sk_lda_pipeline)"
   ]
  },
  {
   "cell_type": "code",
   "execution_count": 8,
   "id": "51085627",
   "metadata": {},
   "outputs": [],
   "source": [
    "gensim_lda_pipeline = joblib.load('gensim_LDA_pipeline.joblib')"
   ]
  },
  {
   "cell_type": "code",
   "execution_count": 9,
   "id": "9d2b05ad",
   "metadata": {},
   "outputs": [
    {
     "name": "stdout",
     "output_type": "stream",
     "text": [
      "Pipeline(steps=[('normalizer',\n",
      "                 FunctionTransformer(func=<function normalize_text at 0x00000124B7D14AF0>)),\n",
      "                ('tokenizer',\n",
      "                 FunctionTransformer(func=<function tokenizer_func at 0x00000124C2E44940>)),\n",
      "                ('model',\n",
      "                 GensimLdaTransformer(gensim_dictionary=<gensim.corpora.dictionary.Dictionary object at 0x00000124C7CA5D00>,\n",
      "                                      gensim_model=<gensim.models.ldamodel.LdaModel object at 0x00000124C68B07C0>))])\n"
     ]
    }
   ],
   "source": [
    "print(gensim_lda_pipeline)"
   ]
  },
  {
   "cell_type": "code",
   "execution_count": 10,
   "id": "8bce548b",
   "metadata": {},
   "outputs": [],
   "source": [
    "sk_full_lda_pipeline = joblib.load('full_lda_pipeline.joblib')"
   ]
  },
  {
   "cell_type": "code",
   "execution_count": 11,
   "id": "3464581d",
   "metadata": {},
   "outputs": [
    {
     "name": "stdout",
     "output_type": "stream",
     "text": [
      "Pipeline(steps=[('preprocessor',\n",
      "                 Pipeline(steps=[('normalizer',\n",
      "                                  FunctionTransformer(func=<function normalize_text at 0x00000124B7D14AF0>)),\n",
      "                                 ('vectorizer',\n",
      "                                  CountVectorizer(max_df=0.95,\n",
      "                                                  max_features=10000,\n",
      "                                                  min_df=100,\n",
      "                                                  ngram_range=(1, 3),\n",
      "                                                  stop_words=['fill', 'many',\n",
      "                                                              'their', 'which',\n",
      "                                                              'may', 'becomes',\n",
      "                                                              'somehow', 'with',\n",
      "                                                              'yet', 'each',\n",
      "                                                              'or', 'several',\n",
      "                                                              'thereafter',\n",
      "                                                              'hereafter',\n",
      "                                                              'hers', 'part',\n",
      "                                                              'six', 'another',\n",
      "                                                              'un', 'con',\n",
      "                                                              'before',\n",
      "                                                              'whether',\n",
      "                                                              'nothing',\n",
      "                                                              'bottom',\n",
      "                                                              'everywhere',\n",
      "                                                              'give', 'on',\n",
      "                                                              'though',\n",
      "                                                              'already', 'too', ...]))])),\n",
      "                ('model',\n",
      "                 LatentDirichletAllocation(doc_topic_prior=0.01, n_jobs=-1,\n",
      "                                           random_state=27,\n",
      "                                           topic_word_prior=0.01, verbose=1))])\n"
     ]
    }
   ],
   "source": [
    "print(sk_full_lda_pipeline)"
   ]
  },
  {
   "cell_type": "code",
   "execution_count": 12,
   "id": "9335a962",
   "metadata": {},
   "outputs": [],
   "source": [
    "sentiment_analysis_pipeline = joblib.load('sentiment_analysis_pipeline.joblib')"
   ]
  },
  {
   "cell_type": "code",
   "execution_count": 13,
   "id": "ac523632",
   "metadata": {},
   "outputs": [
    {
     "name": "stdout",
     "output_type": "stream",
     "text": [
      "<transformers.pipelines.text_classification.TextClassificationPipeline object at 0x00000124C8200AC0>\n"
     ]
    }
   ],
   "source": [
    "print(sentiment_analysis_pipeline)"
   ]
  },
  {
   "cell_type": "code",
   "execution_count": 14,
   "id": "e0416bf8",
   "metadata": {},
   "outputs": [],
   "source": [
    "#filtered_df = pd.read_csv('gensim_topic.csv',usecols=['index','text','date','Sentiment'])"
   ]
  },
  {
   "cell_type": "code",
   "execution_count": 15,
   "id": "67296231",
   "metadata": {},
   "outputs": [
    {
     "name": "stdout",
     "output_type": "stream",
     "text": [
      "<class 'pandas.core.frame.DataFrame'>\n",
      "RangeIndex: 100 entries, 0 to 99\n",
      "Data columns (total 4 columns):\n",
      " #   Column      Non-Null Count  Dtype                    \n",
      "---  ------      --------------  -----                    \n",
      " 0   id          100 non-null    object                   \n",
      " 1   text        100 non-null    object                   \n",
      " 2   company_id  100 non-null    int64                    \n",
      " 3   date        100 non-null    datetime64[ns, UTC-05:00]\n",
      "dtypes: datetime64[ns, UTC-05:00](1), int64(1), object(2)\n",
      "memory usage: 3.2+ KB\n"
     ]
    }
   ],
   "source": [
    "filtered_df.info()"
   ]
  },
  {
   "cell_type": "code",
   "execution_count": 16,
   "id": "7b18d457",
   "metadata": {},
   "outputs": [],
   "source": [
    "check_text = filtered_df['text'].iloc[0:10].to_list()"
   ]
  },
  {
   "cell_type": "code",
   "execution_count": 17,
   "id": "9be8019b",
   "metadata": {},
   "outputs": [
    {
     "name": "stdout",
     "output_type": "stream",
     "text": [
      "[[0.001 0.001 0.001 0.505 0.001 0.001 0.001 0.484 0.001 0.001]\n",
      " [0.002 0.985 0.002 0.002 0.002 0.002 0.002 0.002 0.002 0.002]\n",
      " [0.002 0.002 0.74  0.002 0.245 0.002 0.002 0.002 0.002 0.002]\n",
      " [0.1   0.1   0.1   0.1   0.1   0.1   0.1   0.1   0.1   0.1  ]\n",
      " [0.001 0.001 0.001 0.001 0.287 0.192 0.001 0.001 0.512 0.001]\n",
      " [0.001 0.001 0.001 0.001 0.001 0.001 0.001 0.987 0.001 0.001]\n",
      " [0.009 0.009 0.009 0.009 0.009 0.009 0.009 0.918 0.009 0.009]\n",
      " [0.001 0.001 0.001 0.001 0.001 0.001 0.001 0.989 0.001 0.001]\n",
      " [0.005 0.005 0.005 0.432 0.005 0.005 0.005 0.53  0.005 0.005]\n",
      " [0.001 0.001 0.001 0.001 0.001 0.001 0.989 0.001 0.001 0.001]]\n"
     ]
    }
   ],
   "source": [
    "print(sk_full_lda_pipeline.transform(check_text).round(3))"
   ]
  },
  {
   "cell_type": "code",
   "execution_count": 18,
   "id": "e250e41a",
   "metadata": {},
   "outputs": [
    {
     "name": "stdout",
     "output_type": "stream",
     "text": [
      "[[0.001 0.001 0.001 0.001 0.001 0.001 0.34  0.001 0.001 0.652]\n",
      " [0.001 0.001 0.256 0.001 0.001 0.001 0.001 0.001 0.733 0.001]\n",
      " [0.002 0.002 0.002 0.002 0.002 0.002 0.002 0.982 0.002 0.002]\n",
      " [0.1   0.1   0.1   0.1   0.1   0.1   0.1   0.1   0.1   0.1  ]\n",
      " [0.002 0.002 0.985 0.002 0.002 0.002 0.002 0.002 0.002 0.002]\n",
      " [0.001 0.001 0.466 0.001 0.001 0.001 0.001 0.523 0.001 0.001]\n",
      " [0.002 0.002 0.978 0.002 0.002 0.002 0.002 0.002 0.002 0.002]\n",
      " [0.002 0.643 0.341 0.002 0.002 0.002 0.002 0.002 0.002 0.002]\n",
      " [0.005 0.005 0.957 0.005 0.005 0.005 0.005 0.005 0.005 0.005]\n",
      " [0.001 0.398 0.001 0.001 0.001 0.001 0.001 0.001 0.001 0.592]]\n"
     ]
    }
   ],
   "source": [
    "print(sk_lda_pipeline.transform(check_text).round(3))"
   ]
  },
  {
   "cell_type": "code",
   "execution_count": 19,
   "id": "156d9d76",
   "metadata": {},
   "outputs": [
    {
     "name": "stdout",
     "output_type": "stream",
     "text": [
      "[[0.25707287, 0.008635622, 0.0069318595, 0.6099758, 0.00499411, 0.004382017, 0.0039037492, 0.003519588, 0.09764353, 0.0029408142], [0.31591144, 0.014110094, 0.011342628, 0.00950143, 0.61975914, 0.0071710274, 0.0063883103, 0.0057596774, 0.005243681, 0.0048125377], [0.5522312, 0.36745444, 0.015613755, 0.013066233, 0.011239155, 0.009861208, 0.008784889, 0.007920405, 0.007210829, 0.0066179433], [0.20349775, 0.1546068, 0.12465746, 0.10442833, 0.08984802, 0.0788403, 0.07023542, 0.063324034, 0.057650995, 0.052910846], [0.68201125, 0.011113677, 0.008913455, 0.0074663796, 0.0064212866, 0.0056344178, 0.0050194124, 0.26551872, 0.0041200514, 0.0037812942], [0.6264858, 0.012923171, 0.010392082, 0.008708214, 0.007488664, 0.006570523, 0.005853423, 0.0052773957, 0.0048046047, 0.31149614], [0.051288467, 0.0387197, 0.031166764, 0.7756181, 0.022464566, 0.01971058, 0.017559294, 0.015831403, 0.014413106, 0.013228039], [0.70442873, 0.012979389, 0.01040398, 0.008714718, 0.007493435, 0.0065746345, 0.0058570183, 0.0052806563, 0.23385522, 0.004412288], [0.30615118, 0.03878001, 0.0311688, 0.026122859, 0.5170315, 0.019711362, 0.017560048, 0.01583201, 0.014413658, 0.013228545], [0.6140981, 0.011941561, 0.009595961, 0.008037765, 0.006913789, 0.0060666003, 0.0054044803, 0.004872631, 0.32899776, 0.00407136]]\n"
     ]
    }
   ],
   "source": [
    "print(gensim_lda_pipeline.transform(check_text))"
   ]
  },
  {
   "cell_type": "code",
   "execution_count": 20,
   "id": "0b987ff8",
   "metadata": {},
   "outputs": [],
   "source": [
    "sk_result = sk_lda_pipeline.transform(check_text).round(3)\n",
    "sk_full_result = sk_full_lda_pipeline.transform(check_text).round(3)\n",
    "gensim_result = gensim_lda_pipeline.transform(check_text)\n",
    "sentiment_result = sentiment_analysis_pipeline(check_text)"
   ]
  },
  {
   "cell_type": "code",
   "execution_count": 21,
   "id": "1e30469d",
   "metadata": {},
   "outputs": [
    {
     "name": "stdout",
     "output_type": "stream",
     "text": [
      "0.040087420493364334\n",
      "0.027732184855267406\n",
      "0.43706795386970043\n",
      "0.4269000133499503\n",
      "0.33365124091506004\n",
      "0.0405961733777076\n",
      "0.05149565334431827\n",
      "0.020634160144254565\n",
      "0.15348927164450288\n",
      "0.03800583933480084\n"
     ]
    }
   ],
   "source": [
    "for res in sentiment_result:\n",
    "    print(get_pos_sentiment_proba(res))"
   ]
  },
  {
   "cell_type": "code",
   "execution_count": 22,
   "id": "f07ef55c",
   "metadata": {},
   "outputs": [
    {
     "name": "stdout",
     "output_type": "stream",
     "text": [
      "1\n",
      "@gtbank @gtbank_help Return my money Abeg!!! 5 working days don pass o and no refund and to cap it off your rubbish WhatsApp portal Is non responsive  I’ve never seen a more unreachable bank,it’s shameless\n",
      "2\n",
      "@gtbank_help This your customer care line be playing music like we called to attend a concert. Very disappointed...\n",
      "3\n",
      "@gtbank_help I need help with the authorization code to set up my soft token.\n",
      "4\n",
      "So,u no see @ZenithBank ??\n",
      "5\n",
      "Recently, some banks in Nigeria suspended international transactions with naira card. In this Explainer, I spoke with experts on the implications of the decision on businesses and the Nigerian people.  https://dailytrust.com/explainer-how-suspension-of-intl-transactions-on-naira-cards-will-affect-nigerians/ @gtbank @FirstBankngr @cenbank @NGRPresident\n",
      "6\n",
      "@gtbank_help you people are scam , just got to one of your branch and they told me that this is not your page and numbers you’ve been telling to chat up are not in anyway your agents , @gtbank  is a fraud\n",
      "7\n",
      "@gtbank_help why is customer service so slow on Twitter?\n",
      "8\n",
      "@gtbank you guys are making us feel so bad, running the Ghanaian youth accounts into zero and negative balance\n",
      "9\n",
      "How does one report this criminal bank @gtbank_help to @cenbank ?\n",
      "10\n",
      "@gtbank  pay us our money, how can you intentionally steal your clients money and even leave negative balance in their accounts? Shameless banks in Ghana\n"
     ]
    }
   ],
   "source": [
    "for index,text in enumerate(check_text):\n",
    "    print(index + 1)\n",
    "    print(text)"
   ]
  },
  {
   "cell_type": "code",
   "execution_count": 23,
   "id": "55eec5f7",
   "metadata": {},
   "outputs": [
    {
     "name": "stdout",
     "output_type": "stream",
     "text": [
      "1\n",
      "Electronic Banking - Transaction Errors\n",
      "2\n",
      "General Complaints\n",
      "3\n",
      "Transactions - Value Added Services\n",
      "4\n",
      "Unclassified\n",
      "5\n",
      "Transaction Issues - General\n",
      "6\n",
      "Electronic Banking - Complaints & Fraud Reports\n",
      "7\n",
      "Electronic Banking - Complaints & Fraud Reports\n",
      "8\n",
      "Electronic Banking - Complaints & Fraud Reports\n",
      "9\n",
      "Electronic Banking - Complaints & Fraud Reports\n",
      "10\n",
      "Account Related Issues\n"
     ]
    }
   ],
   "source": [
    "for index,res in enumerate(sk_full_result):\n",
    "    print(index + 1)\n",
    "    print(get_topic_assignment(res, topic_mapping_sk_full_lda))"
   ]
  },
  {
   "cell_type": "code",
   "execution_count": 24,
   "id": "f76e3d57",
   "metadata": {},
   "outputs": [
    {
     "name": "stdout",
     "output_type": "stream",
     "text": [
      "1\n",
      "Fraud\n",
      "2\n",
      "Transaction Related Issue\n",
      "3\n",
      "Mobile Banking\n",
      "4\n",
      "Unclassified\n",
      "5\n",
      "General Complaints\n",
      "6\n",
      "Mobile Banking\n",
      "7\n",
      "General Complaints\n",
      "8\n",
      "Accounted Related Queries\n",
      "9\n",
      "General Complaints\n",
      "10\n",
      "Fraud\n"
     ]
    }
   ],
   "source": [
    "for index, res in enumerate(sk_result):\n",
    "    print(index + 1)\n",
    "    print(get_topic_assignment(res, topic_mapping_sk_lda))"
   ]
  },
  {
   "cell_type": "code",
   "execution_count": 25,
   "id": "7dfdcc2d",
   "metadata": {},
   "outputs": [
    {
     "name": "stdout",
     "output_type": "stream",
     "text": [
      "1\n",
      "Customer Service Feedback\n",
      "2\n",
      "Physical Branch\n",
      "3\n",
      "Fraud\n",
      "4\n",
      "Unclassified\n",
      "5\n",
      "Fraud\n",
      "6\n",
      "Fraud\n",
      "7\n",
      "Customer Service Feedback\n",
      "8\n",
      "Fraud\n",
      "9\n",
      "Physical Branch\n",
      "10\n",
      "Fraud\n"
     ]
    }
   ],
   "source": [
    "for index, res in enumerate(gensim_result):\n",
    "    print(index + 1)\n",
    "    print(get_topic_assignment(res, topic_mapping_gensim_lda))"
   ]
  },
  {
   "cell_type": "code",
   "execution_count": 26,
   "id": "0c3e8891",
   "metadata": {},
   "outputs": [],
   "source": [
    "def apply_topic_to_df(filtered_df):\n",
    "    sentiment_result = sentiment_analysis_pipeline(filtered_df['text'].to_list())\n",
    "    sentiment_result = [get_pos_sentiment_proba(array) for array in sentiment_result]\n",
    "    filtered_df['sentiment'] = sentiment_result\n",
    "    sk_full_result = sk_full_lda_pipeline.transform(filtered_df['text'])\n",
    "    sk_full_result = [get_topic_assignment(array,topic_mapping_sk_full_lda) for array in sk_full_result]\n",
    "    filtered_df['sk_full_topic'] = sk_full_result\n",
    "    sk_result = sk_lda_pipeline.transform(filtered_df['text'])\n",
    "    sk_result = [get_topic_assignment(array,topic_mapping_sk_lda) for array in sk_result]\n",
    "    filtered_df['sk_topic'] = sk_result\n",
    "    gensim_result = gensim_lda_pipeline.transform(filtered_df['text'])\n",
    "    gensim_result = [get_topic_assignment(array,topic_mapping_gensim_lda) for array in gensim_result]\n",
    "    filtered_df['gensim_topic'] = gensim_result\n",
    "    return filtered_df"
   ]
  },
  {
   "cell_type": "code",
   "execution_count": 27,
   "id": "4c9f916c",
   "metadata": {},
   "outputs": [],
   "source": [
    "filtered_df = apply_topic_to_df(filtered_df)"
   ]
  },
  {
   "cell_type": "code",
   "execution_count": 28,
   "id": "38442031",
   "metadata": {},
   "outputs": [
    {
     "data": {
      "text/html": [
       "<div>\n",
       "<style scoped>\n",
       "    .dataframe tbody tr th:only-of-type {\n",
       "        vertical-align: middle;\n",
       "    }\n",
       "\n",
       "    .dataframe tbody tr th {\n",
       "        vertical-align: top;\n",
       "    }\n",
       "\n",
       "    .dataframe thead th {\n",
       "        text-align: right;\n",
       "    }\n",
       "</style>\n",
       "<table border=\"1\" class=\"dataframe\">\n",
       "  <thead>\n",
       "    <tr style=\"text-align: right;\">\n",
       "      <th></th>\n",
       "      <th>id</th>\n",
       "      <th>text</th>\n",
       "      <th>company_id</th>\n",
       "      <th>date</th>\n",
       "      <th>sentiment</th>\n",
       "      <th>sk_full_topic</th>\n",
       "      <th>sk_topic</th>\n",
       "      <th>gensim_topic</th>\n",
       "    </tr>\n",
       "  </thead>\n",
       "  <tbody>\n",
       "    <tr>\n",
       "      <th>0</th>\n",
       "      <td>e2025ffbfaab1fb2cb0d2b989b0da5b80b896c1c400f21...</td>\n",
       "      <td>@gtbank @gtbank_help Return my money Abeg!!! 5...</td>\n",
       "      <td>1</td>\n",
       "      <td>2023-01-11 08:23:00-05:00</td>\n",
       "      <td>0.040087</td>\n",
       "      <td>Electronic Banking - Transaction Errors</td>\n",
       "      <td>Fraud</td>\n",
       "      <td>Customer Service Feedback</td>\n",
       "    </tr>\n",
       "    <tr>\n",
       "      <th>1</th>\n",
       "      <td>5f93f87f8dc1a512bde089428190d7b0829052ffe868a3...</td>\n",
       "      <td>@gtbank_help This your customer care line be p...</td>\n",
       "      <td>1</td>\n",
       "      <td>2023-01-11 08:20:00-05:00</td>\n",
       "      <td>0.027732</td>\n",
       "      <td>General Complaints</td>\n",
       "      <td>Transaction Related Issue</td>\n",
       "      <td>Physical Branch</td>\n",
       "    </tr>\n",
       "    <tr>\n",
       "      <th>2</th>\n",
       "      <td>165dd482dd792047ee16fef14c278306aee4f903c354c0...</td>\n",
       "      <td>@gtbank_help I need help with the authorizatio...</td>\n",
       "      <td>1</td>\n",
       "      <td>2023-01-11 08:18:00-05:00</td>\n",
       "      <td>0.437068</td>\n",
       "      <td>Transactions - Value Added Services</td>\n",
       "      <td>Mobile Banking</td>\n",
       "      <td>Fraud</td>\n",
       "    </tr>\n",
       "    <tr>\n",
       "      <th>3</th>\n",
       "      <td>edcf21a701b43a125811690025d44be54b36c39b6bd371...</td>\n",
       "      <td>So,u no see @ZenithBank ??</td>\n",
       "      <td>1</td>\n",
       "      <td>2023-01-11 08:17:00-05:00</td>\n",
       "      <td>0.426900</td>\n",
       "      <td>Unclassified</td>\n",
       "      <td>Unclassified</td>\n",
       "      <td>Unclassified</td>\n",
       "    </tr>\n",
       "    <tr>\n",
       "      <th>4</th>\n",
       "      <td>d918053a7429c998f823dead2d8632a8ac40169d30bee1...</td>\n",
       "      <td>Recently, some banks in Nigeria suspended inte...</td>\n",
       "      <td>1</td>\n",
       "      <td>2023-01-11 08:16:00-05:00</td>\n",
       "      <td>0.333651</td>\n",
       "      <td>Transaction Issues - General</td>\n",
       "      <td>General Complaints</td>\n",
       "      <td>Fraud</td>\n",
       "    </tr>\n",
       "  </tbody>\n",
       "</table>\n",
       "</div>"
      ],
      "text/plain": [
       "                                                  id  \\\n",
       "0  e2025ffbfaab1fb2cb0d2b989b0da5b80b896c1c400f21...   \n",
       "1  5f93f87f8dc1a512bde089428190d7b0829052ffe868a3...   \n",
       "2  165dd482dd792047ee16fef14c278306aee4f903c354c0...   \n",
       "3  edcf21a701b43a125811690025d44be54b36c39b6bd371...   \n",
       "4  d918053a7429c998f823dead2d8632a8ac40169d30bee1...   \n",
       "\n",
       "                                                text  company_id  \\\n",
       "0  @gtbank @gtbank_help Return my money Abeg!!! 5...           1   \n",
       "1  @gtbank_help This your customer care line be p...           1   \n",
       "2  @gtbank_help I need help with the authorizatio...           1   \n",
       "3                         So,u no see @ZenithBank ??           1   \n",
       "4  Recently, some banks in Nigeria suspended inte...           1   \n",
       "\n",
       "                       date  sentiment  \\\n",
       "0 2023-01-11 08:23:00-05:00   0.040087   \n",
       "1 2023-01-11 08:20:00-05:00   0.027732   \n",
       "2 2023-01-11 08:18:00-05:00   0.437068   \n",
       "3 2023-01-11 08:17:00-05:00   0.426900   \n",
       "4 2023-01-11 08:16:00-05:00   0.333651   \n",
       "\n",
       "                             sk_full_topic                   sk_topic  \\\n",
       "0  Electronic Banking - Transaction Errors                      Fraud   \n",
       "1                       General Complaints  Transaction Related Issue   \n",
       "2      Transactions - Value Added Services             Mobile Banking   \n",
       "3                             Unclassified               Unclassified   \n",
       "4             Transaction Issues - General         General Complaints   \n",
       "\n",
       "                gensim_topic  \n",
       "0  Customer Service Feedback  \n",
       "1            Physical Branch  \n",
       "2                      Fraud  \n",
       "3               Unclassified  \n",
       "4                      Fraud  "
      ]
     },
     "execution_count": 28,
     "metadata": {},
     "output_type": "execute_result"
    }
   ],
   "source": [
    "filtered_df.head()"
   ]
  },
  {
   "cell_type": "code",
   "execution_count": 21,
   "id": "aab388ab",
   "metadata": {},
   "outputs": [],
   "source": [
    "# def store_processed_tweets(filtered_df):\n",
    "#     data = filtered_df.to_dict(orient='records')\n",
    "#     with Session() as session:\n",
    "#     for item in data:\n",
    "#         processed_tweet = ProcessedTweet(**item)\n",
    "#         try:\n",
    "#             session.add(processed_tweet)\n",
    "#             session.commit()\n",
    "#         except Exception as e:\n",
    "#             session.rollback()\n",
    "#             print(e)"
   ]
  },
  {
   "cell_type": "code",
   "execution_count": 29,
   "id": "a7fa9531",
   "metadata": {},
   "outputs": [],
   "source": [
    "store_processed_tweets(filtered_df)"
   ]
  },
  {
   "cell_type": "code",
   "execution_count": 30,
   "id": "d0e70da3",
   "metadata": {},
   "outputs": [],
   "source": [
    "store_processed_tweets(apply_topic_to_df(get_filtered_tweets()))"
   ]
  },
  {
   "cell_type": "code",
   "execution_count": 31,
   "id": "a70b0d44",
   "metadata": {},
   "outputs": [
    {
     "name": "stdout",
     "output_type": "stream",
     "text": [
      "The expanded size of the tensor (809) must match the existing size (514) at non-singleton dimension 1.  Target sizes: [1, 809].  Tensor sizes: [1, 514]\n",
      "The expanded size of the tensor (544) must match the existing size (514) at non-singleton dimension 1.  Target sizes: [1, 544].  Tensor sizes: [1, 514]\n",
      "The expanded size of the tensor (596) must match the existing size (514) at non-singleton dimension 1.  Target sizes: [1, 596].  Tensor sizes: [1, 514]\n",
      "The expanded size of the tensor (573) must match the existing size (514) at non-singleton dimension 1.  Target sizes: [1, 573].  Tensor sizes: [1, 514]\n",
      "The expanded size of the tensor (809) must match the existing size (514) at non-singleton dimension 1.  Target sizes: [1, 809].  Tensor sizes: [1, 514]\n",
      "The expanded size of the tensor (544) must match the existing size (514) at non-singleton dimension 1.  Target sizes: [1, 544].  Tensor sizes: [1, 514]\n",
      "The expanded size of the tensor (596) must match the existing size (514) at non-singleton dimension 1.  Target sizes: [1, 596].  Tensor sizes: [1, 514]\n",
      "The expanded size of the tensor (573) must match the existing size (514) at non-singleton dimension 1.  Target sizes: [1, 573].  Tensor sizes: [1, 514]\n",
      "The expanded size of the tensor (809) must match the existing size (514) at non-singleton dimension 1.  Target sizes: [1, 809].  Tensor sizes: [1, 514]\n"
     ]
    }
   ],
   "source": [
    "for i in range(round(185)):\n",
    "    try:\n",
    "        store_processed_tweets(apply_topic_to_df(get_filtered_tweets(1000)))\n",
    "    except Exception as e:\n",
    "        print(e)"
   ]
  },
  {
   "cell_type": "code",
   "execution_count": 23,
   "id": "9bde0c77",
   "metadata": {},
   "outputs": [],
   "source": [
    "# with Session() as session:\n",
    "#     for item in data:\n",
    "#         processed_tweet = ProcessedTweet(**item)\n",
    "#         try:\n",
    "#             session.add(processed_tweet)\n",
    "#             session.commit()\n",
    "#         except Exception as e:\n",
    "#             session.rollback()\n",
    "#             print(e)"
   ]
  },
  {
   "cell_type": "code",
   "execution_count": 24,
   "id": "b32415de",
   "metadata": {},
   "outputs": [],
   "source": [
    "sk_result = sk_lda_pipeline.transform(filtered_df['text'])"
   ]
  },
  {
   "cell_type": "code",
   "execution_count": 25,
   "id": "405bc4b0",
   "metadata": {},
   "outputs": [],
   "source": [
    "sk_result = list(sk_result)"
   ]
  },
  {
   "cell_type": "code",
   "execution_count": 38,
   "id": "d5d90395",
   "metadata": {},
   "outputs": [
    {
     "data": {
      "text/plain": [
       "array([0.00243902, 0.25670971, 0.7237781 , 0.00243902, 0.00243902,\n",
       "       0.00243902, 0.00243902, 0.00243902, 0.00243902, 0.00243902])"
      ]
     },
     "execution_count": 38,
     "metadata": {},
     "output_type": "execute_result"
    }
   ],
   "source": [
    "sk_result[40-1]"
   ]
  },
  {
   "cell_type": "code",
   "execution_count": 41,
   "id": "23cce2c5",
   "metadata": {},
   "outputs": [
    {
     "data": {
      "text/plain": [
       "38    @gtbank_help how can I put my email to my acco...\n",
       "39    @gtbank_help please how I put my email to my a...\n",
       "Name: text, dtype: object"
      ]
     },
     "execution_count": 41,
     "metadata": {},
     "output_type": "execute_result"
    }
   ],
   "source": [
    "filtered_df['text'].iloc[38:40]"
   ]
  },
  {
   "cell_type": "code",
   "execution_count": 40,
   "id": "4668de3d",
   "metadata": {},
   "outputs": [
    {
     "data": {
      "text/plain": [
       "array(['email account whitout bank', 'email account Whitout enter bank'],\n",
       "      dtype='<U32')"
      ]
     },
     "execution_count": 40,
     "metadata": {},
     "output_type": "execute_result"
    }
   ],
   "source": [
    "normalize_text(filtered_df['text'].iloc[38:40])"
   ]
  },
  {
   "cell_type": "code",
   "execution_count": null,
   "id": "8808d743",
   "metadata": {},
   "outputs": [],
   "source": []
  },
  {
   "cell_type": "code",
   "execution_count": null,
   "id": "b1e3d813",
   "metadata": {},
   "outputs": [],
   "source": []
  }
 ],
 "metadata": {
  "kernelspec": {
   "display_name": "Python [conda env:datascience] *",
   "language": "python",
   "name": "conda-env-datascience-py"
  },
  "language_info": {
   "codemirror_mode": {
    "name": "ipython",
    "version": 3
   },
   "file_extension": ".py",
   "mimetype": "text/x-python",
   "name": "python",
   "nbconvert_exporter": "python",
   "pygments_lexer": "ipython3",
   "version": "3.8.18"
  }
 },
 "nbformat": 4,
 "nbformat_minor": 5
}
