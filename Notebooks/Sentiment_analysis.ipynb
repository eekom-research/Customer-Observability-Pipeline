{
 "cells": [
  {
   "cell_type": "code",
   "execution_count": null,
   "id": "a8d8e173-5880-4be7-bc60-2686cddfca42",
   "metadata": {
    "tags": []
   },
   "outputs": [],
   "source": [
    "import pandas as pd\n",
    "import numpy as np\n",
    "\n",
    "from sklearn.base import BaseEstimator, TransformerMixin\n",
    "from sklearn.preprocessing import FunctionTransformer\n",
    "from sklearn.pipeline import Pipeline\n",
    "from sklearn import set_config\n",
    "\n",
    "import nltk\n",
    "from nltk.stem import WordNetLemmatizer\n",
    "from nltk.tokenize import word_tokenize\n",
    "import re #regular expression\n",
    "import spacy\n",
    "from matplotlib import pyplot as plt\n",
    "\n",
    "\n",
    "from transformers import AutoModelForSequenceClassification, AutoTokenizer\n",
    "from transformers import pipeline as tf_pipeline\n",
    "\n",
    "import joblib\n",
    "\n",
    "from custom_package.text_processing import normalize_text, tokenizer_func, remove_emojis\n",
    "from custom_package.modeling import GensimLdaTransformer, get_topic_assignment\n",
    "from custom_package.modeling import topic_mapping_sk_lda, topic_mapping_gensim_lda\n",
    "from custom_package.database import get_raw_tweets, store_processed_tweets,get_training_raw_tweets\n",
    "\n",
    "\n",
    "\n",
    "\n"
   ]
  },
  {
   "cell_type": "code",
   "execution_count": null,
   "id": "09fb6ecf-5eef-4b10-a11b-d93ad5a0661d",
   "metadata": {
    "tags": []
   },
   "outputs": [],
   "source": [
    "set_config(display='diagram')"
   ]
  },
  {
   "cell_type": "markdown",
   "id": "a4899b1f-1e85-4a23-8b15-656b6bd68a3a",
   "metadata": {},
   "source": [
    "Prepare dataset"
   ]
  },
  {
   "cell_type": "code",
   "execution_count": null,
   "id": "b158aca4-3790-4116-b286-475d5c01f124",
   "metadata": {
    "tags": []
   },
   "outputs": [],
   "source": [
    "query_limit = 484000\n"
   ]
  },
  {
   "cell_type": "code",
   "execution_count": null,
   "id": "49807667-dc59-49a1-a51d-6dc3073aaf94",
   "metadata": {},
   "outputs": [],
   "source": [
    "def get_filtered_tweets(query_limit = 100):\n",
    "    raw_tweets = get_training_raw_tweets(query_limit)\n",
    "    data = {'id' : [tweet.id for tweet in raw_tweets],\n",
    "        'text' : [remove_emojis(tweet.text) for tweet in raw_tweets],\n",
    "        'company_id' : [tweet.company_id for tweet in raw_tweets],\n",
    "        'date' : [tweet.date for tweet in raw_tweets]\n",
    "        }\n",
    "    filtered_df = pd.DataFrame(data)\n",
    "    return filtered_df"
   ]
  },
  {
   "cell_type": "code",
   "execution_count": null,
   "id": "ee743e2b-caba-4fc9-bbad-74a7d2742f10",
   "metadata": {},
   "outputs": [],
   "source": [
    "# get raw tweets for training\n",
    "filtered_df = get_filtered_tweets(query_limit)"
   ]
  },
  {
   "cell_type": "code",
   "execution_count": null,
   "id": "9c8f2277-e5d9-4410-9a9c-68c0d8b0bce8",
   "metadata": {
    "tags": []
   },
   "outputs": [],
   "source": [
    "filtered_df.head()"
   ]
  },
  {
   "cell_type": "code",
   "execution_count": null,
   "id": "b573e418-8f38-4fa3-accb-4be3ec273d98",
   "metadata": {
    "tags": []
   },
   "outputs": [],
   "source": [
    "filtered_df.info()"
   ]
  },
  {
   "cell_type": "code",
   "execution_count": null,
   "id": "104a4dfa-adb7-42e3-8fb7-38fd939e527f",
   "metadata": {
    "tags": []
   },
   "outputs": [],
   "source": [
    "filtered_df['company_id'].value_counts()"
   ]
  },
  {
   "cell_type": "code",
   "execution_count": null,
   "id": "944a6d48-7bf4-4939-b5d0-125a689b9b35",
   "metadata": {
    "tags": []
   },
   "outputs": [],
   "source": [
    "# pre-trained tweet sentiment analysis model\n",
    "\n",
    "# Load the model and tokenizer\n",
    "model_name = \"cardiffnlp/twitter-roberta-base-sentiment\"\n",
    "sentiment_model = AutoModelForSequenceClassification.from_pretrained(model_name)\n",
    "tokenizer = AutoTokenizer.from_pretrained(model_name)"
   ]
  },
  {
   "cell_type": "code",
   "execution_count": null,
   "id": "8c908d5c-e95f-460d-8d0f-0293492bed4e",
   "metadata": {
    "tags": []
   },
   "outputs": [],
   "source": [
    "# Create a sentiment analysis pipeline\n",
    "sentiment_pipeline = tf_pipeline(\"sentiment-analysis\", model=sentiment_model, tokenizer=tokenizer)\n",
    "\n",
    "# Example tweet\n",
    "tweet = \"I love using BERT models for NLP tasks!\"\n",
    "\n",
    "# Run sentiment analysis\n",
    "result = sentiment_pipeline(tweet)\n",
    "print(result)"
   ]
  },
  {
   "cell_type": "code",
   "execution_count": null,
   "id": "550697eb-9687-4830-84cf-1d71e2b58a54",
   "metadata": {
    "tags": []
   },
   "outputs": [],
   "source": [
    "# Example tweet\n",
    "tweet = [\"I love using BERT models for NLP tasks!\",\n",
    "         \"I'm not a fan of rainy days.\",\n",
    "         \"Neutral statements are hard to classify.\"]\n",
    "\n",
    "# Run sentiment analysis\n",
    "result = sentiment_pipeline(tweet)\n",
    "print(result)"
   ]
  },
  {
   "cell_type": "code",
   "execution_count": null,
   "id": "693030fa-3190-4362-a24a-91b4afbe49b3",
   "metadata": {
    "tags": []
   },
   "outputs": [],
   "source": [
    "# Create a sentiment analysis pipeline\n",
    "pos_sentiment_pipeline = tf_pipeline(\"text-classification\", model=sentiment_model,\n",
    "                                     tokenizer=tokenizer,return_all_scores=True)"
   ]
  },
  {
   "cell_type": "code",
   "execution_count": null,
   "id": "ff72553c-e785-4cc1-a38b-39a91927a87e",
   "metadata": {
    "tags": []
   },
   "outputs": [],
   "source": [
    "joblib.dump(pos_sentiment_pipeline,'sentiment_analyis_pipeline.joblib')"
   ]
  },
  {
   "cell_type": "code",
   "execution_count": null,
   "id": "65776778-8dee-4e81-ab1f-b16dee8eba40",
   "metadata": {
    "tags": []
   },
   "outputs": [],
   "source": [
    "# Sentiment label mapping based on model output\n",
    "label_mapping = {\n",
    "    'LABEL_0': 'Negative',\n",
    "    'LABEL_1': 'Neutral',\n",
    "    'LABEL_2': 'Positive'\n",
    "}\n",
    "\n",
    "# Function to get and map sentiment\n",
    "def get_mapped_sentiment(text):\n",
    "    result = text\n",
    "    #result = sentiment_pipeline(text)[0]\n",
    "    # Map the model's label to a more descriptive term\n",
    "    sentiment_label = label_mapping.get(result['label'], \"Unknown\")\n",
    "    return sentiment_label"
   ]
  },
  {
   "cell_type": "code",
   "execution_count": null,
   "id": "0ecfc82c-74cb-43f8-8a8f-0e6f4253e1ab",
   "metadata": {
    "tags": []
   },
   "outputs": [],
   "source": [
    "# Function to get and map sentiment\n",
    "def get_pos_sentiment_proba(text):\n",
    "    result = text\n",
    "    # Map the model's label to a more descriptive term\n",
    "    pos_sentiment_proba = ((result[-1].get('score', np.nan) - result[-3].get('score',np.nan))+1)/2\n",
    "    return pos_sentiment_proba"
   ]
  },
  {
   "cell_type": "code",
   "execution_count": null,
   "id": "82714de0-63b8-42b4-8902-451dd23de14b",
   "metadata": {
    "tags": []
   },
   "outputs": [],
   "source": [
    "for item in result:\n",
    "    print(get_mapped_sentiment(item))"
   ]
  },
  {
   "cell_type": "code",
   "execution_count": null,
   "id": "388eb58f-de44-47cf-a4f5-65882014c3f1",
   "metadata": {
    "tags": []
   },
   "outputs": [],
   "source": [
    "res = pos_sentiment_pipeline(tweet)"
   ]
  },
  {
   "cell_type": "code",
   "execution_count": null,
   "id": "0b7e111f-d47b-44a8-9318-9c82bd72187c",
   "metadata": {
    "tags": []
   },
   "outputs": [],
   "source": [
    "for item in res:\n",
    "    #print(item)\n",
    "    print(get_pos_sentiment_proba(item))"
   ]
  },
  {
   "cell_type": "code",
   "execution_count": null,
   "id": "993a80c6-9671-4644-b826-bb83e2f7e0e8",
   "metadata": {
    "tags": []
   },
   "outputs": [],
   "source": [
    "res = pos_sentiment_pipeline(filtered_df['text'].iloc[0:100].to_list())"
   ]
  },
  {
   "cell_type": "code",
   "execution_count": null,
   "id": "84a3dab4-7351-444f-8658-6d2a839521c9",
   "metadata": {
    "tags": []
   },
   "outputs": [],
   "source": [
    "res_a = sentiment_pipeline(filtered_df['text'].iloc[0:100].to_list())"
   ]
  },
  {
   "cell_type": "code",
   "execution_count": null,
   "id": "bc475704-458c-4e6a-a3b5-635e7b0868cb",
   "metadata": {
    "tags": []
   },
   "outputs": [],
   "source": [
    "sentiment_a = [get_mapped_sentiment(text) for text in res_a]"
   ]
  },
  {
   "cell_type": "code",
   "execution_count": null,
   "id": "555f0d3e-7d3f-4745-bb88-5ddbab265642",
   "metadata": {
    "tags": []
   },
   "outputs": [],
   "source": [
    "sentiment_data = [get_pos_sentiment_proba(text) for text in res]"
   ]
  },
  {
   "cell_type": "code",
   "execution_count": null,
   "id": "281b9706-ede4-49af-8204-e62bb930ca5c",
   "metadata": {
    "tags": []
   },
   "outputs": [],
   "source": [
    "selected_df = filtered_df.iloc[0:100].copy()"
   ]
  },
  {
   "cell_type": "code",
   "execution_count": null,
   "id": "7376fe9d-e1a6-4ac7-8241-91279a4568c0",
   "metadata": {
    "tags": []
   },
   "outputs": [],
   "source": [
    "selected_df['sentiment']=sentiment_data"
   ]
  },
  {
   "cell_type": "code",
   "execution_count": null,
   "id": "b37fcc15-744c-4fd6-8218-3816ff864a71",
   "metadata": {
    "tags": []
   },
   "outputs": [],
   "source": [
    "selected_df['sentiment_map']= sentiment_a"
   ]
  },
  {
   "cell_type": "code",
   "execution_count": null,
   "id": "ee845174-80dc-4133-83ce-fe536505e9f4",
   "metadata": {
    "tags": []
   },
   "outputs": [],
   "source": [
    "res[10-1]"
   ]
  },
  {
   "cell_type": "code",
   "execution_count": null,
   "id": "908c358e-39b6-433b-b904-f245259b4f7d",
   "metadata": {
    "tags": []
   },
   "outputs": [],
   "source": [
    "selected_df[['text','sentiment','sentiment_map']].to_dict(orient='records')"
   ]
  },
  {
   "cell_type": "code",
   "execution_count": null,
   "id": "658fe6b7-b0e4-4294-8d8d-b4ce7e686874",
   "metadata": {
    "tags": []
   },
   "outputs": [],
   "source": [
    "# Create a sentiment analysis pipeline\n",
    "pos_sentiment_pipeline = hf_pipeline(\"text-classification\", model=model,\n",
    "                                     tokenizer=tokenizer,return_all_scores=True)"
   ]
  },
  {
   "cell_type": "code",
   "execution_count": null,
   "id": "88a7115f-5976-4333-adae-1b2798845414",
   "metadata": {
    "tags": []
   },
   "outputs": [],
   "source": [
    "result = pos_sentiment_pipeline(tweet)\n",
    "print(result)"
   ]
  },
  {
   "cell_type": "code",
   "execution_count": null,
   "id": "a39f32d6-5ba8-40b4-a2a5-8ed2357a5db3",
   "metadata": {
    "tags": []
   },
   "outputs": [],
   "source": [
    "result[0][-1]"
   ]
  },
  {
   "cell_type": "code",
   "execution_count": null,
   "id": "b1cda09e-e48a-46c6-a2d8-57b81ebfe684",
   "metadata": {
    "tags": []
   },
   "outputs": [],
   "source": [
    "# Function to get and map sentiment\n",
    "def get_pos_sentiment_proba(text):\n",
    "    result = pos_sentiment_pipeline(text)\n",
    "    #result = result[0][-1] + result[0][-2]\n",
    "    # Map the model's label to a more descriptive term\n",
    "    pos_sentiment_proba = result[0][-1].get('score', np.nan) + result[0][-2].get('score',np.nan)\n",
    "    return pos_sentiment_proba"
   ]
  },
  {
   "cell_type": "code",
   "execution_count": null,
   "id": "df4de860-67de-4c26-91c3-54ff339b3e11",
   "metadata": {
    "tags": []
   },
   "outputs": [],
   "source": [
    "for item in tweet:\n",
    "    print(get_pos_sentiment_proba(item))"
   ]
  },
  {
   "cell_type": "code",
   "execution_count": null,
   "id": "ce1b9e66-f0b2-42a3-abc0-b1a003e66b09",
   "metadata": {},
   "outputs": [],
   "source": []
  }
 ],
 "metadata": {
  "kernelspec": {
   "display_name": "Python [conda env:datascience] *",
   "language": "python",
   "name": "conda-env-datascience-py"
  },
  "language_info": {
   "codemirror_mode": {
    "name": "ipython",
    "version": 3
   },
   "file_extension": ".py",
   "mimetype": "text/x-python",
   "name": "python",
   "nbconvert_exporter": "python",
   "pygments_lexer": "ipython3",
   "version": "3.8.18"
  }
 },
 "nbformat": 4,
 "nbformat_minor": 5
}
