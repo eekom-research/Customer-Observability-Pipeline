{
 "cells": [
  {
   "cell_type": "code",
   "execution_count": null,
   "id": "a1038961-d746-4672-a02e-a70d40072ad7",
   "metadata": {
    "tags": []
   },
   "outputs": [],
   "source": [
    "from ntscraper import Nitter\n",
    "from helper_functions import compute_unique_primary_key\n",
    "from datetime import datetime, timedelta\n",
    "from db import Model, Session, engine\n",
    "import models\n",
    "from sqlalchemy.orm import clear_mappers\n",
    "from sqlalchemy.exc import IntegrityError\n",
    "from psycopg2.errors import UniqueViolation\n",
    "import pytz"
   ]
  },
  {
   "cell_type": "code",
   "execution_count": null,
   "id": "a337112e-83bf-4360-b9ed-1dec37ebe105",
   "metadata": {},
   "outputs": [],
   "source": [
    "scraper = Nitter(log_level=1)"
   ]
  },
  {
   "cell_type": "code",
   "execution_count": null,
   "id": "123616e0-61d3-421b-8da2-ba289d5e52b5",
   "metadata": {
    "tags": []
   },
   "outputs": [],
   "source": [
    "instance =\"https://nitter.woodland.cafe\"\n",
    "#since = \"2023-01-01\"\n",
    "since = \"2021-11-05\"\n",
    "until = \"2021-11-06\"\n",
    "GTB_tweets = scraper.get_tweets(\"@gtbank\",number=5, \n",
    "                                mode='term',instance=instance,\n",
    "                                since=since,\n",
    "                               until=until)"
   ]
  },
  {
   "cell_type": "code",
   "execution_count": null,
   "id": "6d08539d-b833-49c5-9d54-26d40ca0118a",
   "metadata": {
    "tags": []
   },
   "outputs": [],
   "source": [
    "len(GTB_tweets['tweets'])"
   ]
  },
  {
   "cell_type": "code",
   "execution_count": null,
   "id": "790d51c4-bf52-4049-b6a9-b8950f435234",
   "metadata": {
    "tags": []
   },
   "outputs": [],
   "source": [
    "GTB_tweets['tweets'][0].keys()"
   ]
  },
  {
   "cell_type": "code",
   "execution_count": null,
   "id": "8f77cfed-ed36-499f-93d5-dc7e16a9b079",
   "metadata": {
    "tags": []
   },
   "outputs": [],
   "source": [
    "tweet = GTB_tweets['tweets'][0]"
   ]
  },
  {
   "cell_type": "code",
   "execution_count": null,
   "id": "e6f19fb4-09c9-4972-8351-c0c3caee6c73",
   "metadata": {
    "tags": []
   },
   "outputs": [],
   "source": [
    "tweet"
   ]
  },
  {
   "cell_type": "code",
   "execution_count": null,
   "id": "d873141d-5134-4897-847c-435773a3b1cd",
   "metadata": {
    "tags": []
   },
   "outputs": [],
   "source": [
    "store_hash = []\n",
    "for tweet in GTB_tweets['tweets']:\n",
    "    input_str = tweet.get('date',None)+tweet.get('user',{}).get('profile_id',None)+str(len(tweet.get('text',None)))\n",
    "    store_hash.append(compute_unique_primary_key(input_str))"
   ]
  },
  {
   "cell_type": "code",
   "execution_count": null,
   "id": "85aa835c-e183-4308-be4d-97d8393037ed",
   "metadata": {
    "tags": []
   },
   "outputs": [],
   "source": [
    "len(store_hash[0])"
   ]
  },
  {
   "cell_type": "code",
   "execution_count": null,
   "id": "74c73c9f-3f6a-44f9-ae6a-911b0c7e2463",
   "metadata": {},
   "outputs": [],
   "source": [
    "compute_unique_primary_key(input_str)"
   ]
  },
  {
   "cell_type": "code",
   "execution_count": null,
   "id": "c071d135-ebd9-4a18-b0dc-e4c611144207",
   "metadata": {
    "tags": []
   },
   "outputs": [],
   "source": [
    "len(dir(models.Tweet))"
   ]
  },
  {
   "cell_type": "code",
   "execution_count": null,
   "id": "5869e02d-ed57-4a68-84a9-349e0ac5749c",
   "metadata": {
    "tags": []
   },
   "outputs": [],
   "source": [
    "Model.metadata.drop_all(engine)\n",
    "Model.metadata.create_all(engine)"
   ]
  },
  {
   "cell_type": "code",
   "execution_count": null,
   "id": "2ea5c077-b010-4711-9a05-a6f2345ed86f",
   "metadata": {
    "tags": []
   },
   "outputs": [],
   "source": [
    "company_data = {'id':1,\n",
    "                'name':'Guaranty Trust Bank',\n",
    "                'nickname': 'gtbank',\n",
    "                'country': 'Nigeria',\n",
    "                'industry': 'Banking',\n",
    "                'username': '@gtbank'\n",
    "}\n"
   ]
  },
  {
   "cell_type": "code",
   "execution_count": null,
   "id": "4f726f33-bae5-4570-a8c1-27998565a7e8",
   "metadata": {
    "tags": []
   },
   "outputs": [],
   "source": [
    "company = models.Company(**company_data)"
   ]
  },
  {
   "cell_type": "code",
   "execution_count": null,
   "id": "70f4b81f-bc09-4c5e-b172-5d2b05b68e4c",
   "metadata": {
    "tags": []
   },
   "outputs": [],
   "source": [
    "company"
   ]
  },
  {
   "cell_type": "code",
   "execution_count": null,
   "id": "1f0abba0-256a-49cb-bba9-fe1a67757836",
   "metadata": {
    "tags": []
   },
   "outputs": [],
   "source": [
    "with Session() as session:\n",
    "    with session.begin():\n",
    "        session.add(company)"
   ]
  },
  {
   "cell_type": "code",
   "execution_count": null,
   "id": "f7451969-9038-4bcd-a2c2-4cf28609de58",
   "metadata": {},
   "outputs": [],
   "source": []
  },
  {
   "cell_type": "code",
   "execution_count": null,
   "id": "d0d68fae-56f4-4152-83b5-f7ce3f087b37",
   "metadata": {
    "tags": []
   },
   "outputs": [],
   "source": [
    "def get_tweets(since,until,username):\n",
    "    tweets = scraper.get_tweets(username,number=1000, \n",
    "                                mode='term',instance=instance,\n",
    "                                since=since,\n",
    "                               until=until)\n",
    "    return tweets"
   ]
  },
  {
   "cell_type": "code",
   "execution_count": null,
   "id": "21013b49-d1fd-485e-8d59-4612b1aa0b62",
   "metadata": {
    "tags": []
   },
   "outputs": [],
   "source": [
    "def process_tweets(tweets,company_id):\n",
    "    store_tweets = []\n",
    "    for tweet in tweets['tweets']:\n",
    "        input_str = tweet.get('date',None)+tweet.get('user',{}).get('profile_id',None)+str(len(tweet.get('text',None)))\n",
    "        store_hash = compute_unique_primary_key(input_str)\n",
    "        date_str = tweet.get('date',None)\n",
    "        if date_str:\n",
    "            # Parse the datetime string, omitting the 'UTC' part\n",
    "            parsed_date = datetime.strptime(date_str, '%b %d, %Y · %I:%M %p UTC')\n",
    "            # Define the UTC timezone\n",
    "            utc = pytz.timezone('UTC')\n",
    "            date_str = utc.localize(parsed_date)\n",
    "            \n",
    "        data = { 'id':str(store_hash),\n",
    "                'text':tweet.get('text',None),\n",
    "                'profile_id':tweet.get('user',{}).get('profile_id',None),\n",
    "                'stats_likes':int(tweet.get('stats',{}).get('likes',0)),\n",
    "                'stats_retweets':int(tweet.get('stats',{}).get('retweets',0)),\n",
    "                'company_id': int(company_id),\n",
    "                'date': date_str\n",
    "        }\n",
    "        store_tweets.append(data)\n",
    "    return store_tweets"
   ]
  },
  {
   "cell_type": "code",
   "execution_count": null,
   "id": "ebc02954-5ad4-42bd-ba5d-a8d7f0b3e825",
   "metadata": {
    "tags": []
   },
   "outputs": [],
   "source": [
    "def store_in_db(tweets):\n",
    "    with Session() as session:\n",
    "        for tweet in tweets:\n",
    "            tweet_item = models.Tweet(**tweet)\n",
    "            try:\n",
    "                session.add(tweet_item)\n",
    "                session.commit()  # Commit each tweet individually\n",
    "            except IntegrityError:\n",
    "                session.rollback()  # Rollback if there's an error\n",
    "                print(f\"Tweet record already exists\")  # More informative error message\n"
   ]
  },
  {
   "cell_type": "code",
   "execution_count": null,
   "id": "b7b35be1-5750-4e8f-bd43-3a3a7d0b23ee",
   "metadata": {},
   "outputs": [],
   "source": [
    "def weekly_intervals_caller(since, until,username,company_id):\n",
    "    start_date = datetime.strptime(since, \"%Y-%m-%d\")\n",
    "    end_date = datetime.strptime(until, \"%Y-%m-%d\")\n",
    "    temp_until = start_date\n",
    "\n",
    "    while temp_until < end_date:\n",
    "        print(start_date)\n",
    "        temp_until = start_date + timedelta(days=7)\n",
    "        # Adjust temp_until to not exceed the end_date\n",
    "        if temp_until > end_date:\n",
    "            temp_until = end_date\n",
    "\n",
    "        tweets = get_tweets(since=start_date.strftime(\"%Y-%m-%d\"), \n",
    "                            until=temp_until.strftime(\"%Y-%m-%d\"),\n",
    "                           username=username)\n",
    "        processed_tweets = process_tweets(tweets,company_id)\n",
    "        store_in_db(processed_tweets)\n",
    "        \n",
    "        # Set the new start_date for the next iteration\n",
    "        start_date = temp_until"
   ]
  },
  {
   "cell_type": "code",
   "execution_count": null,
   "id": "d8440afd-1350-4fd3-bae8-a6f62fbb3c72",
   "metadata": {},
   "outputs": [],
   "source": [
    "instance =\"https://nitter.woodland.cafe\"\n",
    "since = \"2023-01-01\"\n",
    "until = \"2023-01-30\""
   ]
  },
  {
   "cell_type": "code",
   "execution_count": null,
   "id": "9f90d3e0-7987-41ec-abb9-e0c2054e68c2",
   "metadata": {
    "tags": []
   },
   "outputs": [],
   "source": [
    "weekly_intervals_caller(since='2021-11-04',until='2023-11-20',username='@gtbank',company_id=1)"
   ]
  },
  {
   "cell_type": "code",
   "execution_count": null,
   "id": "9ff77b91-4f0e-407c-950d-46063909cb19",
   "metadata": {},
   "outputs": [],
   "source": []
  }
 ],
 "metadata": {
  "kernelspec": {
   "display_name": "Python [conda env:datascience] *",
   "language": "python",
   "name": "conda-env-datascience-py"
  },
  "language_info": {
   "codemirror_mode": {
    "name": "ipython",
    "version": 3
   },
   "file_extension": ".py",
   "mimetype": "text/x-python",
   "name": "python",
   "nbconvert_exporter": "python",
   "pygments_lexer": "ipython3",
   "version": "3.8.18"
  }
 },
 "nbformat": 4,
 "nbformat_minor": 5
}
