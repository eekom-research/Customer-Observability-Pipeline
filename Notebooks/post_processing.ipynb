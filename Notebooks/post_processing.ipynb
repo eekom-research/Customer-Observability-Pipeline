{
 "cells": [
  {
   "cell_type": "code",
   "execution_count": null,
   "id": "8fd39979-c400-4a5d-bc77-ed1fc739274c",
   "metadata": {},
   "outputs": [],
   "source": [
    "from datetime import datetime, timedelta,timezone\n",
    "import pandas as pd\n",
    "import numpy  as np\n",
    "from sklearn import set_config\n",
    "import joblib\n",
    "\n",
    "# from db import Model, Session, engine\n",
    "# from models import Tweet, ProcessedTweet, Company\n",
    "\n",
    "\n",
    "\n",
    "from custom_package.text_processing import normalize_text, tokenizer_func, remove_emojis\n",
    "from custom_package.modeling import GensimLdaTransformer, get_topic_assignment, get_pos_sentiment_proba\n",
    "from custom_package.modeling import topic_mapping_sk_lda, topic_mapping_gensim_lda, topic_mapping_sk_full_lda\n",
    "from custom_package.database import get_raw_tweets, store_processed_tweets"
   ]
  },
  {
   "cell_type": "code",
   "execution_count": null,
   "id": "0a1d6d02",
   "metadata": {},
   "outputs": [],
   "source": [
    "set_config(display='diagram')"
   ]
  },
  {
   "cell_type": "code",
   "execution_count": null,
   "id": "77773856",
   "metadata": {},
   "outputs": [],
   "source": [
    "def get_filtered_tweets(query_limit = 100):\n",
    "    raw_tweets = get_raw_tweets(query_limit)\n",
    "    data = {'id' : [tweet.id for tweet in raw_tweets],\n",
    "        'text' : [remove_emojis(tweet.text) for tweet in raw_tweets],\n",
    "        'company_id' : [tweet.company_id for tweet in raw_tweets],\n",
    "        'date' : [tweet.date for tweet in raw_tweets]\n",
    "        }\n",
    "    filtered_df = pd.DataFrame(data)\n",
    "    return filtered_df"
   ]
  },
  {
   "cell_type": "code",
   "execution_count": null,
   "id": "4fc19193",
   "metadata": {},
   "outputs": [],
   "source": [
    "filtered_df = get_filtered_tweets()"
   ]
  },
  {
   "cell_type": "code",
   "execution_count": null,
   "id": "07d6cf33",
   "metadata": {},
   "outputs": [],
   "source": [
    "filtered_df.head()"
   ]
  },
  {
   "cell_type": "code",
   "execution_count": null,
   "id": "a1c6f605",
   "metadata": {},
   "outputs": [],
   "source": [
    "sk_lda_pipeline = joblib.load('sklearn_LDA_pipeline.joblib')"
   ]
  },
  {
   "cell_type": "code",
   "execution_count": null,
   "id": "d2da7098",
   "metadata": {},
   "outputs": [],
   "source": [
    "print(sk_lda_pipeline)"
   ]
  },
  {
   "cell_type": "code",
   "execution_count": null,
   "id": "51085627",
   "metadata": {},
   "outputs": [],
   "source": [
    "gensim_lda_pipeline = joblib.load('gensim_LDA_pipeline.joblib')"
   ]
  },
  {
   "cell_type": "code",
   "execution_count": null,
   "id": "9d2b05ad",
   "metadata": {},
   "outputs": [],
   "source": [
    "print(gensim_lda_pipeline)"
   ]
  },
  {
   "cell_type": "code",
   "execution_count": null,
   "id": "8bce548b",
   "metadata": {},
   "outputs": [],
   "source": [
    "sk_full_lda_pipeline = joblib.load('full_lda_pipeline.joblib')"
   ]
  },
  {
   "cell_type": "code",
   "execution_count": null,
   "id": "3464581d",
   "metadata": {},
   "outputs": [],
   "source": [
    "print(sk_full_lda_pipeline)"
   ]
  },
  {
   "cell_type": "code",
   "execution_count": null,
   "id": "9335a962",
   "metadata": {},
   "outputs": [],
   "source": [
    "sentiment_analysis_pipeline = joblib.load('sentiment_analysis_pipeline.joblib')"
   ]
  },
  {
   "cell_type": "code",
   "execution_count": null,
   "id": "ac523632",
   "metadata": {},
   "outputs": [],
   "source": [
    "print(sentiment_analysis_pipeline)"
   ]
  },
  {
   "cell_type": "code",
   "execution_count": null,
   "id": "e0416bf8",
   "metadata": {},
   "outputs": [],
   "source": [
    "#filtered_df = pd.read_csv('gensim_topic.csv',usecols=['index','text','date','Sentiment'])"
   ]
  },
  {
   "cell_type": "code",
   "execution_count": null,
   "id": "67296231",
   "metadata": {},
   "outputs": [],
   "source": [
    "filtered_df.info()"
   ]
  },
  {
   "cell_type": "code",
   "execution_count": null,
   "id": "7b18d457",
   "metadata": {},
   "outputs": [],
   "source": [
    "check_text = filtered_df['text'].iloc[0:10].to_list()"
   ]
  },
  {
   "cell_type": "code",
   "execution_count": null,
   "id": "9be8019b",
   "metadata": {},
   "outputs": [],
   "source": [
    "print(sk_full_lda_pipeline.transform(check_text).round(3))"
   ]
  },
  {
   "cell_type": "code",
   "execution_count": null,
   "id": "e250e41a",
   "metadata": {},
   "outputs": [],
   "source": [
    "print(sk_lda_pipeline.transform(check_text).round(3))"
   ]
  },
  {
   "cell_type": "code",
   "execution_count": null,
   "id": "156d9d76",
   "metadata": {},
   "outputs": [],
   "source": [
    "print(gensim_lda_pipeline.transform(check_text))"
   ]
  },
  {
   "cell_type": "code",
   "execution_count": null,
   "id": "0b987ff8",
   "metadata": {},
   "outputs": [],
   "source": [
    "sk_result = sk_lda_pipeline.transform(check_text).round(3)\n",
    "sk_full_result = sk_full_lda_pipeline.transform(check_text).round(3)\n",
    "gensim_result = gensim_lda_pipeline.transform(check_text)\n",
    "sentiment_result = sentiment_analysis_pipeline(check_text)"
   ]
  },
  {
   "cell_type": "code",
   "execution_count": null,
   "id": "1e30469d",
   "metadata": {},
   "outputs": [],
   "source": [
    "for res in sentiment_result:\n",
    "    print(get_pos_sentiment_proba(res))"
   ]
  },
  {
   "cell_type": "code",
   "execution_count": null,
   "id": "f07ef55c",
   "metadata": {},
   "outputs": [],
   "source": [
    "for index,text in enumerate(check_text):\n",
    "    print(index + 1)\n",
    "    print(text)"
   ]
  },
  {
   "cell_type": "code",
   "execution_count": null,
   "id": "55eec5f7",
   "metadata": {},
   "outputs": [],
   "source": [
    "for index,res in enumerate(sk_full_result):\n",
    "    print(index + 1)\n",
    "    print(get_topic_assignment(res, topic_mapping_sk_full_lda))"
   ]
  },
  {
   "cell_type": "code",
   "execution_count": null,
   "id": "f76e3d57",
   "metadata": {},
   "outputs": [],
   "source": [
    "for index, res in enumerate(sk_result):\n",
    "    print(index + 1)\n",
    "    print(get_topic_assignment(res, topic_mapping_sk_lda))"
   ]
  },
  {
   "cell_type": "code",
   "execution_count": null,
   "id": "7dfdcc2d",
   "metadata": {},
   "outputs": [],
   "source": [
    "for index, res in enumerate(gensim_result):\n",
    "    print(index + 1)\n",
    "    print(get_topic_assignment(res, topic_mapping_gensim_lda))"
   ]
  },
  {
   "cell_type": "code",
   "execution_count": null,
   "id": "0c3e8891",
   "metadata": {},
   "outputs": [],
   "source": [
    "def apply_topic_to_df(filtered_df):\n",
    "    sentiment_result = sentiment_analysis_pipeline(filtered_df['text'].to_list())\n",
    "    sentiment_result = [get_pos_sentiment_proba(array) for array in sentiment_result]\n",
    "    filtered_df['sentiment'] = sentiment_result\n",
    "    sk_full_result = sk_full_lda_pipeline.transform(filtered_df['text'])\n",
    "    sk_full_result = [get_topic_assignment(array,topic_mapping_sk_full_lda) for array in sk_full_result]\n",
    "    filtered_df['sk_full_topic'] = sk_full_result\n",
    "    sk_result = sk_lda_pipeline.transform(filtered_df['text'])\n",
    "    sk_result = [get_topic_assignment(array,topic_mapping_sk_lda) for array in sk_result]\n",
    "    filtered_df['sk_topic'] = sk_result\n",
    "    gensim_result = gensim_lda_pipeline.transform(filtered_df['text'])\n",
    "    gensim_result = [get_topic_assignment(array,topic_mapping_gensim_lda) for array in gensim_result]\n",
    "    filtered_df['gensim_topic'] = gensim_result\n",
    "    return filtered_df"
   ]
  },
  {
   "cell_type": "code",
   "execution_count": null,
   "id": "4c9f916c",
   "metadata": {},
   "outputs": [],
   "source": [
    "filtered_df = apply_topic_to_df(filtered_df)"
   ]
  },
  {
   "cell_type": "code",
   "execution_count": null,
   "id": "38442031",
   "metadata": {},
   "outputs": [],
   "source": [
    "filtered_df.head()"
   ]
  },
  {
   "cell_type": "code",
   "execution_count": null,
   "id": "a7fa9531",
   "metadata": {},
   "outputs": [],
   "source": [
    "store_processed_tweets(filtered_df)"
   ]
  },
  {
   "cell_type": "code",
   "execution_count": null,
   "id": "d0e70da3",
   "metadata": {},
   "outputs": [],
   "source": [
    "store_processed_tweets(apply_topic_to_df(get_filtered_tweets()))"
   ]
  },
  {
   "cell_type": "code",
   "execution_count": null,
   "id": "a70b0d44",
   "metadata": {},
   "outputs": [],
   "source": [
    "for i in range(round(185)):\n",
    "    try:\n",
    "        store_processed_tweets(apply_topic_to_df(get_filtered_tweets(1000)))\n",
    "    except Exception as e:\n",
    "        print(e)"
   ]
  },
  {
   "cell_type": "code",
   "execution_count": null,
   "id": "b32415de",
   "metadata": {},
   "outputs": [],
   "source": [
    "sk_result = sk_lda_pipeline.transform(filtered_df['text'])"
   ]
  },
  {
   "cell_type": "code",
   "execution_count": null,
   "id": "405bc4b0",
   "metadata": {},
   "outputs": [],
   "source": [
    "sk_result = list(sk_result)"
   ]
  },
  {
   "cell_type": "code",
   "execution_count": null,
   "id": "d5d90395",
   "metadata": {},
   "outputs": [],
   "source": [
    "sk_result[40-1]"
   ]
  },
  {
   "cell_type": "code",
   "execution_count": null,
   "id": "23cce2c5",
   "metadata": {},
   "outputs": [],
   "source": [
    "filtered_df['text'].iloc[38:40]"
   ]
  },
  {
   "cell_type": "code",
   "execution_count": null,
   "id": "4668de3d",
   "metadata": {},
   "outputs": [],
   "source": [
    "normalize_text(filtered_df['text'].iloc[38:40])"
   ]
  },
  {
   "cell_type": "code",
   "execution_count": null,
   "id": "8808d743",
   "metadata": {},
   "outputs": [],
   "source": []
  },
  {
   "cell_type": "code",
   "execution_count": null,
   "id": "b1e3d813",
   "metadata": {},
   "outputs": [],
   "source": []
  }
 ],
 "metadata": {
  "kernelspec": {
   "display_name": "Python [conda env:datascience] *",
   "language": "python",
   "name": "conda-env-datascience-py"
  },
  "language_info": {
   "codemirror_mode": {
    "name": "ipython",
    "version": 3
   },
   "file_extension": ".py",
   "mimetype": "text/x-python",
   "name": "python",
   "nbconvert_exporter": "python",
   "pygments_lexer": "ipython3",
   "version": "3.8.18"
  }
 },
 "nbformat": 4,
 "nbformat_minor": 5
}
